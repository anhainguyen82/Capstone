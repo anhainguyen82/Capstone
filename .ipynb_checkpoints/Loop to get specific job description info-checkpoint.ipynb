{
 "cells": [
  {
   "cell_type": "code",
   "execution_count": 1,
   "metadata": {},
   "outputs": [],
   "source": [
    "import requests\n",
    "import lxml.html\n",
    "from bs4 import BeautifulSoup\n",
    "import re\n",
    "import pandas as pd"
   ]
  },
  {
   "cell_type": "markdown",
   "metadata": {},
   "source": [
    "# Experimented with getting any bullets after a 'bold' tag of \"Qualifications\".... It worked!"
   ]
  },
  {
   "cell_type": "code",
   "execution_count": 2,
   "metadata": {},
   "outputs": [],
   "source": [
    "URL='https://www.indeed.com/viewjob?jk=11baba484db23433&from=serp&vjs=3'\n",
    "r=requests.get(URL)\n",
    "page=r.text\n",
    "soup=BeautifulSoup(page,'lxml')"
   ]
  },
  {
   "cell_type": "code",
   "execution_count": 3,
   "metadata": {},
   "outputs": [
    {
     "name": "stdout",
     "output_type": "stream",
     "text": [
      "\n",
      "Currently has or is in the process of obtaining their BA/BS or Masters in Computer Science, Mathematics, Economics, Statistics, Applied Sciences like Biostatistics, Physics, Chemistry, Computational Neurology\n",
      "\n",
      "Some Engineering experience and or project course work using large data systems on SQL, Hadoop, etc.\n",
      "\n",
      "Proficiency using one or more programming or scripting language to work with data such as: Python, Perl, or C#.\n",
      "\n",
      "Some experience and or project course work performing data analysis and applying statistics working with tools such as: Excel, R, MATLAB, AMPL, or SAS.\n",
      "\n",
      "Some experience and or project course work with product and service telemetry systems.\n",
      "\n",
      "Some A/B Testing or experimentation (this can be from conducting real life science experiments, hypothesis testing in stats etc.) Not required but ideal.\n",
      "\n",
      "Some experience or course work applying basic ML to a type of data and or used algorithms to conduct experiments on data. Machine Learning strongly encouraged.\n",
      "\n",
      "Passion to learn from your peers, manager, and other stakeholders in the Data Science domain.\n",
      "\n",
      "Ability to interact with peers and stakeholders to drive product and business impact.\n",
      "\n",
      "Strong interpersonal and communications skills.\n"
     ]
    }
   ],
   "source": [
    "Qualifications_tag = soup.find('b', text=re.compile('Qualifications'))\n",
    "try:\n",
    "    ul_tag = Qualifications_tag.find_next('ul')\n",
    "except AttributeError: \n",
    "    print(\"None Found\")\n",
    "else:\n",
    "    for li_tag in ul_tag:\n",
    "        print(li_tag.string)"
   ]
  },
  {
   "cell_type": "markdown",
   "metadata": {},
   "source": [
    "# Now to put it in a loop!\n",
    "# First part of the code is just getting the website links to loop through."
   ]
  },
  {
   "cell_type": "code",
   "execution_count": 4,
   "metadata": {},
   "outputs": [
    {
     "name": "stdout",
     "output_type": "stream",
     "text": [
      "['/rc/clk?jk=267e7cf7de2959c7&fccid=de71a49b535e21cb&vjs=3']\n",
      "['/rc/clk?jk=267e7cf7de2959c7&fccid=de71a49b535e21cb&vjs=3', '/rc/clk?jk=bf79d538a6aaa83f&fccid=f1374be6a45f4b8a&vjs=3']\n",
      "['/rc/clk?jk=267e7cf7de2959c7&fccid=de71a49b535e21cb&vjs=3', '/rc/clk?jk=bf79d538a6aaa83f&fccid=f1374be6a45f4b8a&vjs=3', '/rc/clk?jk=73f4ee9a0cea4352&fccid=be240c643a8631c5&vjs=3']\n",
      "['/rc/clk?jk=267e7cf7de2959c7&fccid=de71a49b535e21cb&vjs=3', '/rc/clk?jk=bf79d538a6aaa83f&fccid=f1374be6a45f4b8a&vjs=3', '/rc/clk?jk=73f4ee9a0cea4352&fccid=be240c643a8631c5&vjs=3', '/rc/clk?jk=83e3f665b22e5695&fccid=f01127702f08b4dc&vjs=3']\n",
      "['/rc/clk?jk=267e7cf7de2959c7&fccid=de71a49b535e21cb&vjs=3', '/rc/clk?jk=bf79d538a6aaa83f&fccid=f1374be6a45f4b8a&vjs=3', '/rc/clk?jk=73f4ee9a0cea4352&fccid=be240c643a8631c5&vjs=3', '/rc/clk?jk=83e3f665b22e5695&fccid=f01127702f08b4dc&vjs=3', '/rc/clk?jk=11baba484db23433&fccid=734cb5a01ee60f80&vjs=3']\n",
      "['/rc/clk?jk=267e7cf7de2959c7&fccid=de71a49b535e21cb&vjs=3', '/rc/clk?jk=bf79d538a6aaa83f&fccid=f1374be6a45f4b8a&vjs=3', '/rc/clk?jk=73f4ee9a0cea4352&fccid=be240c643a8631c5&vjs=3', '/rc/clk?jk=83e3f665b22e5695&fccid=f01127702f08b4dc&vjs=3', '/rc/clk?jk=11baba484db23433&fccid=734cb5a01ee60f80&vjs=3', '/rc/clk?jk=7386499cff06330e&fccid=8d3a623cfb3b22eb&vjs=3']\n",
      "['/rc/clk?jk=267e7cf7de2959c7&fccid=de71a49b535e21cb&vjs=3', '/rc/clk?jk=bf79d538a6aaa83f&fccid=f1374be6a45f4b8a&vjs=3', '/rc/clk?jk=73f4ee9a0cea4352&fccid=be240c643a8631c5&vjs=3', '/rc/clk?jk=83e3f665b22e5695&fccid=f01127702f08b4dc&vjs=3', '/rc/clk?jk=11baba484db23433&fccid=734cb5a01ee60f80&vjs=3', '/rc/clk?jk=7386499cff06330e&fccid=8d3a623cfb3b22eb&vjs=3', '/rc/clk?jk=628e975ad17e26fb&fccid=0261b4753802fd26&vjs=3']\n",
      "['/rc/clk?jk=267e7cf7de2959c7&fccid=de71a49b535e21cb&vjs=3', '/rc/clk?jk=bf79d538a6aaa83f&fccid=f1374be6a45f4b8a&vjs=3', '/rc/clk?jk=73f4ee9a0cea4352&fccid=be240c643a8631c5&vjs=3', '/rc/clk?jk=83e3f665b22e5695&fccid=f01127702f08b4dc&vjs=3', '/rc/clk?jk=11baba484db23433&fccid=734cb5a01ee60f80&vjs=3', '/rc/clk?jk=7386499cff06330e&fccid=8d3a623cfb3b22eb&vjs=3', '/rc/clk?jk=628e975ad17e26fb&fccid=0261b4753802fd26&vjs=3', '/rc/clk?jk=42e7131e05fbcde9&fccid=877cae5cde4da80e&vjs=3']\n",
      "['/rc/clk?jk=267e7cf7de2959c7&fccid=de71a49b535e21cb&vjs=3', '/rc/clk?jk=bf79d538a6aaa83f&fccid=f1374be6a45f4b8a&vjs=3', '/rc/clk?jk=73f4ee9a0cea4352&fccid=be240c643a8631c5&vjs=3', '/rc/clk?jk=83e3f665b22e5695&fccid=f01127702f08b4dc&vjs=3', '/rc/clk?jk=11baba484db23433&fccid=734cb5a01ee60f80&vjs=3', '/rc/clk?jk=7386499cff06330e&fccid=8d3a623cfb3b22eb&vjs=3', '/rc/clk?jk=628e975ad17e26fb&fccid=0261b4753802fd26&vjs=3', '/rc/clk?jk=42e7131e05fbcde9&fccid=877cae5cde4da80e&vjs=3', '/rc/clk?jk=b47a7f520ef11ce6&fccid=50597ebf467edd46&vjs=3']\n",
      "['/rc/clk?jk=267e7cf7de2959c7&fccid=de71a49b535e21cb&vjs=3', '/rc/clk?jk=bf79d538a6aaa83f&fccid=f1374be6a45f4b8a&vjs=3', '/rc/clk?jk=73f4ee9a0cea4352&fccid=be240c643a8631c5&vjs=3', '/rc/clk?jk=83e3f665b22e5695&fccid=f01127702f08b4dc&vjs=3', '/rc/clk?jk=11baba484db23433&fccid=734cb5a01ee60f80&vjs=3', '/rc/clk?jk=7386499cff06330e&fccid=8d3a623cfb3b22eb&vjs=3', '/rc/clk?jk=628e975ad17e26fb&fccid=0261b4753802fd26&vjs=3', '/rc/clk?jk=42e7131e05fbcde9&fccid=877cae5cde4da80e&vjs=3', '/rc/clk?jk=b47a7f520ef11ce6&fccid=50597ebf467edd46&vjs=3', '/rc/clk?jk=0ee0ae6ba0ed34f5&fccid=35d653c09c2712b6&vjs=3']\n",
      "['/rc/clk?jk=267e7cf7de2959c7&fccid=de71a49b535e21cb&vjs=3', '/rc/clk?jk=bf79d538a6aaa83f&fccid=f1374be6a45f4b8a&vjs=3', '/rc/clk?jk=73f4ee9a0cea4352&fccid=be240c643a8631c5&vjs=3', '/rc/clk?jk=83e3f665b22e5695&fccid=f01127702f08b4dc&vjs=3', '/rc/clk?jk=11baba484db23433&fccid=734cb5a01ee60f80&vjs=3', '/rc/clk?jk=7386499cff06330e&fccid=8d3a623cfb3b22eb&vjs=3', '/rc/clk?jk=628e975ad17e26fb&fccid=0261b4753802fd26&vjs=3', '/rc/clk?jk=42e7131e05fbcde9&fccid=877cae5cde4da80e&vjs=3', '/rc/clk?jk=b47a7f520ef11ce6&fccid=50597ebf467edd46&vjs=3', '/rc/clk?jk=0ee0ae6ba0ed34f5&fccid=35d653c09c2712b6&vjs=3', '/rc/clk?jk=1942a17d2bd166e1&fccid=ae0c894528aa6eee&vjs=3']\n",
      "['/rc/clk?jk=267e7cf7de2959c7&fccid=de71a49b535e21cb&vjs=3', '/rc/clk?jk=bf79d538a6aaa83f&fccid=f1374be6a45f4b8a&vjs=3', '/rc/clk?jk=73f4ee9a0cea4352&fccid=be240c643a8631c5&vjs=3', '/rc/clk?jk=83e3f665b22e5695&fccid=f01127702f08b4dc&vjs=3', '/rc/clk?jk=11baba484db23433&fccid=734cb5a01ee60f80&vjs=3', '/rc/clk?jk=7386499cff06330e&fccid=8d3a623cfb3b22eb&vjs=3', '/rc/clk?jk=628e975ad17e26fb&fccid=0261b4753802fd26&vjs=3', '/rc/clk?jk=42e7131e05fbcde9&fccid=877cae5cde4da80e&vjs=3', '/rc/clk?jk=b47a7f520ef11ce6&fccid=50597ebf467edd46&vjs=3', '/rc/clk?jk=0ee0ae6ba0ed34f5&fccid=35d653c09c2712b6&vjs=3', '/rc/clk?jk=1942a17d2bd166e1&fccid=ae0c894528aa6eee&vjs=3', '/rc/clk?jk=f5dc0ae712778b2a&fccid=87296c430fc584e1&vjs=3']\n",
      "['/rc/clk?jk=267e7cf7de2959c7&fccid=de71a49b535e21cb&vjs=3', '/rc/clk?jk=bf79d538a6aaa83f&fccid=f1374be6a45f4b8a&vjs=3', '/rc/clk?jk=73f4ee9a0cea4352&fccid=be240c643a8631c5&vjs=3', '/rc/clk?jk=83e3f665b22e5695&fccid=f01127702f08b4dc&vjs=3', '/rc/clk?jk=11baba484db23433&fccid=734cb5a01ee60f80&vjs=3', '/rc/clk?jk=7386499cff06330e&fccid=8d3a623cfb3b22eb&vjs=3', '/rc/clk?jk=628e975ad17e26fb&fccid=0261b4753802fd26&vjs=3', '/rc/clk?jk=42e7131e05fbcde9&fccid=877cae5cde4da80e&vjs=3', '/rc/clk?jk=b47a7f520ef11ce6&fccid=50597ebf467edd46&vjs=3', '/rc/clk?jk=0ee0ae6ba0ed34f5&fccid=35d653c09c2712b6&vjs=3', '/rc/clk?jk=1942a17d2bd166e1&fccid=ae0c894528aa6eee&vjs=3', '/rc/clk?jk=f5dc0ae712778b2a&fccid=87296c430fc584e1&vjs=3', '/rc/clk?jk=f7a1c4b21d7446a3&fccid=bf49b2e47bbdeffa&vjs=3']\n",
      "['/rc/clk?jk=267e7cf7de2959c7&fccid=de71a49b535e21cb&vjs=3', '/rc/clk?jk=bf79d538a6aaa83f&fccid=f1374be6a45f4b8a&vjs=3', '/rc/clk?jk=73f4ee9a0cea4352&fccid=be240c643a8631c5&vjs=3', '/rc/clk?jk=83e3f665b22e5695&fccid=f01127702f08b4dc&vjs=3', '/rc/clk?jk=11baba484db23433&fccid=734cb5a01ee60f80&vjs=3', '/rc/clk?jk=7386499cff06330e&fccid=8d3a623cfb3b22eb&vjs=3', '/rc/clk?jk=628e975ad17e26fb&fccid=0261b4753802fd26&vjs=3', '/rc/clk?jk=42e7131e05fbcde9&fccid=877cae5cde4da80e&vjs=3', '/rc/clk?jk=b47a7f520ef11ce6&fccid=50597ebf467edd46&vjs=3', '/rc/clk?jk=0ee0ae6ba0ed34f5&fccid=35d653c09c2712b6&vjs=3', '/rc/clk?jk=1942a17d2bd166e1&fccid=ae0c894528aa6eee&vjs=3', '/rc/clk?jk=f5dc0ae712778b2a&fccid=87296c430fc584e1&vjs=3', '/rc/clk?jk=f7a1c4b21d7446a3&fccid=bf49b2e47bbdeffa&vjs=3', '/rc/clk?jk=2586022bd1e58e4e&fccid=750bb2e27e97e3c1&vjs=3']\n",
      "['/rc/clk?jk=267e7cf7de2959c7&fccid=de71a49b535e21cb&vjs=3', '/rc/clk?jk=bf79d538a6aaa83f&fccid=f1374be6a45f4b8a&vjs=3', '/rc/clk?jk=73f4ee9a0cea4352&fccid=be240c643a8631c5&vjs=3', '/rc/clk?jk=83e3f665b22e5695&fccid=f01127702f08b4dc&vjs=3', '/rc/clk?jk=11baba484db23433&fccid=734cb5a01ee60f80&vjs=3', '/rc/clk?jk=7386499cff06330e&fccid=8d3a623cfb3b22eb&vjs=3', '/rc/clk?jk=628e975ad17e26fb&fccid=0261b4753802fd26&vjs=3', '/rc/clk?jk=42e7131e05fbcde9&fccid=877cae5cde4da80e&vjs=3', '/rc/clk?jk=b47a7f520ef11ce6&fccid=50597ebf467edd46&vjs=3', '/rc/clk?jk=0ee0ae6ba0ed34f5&fccid=35d653c09c2712b6&vjs=3', '/rc/clk?jk=1942a17d2bd166e1&fccid=ae0c894528aa6eee&vjs=3', '/rc/clk?jk=f5dc0ae712778b2a&fccid=87296c430fc584e1&vjs=3', '/rc/clk?jk=f7a1c4b21d7446a3&fccid=bf49b2e47bbdeffa&vjs=3', '/rc/clk?jk=2586022bd1e58e4e&fccid=750bb2e27e97e3c1&vjs=3', '/rc/clk?jk=5af566d208e9064c&fccid=cafd7a52b7f2b408&vjs=3']\n",
      "['/rc/clk?jk=267e7cf7de2959c7&fccid=de71a49b535e21cb&vjs=3', '/rc/clk?jk=bf79d538a6aaa83f&fccid=f1374be6a45f4b8a&vjs=3', '/rc/clk?jk=73f4ee9a0cea4352&fccid=be240c643a8631c5&vjs=3', '/rc/clk?jk=83e3f665b22e5695&fccid=f01127702f08b4dc&vjs=3', '/rc/clk?jk=11baba484db23433&fccid=734cb5a01ee60f80&vjs=3', '/rc/clk?jk=7386499cff06330e&fccid=8d3a623cfb3b22eb&vjs=3', '/rc/clk?jk=628e975ad17e26fb&fccid=0261b4753802fd26&vjs=3', '/rc/clk?jk=42e7131e05fbcde9&fccid=877cae5cde4da80e&vjs=3', '/rc/clk?jk=b47a7f520ef11ce6&fccid=50597ebf467edd46&vjs=3', '/rc/clk?jk=0ee0ae6ba0ed34f5&fccid=35d653c09c2712b6&vjs=3', '/rc/clk?jk=1942a17d2bd166e1&fccid=ae0c894528aa6eee&vjs=3', '/rc/clk?jk=f5dc0ae712778b2a&fccid=87296c430fc584e1&vjs=3', '/rc/clk?jk=f7a1c4b21d7446a3&fccid=bf49b2e47bbdeffa&vjs=3', '/rc/clk?jk=2586022bd1e58e4e&fccid=750bb2e27e97e3c1&vjs=3', '/rc/clk?jk=5af566d208e9064c&fccid=cafd7a52b7f2b408&vjs=3', '/rc/clk?jk=d0a9df5389de95fb&fccid=643b9433027b4c5d&vjs=3']\n",
      "['/rc/clk?jk=267e7cf7de2959c7&fccid=de71a49b535e21cb&vjs=3', '/rc/clk?jk=bf79d538a6aaa83f&fccid=f1374be6a45f4b8a&vjs=3', '/rc/clk?jk=73f4ee9a0cea4352&fccid=be240c643a8631c5&vjs=3', '/rc/clk?jk=83e3f665b22e5695&fccid=f01127702f08b4dc&vjs=3', '/rc/clk?jk=11baba484db23433&fccid=734cb5a01ee60f80&vjs=3', '/rc/clk?jk=7386499cff06330e&fccid=8d3a623cfb3b22eb&vjs=3', '/rc/clk?jk=628e975ad17e26fb&fccid=0261b4753802fd26&vjs=3', '/rc/clk?jk=42e7131e05fbcde9&fccid=877cae5cde4da80e&vjs=3', '/rc/clk?jk=b47a7f520ef11ce6&fccid=50597ebf467edd46&vjs=3', '/rc/clk?jk=0ee0ae6ba0ed34f5&fccid=35d653c09c2712b6&vjs=3', '/rc/clk?jk=1942a17d2bd166e1&fccid=ae0c894528aa6eee&vjs=3', '/rc/clk?jk=f5dc0ae712778b2a&fccid=87296c430fc584e1&vjs=3', '/rc/clk?jk=f7a1c4b21d7446a3&fccid=bf49b2e47bbdeffa&vjs=3', '/rc/clk?jk=2586022bd1e58e4e&fccid=750bb2e27e97e3c1&vjs=3', '/rc/clk?jk=5af566d208e9064c&fccid=cafd7a52b7f2b408&vjs=3', '/rc/clk?jk=d0a9df5389de95fb&fccid=643b9433027b4c5d&vjs=3', '/rc/clk?jk=44dda7c33052dff9&fccid=16ea4240a5e3a1d7&vjs=3']\n",
      "['/rc/clk?jk=267e7cf7de2959c7&fccid=de71a49b535e21cb&vjs=3', '/rc/clk?jk=bf79d538a6aaa83f&fccid=f1374be6a45f4b8a&vjs=3', '/rc/clk?jk=73f4ee9a0cea4352&fccid=be240c643a8631c5&vjs=3', '/rc/clk?jk=83e3f665b22e5695&fccid=f01127702f08b4dc&vjs=3', '/rc/clk?jk=11baba484db23433&fccid=734cb5a01ee60f80&vjs=3', '/rc/clk?jk=7386499cff06330e&fccid=8d3a623cfb3b22eb&vjs=3', '/rc/clk?jk=628e975ad17e26fb&fccid=0261b4753802fd26&vjs=3', '/rc/clk?jk=42e7131e05fbcde9&fccid=877cae5cde4da80e&vjs=3', '/rc/clk?jk=b47a7f520ef11ce6&fccid=50597ebf467edd46&vjs=3', '/rc/clk?jk=0ee0ae6ba0ed34f5&fccid=35d653c09c2712b6&vjs=3', '/rc/clk?jk=1942a17d2bd166e1&fccid=ae0c894528aa6eee&vjs=3', '/rc/clk?jk=f5dc0ae712778b2a&fccid=87296c430fc584e1&vjs=3', '/rc/clk?jk=f7a1c4b21d7446a3&fccid=bf49b2e47bbdeffa&vjs=3', '/rc/clk?jk=2586022bd1e58e4e&fccid=750bb2e27e97e3c1&vjs=3', '/rc/clk?jk=5af566d208e9064c&fccid=cafd7a52b7f2b408&vjs=3', '/rc/clk?jk=d0a9df5389de95fb&fccid=643b9433027b4c5d&vjs=3', '/rc/clk?jk=44dda7c33052dff9&fccid=16ea4240a5e3a1d7&vjs=3', '/rc/clk?jk=9978927453c6ea3d&fccid=cb8355041fe4a920&vjs=3']\n"
     ]
    }
   ],
   "source": [
    "#Doing this with up to 20 first until I know it works....\n",
    "\n",
    "url_template=\"http://www.indeed.com/jobs?q=data_scientist&1=USA&start={}\"\n",
    "max_results=20\n",
    "Linkdf=[]\n",
    "\n",
    "for start in range(0, max_results, 10):\n",
    "    url=url_template.format(start)\n",
    "    html=requests.get(url)\n",
    "    soup=BeautifulSoup(html.content,'html.parser', from_encoding=\"utf-8\")\n",
    "    \n",
    "    #for each in soup.find_all(a_=\"href\"):\n",
    "    page_links=soup.find_all('a',{'href':re.compile(\"/rc/\")})\n",
    "    for items in page_links:\n",
    "        Linkdf.append(items['href'])\n",
    "        print(Linkdf) #Sanity Check"
   ]
  },
  {
   "cell_type": "code",
   "execution_count": 5,
   "metadata": {},
   "outputs": [
    {
     "data": {
      "text/plain": [
       "18"
      ]
     },
     "execution_count": 5,
     "metadata": {},
     "output_type": "execute_result"
    }
   ],
   "source": [
    "len(Linkdf)"
   ]
  },
  {
   "cell_type": "code",
   "execution_count": 6,
   "metadata": {},
   "outputs": [],
   "source": [
    "#Create array with just last one (use the code above to use the right length)\n",
    "Finallinks=Linkdf[:18]\n",
    "\n",
    "#This code allows the code to display the full website instead of truncating\n",
    "pd.set_option('display.max_colwidth',-1)\n",
    "\n",
    "#Moving it to a data frame\n",
    "data = {'links':Finallinks}\n",
    "df = pd.DataFrame(data, columns=['links'])\n",
    "\n",
    "#append indeed.com to the front of each\n",
    "df['Web'] = 'https://www.indeed.com'\n",
    "df['URL'] = df.Web.str.cat(df.links)\n",
    "\n"
   ]
  },
  {
   "cell_type": "code",
   "execution_count": 7,
   "metadata": {},
   "outputs": [
    {
     "name": "stdout",
     "output_type": "stream",
     "text": [
      "['https://www.indeed.com/rc/clk?jk=267e7cf7de2959c7&fccid=de71a49b535e21cb&vjs=3', 'https://www.indeed.com/rc/clk?jk=bf79d538a6aaa83f&fccid=f1374be6a45f4b8a&vjs=3', 'https://www.indeed.com/rc/clk?jk=73f4ee9a0cea4352&fccid=be240c643a8631c5&vjs=3', 'https://www.indeed.com/rc/clk?jk=83e3f665b22e5695&fccid=f01127702f08b4dc&vjs=3', 'https://www.indeed.com/rc/clk?jk=11baba484db23433&fccid=734cb5a01ee60f80&vjs=3', 'https://www.indeed.com/rc/clk?jk=7386499cff06330e&fccid=8d3a623cfb3b22eb&vjs=3', 'https://www.indeed.com/rc/clk?jk=628e975ad17e26fb&fccid=0261b4753802fd26&vjs=3', 'https://www.indeed.com/rc/clk?jk=42e7131e05fbcde9&fccid=877cae5cde4da80e&vjs=3', 'https://www.indeed.com/rc/clk?jk=b47a7f520ef11ce6&fccid=50597ebf467edd46&vjs=3', 'https://www.indeed.com/rc/clk?jk=0ee0ae6ba0ed34f5&fccid=35d653c09c2712b6&vjs=3', 'https://www.indeed.com/rc/clk?jk=1942a17d2bd166e1&fccid=ae0c894528aa6eee&vjs=3', 'https://www.indeed.com/rc/clk?jk=f5dc0ae712778b2a&fccid=87296c430fc584e1&vjs=3', 'https://www.indeed.com/rc/clk?jk=f7a1c4b21d7446a3&fccid=bf49b2e47bbdeffa&vjs=3', 'https://www.indeed.com/rc/clk?jk=2586022bd1e58e4e&fccid=750bb2e27e97e3c1&vjs=3', 'https://www.indeed.com/rc/clk?jk=5af566d208e9064c&fccid=cafd7a52b7f2b408&vjs=3', 'https://www.indeed.com/rc/clk?jk=d0a9df5389de95fb&fccid=643b9433027b4c5d&vjs=3', 'https://www.indeed.com/rc/clk?jk=44dda7c33052dff9&fccid=16ea4240a5e3a1d7&vjs=3', 'https://www.indeed.com/rc/clk?jk=9978927453c6ea3d&fccid=cb8355041fe4a920&vjs=3']\n"
     ]
    }
   ],
   "source": [
    "#pull out just a list of the websites.\n",
    "websites=list(df['URL'])\n",
    "print(websites) #Sanity Check"
   ]
  },
  {
   "cell_type": "markdown",
   "metadata": {},
   "source": [
    "## This is where the loop for Qualifications starts"
   ]
  },
  {
   "cell_type": "code",
   "execution_count": 12,
   "metadata": {},
   "outputs": [],
   "source": [
    "Qualifications=[]\n",
    "\n",
    "for url in websites:\n",
    "    r=requests.get(url)\n",
    "    page=r.text\n",
    "    soup=BeautifulSoup(page,'lxml')\n",
    "    #soup=BeautifulSoup(r.text, 'html.parser')\n",
    "    \n",
    "    Qualifications_tag = soup.find('b', text=re.compile('Qualifications'))\n",
    "    try:\n",
    "        ul_tag = Qualifications_tag.find_next('ul')\n",
    "    except AttributeError: \n",
    "        Qualification=\"None Found\"\n",
    "    else:\n",
    "        for li_tag in ul_tag:\n",
    "            Qualification=li_tag.string\n",
    "    \n",
    "    Qualifications.append(Qualification)"
   ]
  },
  {
   "cell_type": "code",
   "execution_count": 15,
   "metadata": {},
   "outputs": [
    {
     "data": {
      "text/html": [
       "<div>\n",
       "<style scoped>\n",
       "    .dataframe tbody tr th:only-of-type {\n",
       "        vertical-align: middle;\n",
       "    }\n",
       "\n",
       "    .dataframe tbody tr th {\n",
       "        vertical-align: top;\n",
       "    }\n",
       "\n",
       "    .dataframe thead th {\n",
       "        text-align: right;\n",
       "    }\n",
       "</style>\n",
       "<table border=\"1\" class=\"dataframe\">\n",
       "  <thead>\n",
       "    <tr style=\"text-align: right;\">\n",
       "      <th></th>\n",
       "      <th>Qualifications</th>\n",
       "    </tr>\n",
       "  </thead>\n",
       "  <tbody>\n",
       "    <tr>\n",
       "      <th>0</th>\n",
       "      <td>None Found</td>\n",
       "    </tr>\n",
       "    <tr>\n",
       "      <th>1</th>\n",
       "      <td>\\nImplementing MVC architecture</td>\n",
       "    </tr>\n",
       "    <tr>\n",
       "      <th>2</th>\n",
       "      <td>None Found</td>\n",
       "    </tr>\n",
       "    <tr>\n",
       "      <th>3</th>\n",
       "      <td>\\nProfiling, cross-platform adaptively, are preferred</td>\n",
       "    </tr>\n",
       "    <tr>\n",
       "      <th>4</th>\n",
       "      <td>\\nStrong interpersonal and communications skills.</td>\n",
       "    </tr>\n",
       "    <tr>\n",
       "      <th>5</th>\n",
       "      <td>None Found</td>\n",
       "    </tr>\n",
       "    <tr>\n",
       "      <th>6</th>\n",
       "      <td>None Found</td>\n",
       "    </tr>\n",
       "    <tr>\n",
       "      <th>7</th>\n",
       "      <td>None Found</td>\n",
       "    </tr>\n",
       "    <tr>\n",
       "      <th>8</th>\n",
       "      <td>None</td>\n",
       "    </tr>\n",
       "    <tr>\n",
       "      <th>9</th>\n",
       "      <td>Help Center</td>\n",
       "    </tr>\n",
       "    <tr>\n",
       "      <th>10</th>\n",
       "      <td>\\nExperience building scalable data models and performing complex relational database queries using SQL (Oracle, MySQL), etc.</td>\n",
       "    </tr>\n",
       "    <tr>\n",
       "      <th>11</th>\n",
       "      <td>None Found</td>\n",
       "    </tr>\n",
       "    <tr>\n",
       "      <th>12</th>\n",
       "      <td>Help Center</td>\n",
       "    </tr>\n",
       "    <tr>\n",
       "      <th>13</th>\n",
       "      <td>\\n</td>\n",
       "    </tr>\n",
       "    <tr>\n",
       "      <th>14</th>\n",
       "      <td>None Found</td>\n",
       "    </tr>\n",
       "    <tr>\n",
       "      <th>15</th>\n",
       "      <td>None Found</td>\n",
       "    </tr>\n",
       "    <tr>\n",
       "      <th>16</th>\n",
       "      <td>None Found</td>\n",
       "    </tr>\n",
       "    <tr>\n",
       "      <th>17</th>\n",
       "      <td>Note that work samples may be requested, and applicants might also be tested as part of the interview process.</td>\n",
       "    </tr>\n",
       "  </tbody>\n",
       "</table>\n",
       "</div>"
      ],
      "text/plain": [
       "                                                                                                                   Qualifications\n",
       "0   None Found                                                                                                                   \n",
       "1   \\nImplementing MVC architecture                                                                                              \n",
       "2   None Found                                                                                                                   \n",
       "3   \\nProfiling, cross-platform adaptively, are preferred                                                                        \n",
       "4   \\nStrong interpersonal and communications skills.                                                                            \n",
       "5   None Found                                                                                                                   \n",
       "6   None Found                                                                                                                   \n",
       "7   None Found                                                                                                                   \n",
       "8   None                                                                                                                         \n",
       "9   Help Center                                                                                                                  \n",
       "10  \\nExperience building scalable data models and performing complex relational database queries using SQL (Oracle, MySQL), etc.\n",
       "11  None Found                                                                                                                   \n",
       "12  Help Center                                                                                                                  \n",
       "13  \\n                                                                                                                           \n",
       "14  None Found                                                                                                                   \n",
       "15  None Found                                                                                                                   \n",
       "16  None Found                                                                                                                   \n",
       "17  Note that work samples may be requested, and applicants might also be tested as part of the interview process.               "
      ]
     },
     "execution_count": 15,
     "metadata": {},
     "output_type": "execute_result"
    }
   ],
   "source": [
    "df_qualifications=pd.DataFrame({'Qualifications': Qualifications})\n",
    "df_qualifications"
   ]
  },
  {
   "cell_type": "code",
   "execution_count": 19,
   "metadata": {},
   "outputs": [
    {
     "name": "stdout",
     "output_type": "stream",
     "text": [
      "                                                                                                                   Qualifications\n",
      "0   None Found                                                                                                                   \n",
      "1   \\nImplementing MVC architecture                                                                                              \n",
      "2   None Found                                                                                                                   \n",
      "3   \\nProfiling, cross-platform adaptively, are preferred                                                                        \n",
      "4   \\nStrong interpersonal and communications skills.                                                                            \n",
      "5   None Found                                                                                                                   \n",
      "6   None Found                                                                                                                   \n",
      "7   None Found                                                                                                                   \n",
      "8   None                                                                                                                         \n",
      "9   Help Center                                                                                                                  \n",
      "10  \\nExperience building scalable data models and performing complex relational database queries using SQL (Oracle, MySQL), etc.\n",
      "11  None Found                                                                                                                   \n",
      "12  Help Center                                                                                                                  \n",
      "13  \\n                                                                                                                           \n",
      "14  None Found                                                                                                                   \n",
      "15  None Found                                                                                                                   \n",
      "16  None Found                                                                                                                   \n",
      "17  Note that work samples may be requested, and applicants might also be tested as part of the interview process.               \n"
     ]
    }
   ],
   "source": [
    "print(df_qualifications)"
   ]
  },
  {
   "cell_type": "code",
   "execution_count": null,
   "metadata": {},
   "outputs": [],
   "source": []
  },
  {
   "cell_type": "code",
   "execution_count": null,
   "metadata": {},
   "outputs": [],
   "source": []
  },
  {
   "cell_type": "code",
   "execution_count": null,
   "metadata": {},
   "outputs": [],
   "source": []
  },
  {
   "cell_type": "code",
   "execution_count": null,
   "metadata": {},
   "outputs": [],
   "source": []
  },
  {
   "cell_type": "code",
   "execution_count": null,
   "metadata": {},
   "outputs": [],
   "source": []
  },
  {
   "cell_type": "code",
   "execution_count": null,
   "metadata": {},
   "outputs": [],
   "source": [
    "ul_tag = Requirements_tag.find_next('ul')\n",
    "\n",
    "for li_tag in ul_tag:\n",
    "    print(li_tag.string)"
   ]
  },
  {
   "cell_type": "code",
   "execution_count": null,
   "metadata": {},
   "outputs": [],
   "source": [
    "ul_tag =Requirements_tag.find_next('ul')\n",
    "\n",
    "for li_tag in ul_tag:\n",
    "    try:\n",
    "        print (li_tag.string)\n",
    "    except: 'None'"
   ]
  },
  {
   "cell_type": "code",
   "execution_count": null,
   "metadata": {},
   "outputs": [],
   "source": [
    "\n",
    "Title=[]\n",
    "Descriptions=[]\n",
    "Company1=[]\n",
    "Company2=[]\n",
    "Company3=[]\n",
    "Location=[]\n",
    "\n",
    "for url in websites:\n",
    "    response=get(url)\n",
    "    soup=BeautifulSoup(response.text,'html.parser')\n",
    "    \n",
    "    description_containers= soup.find(class_='jobsearch-jobDescriptionText')\n",
    "    \n",
    "    company2_containers=soup.find('div', class_='icl-u-xs-mt--xs').find_next('span')\n",
    "    try:\n",
    "        company1_containers=soup.find('div',{'class':'jobsearch-CompanyInfoWithoutHeaderImage'}).find_all('div')[-3]\n",
    "    except:\n",
    "        company1_containres='None'\n",
    "    \n",
    "    try:\n",
    "        company3_containers=soup.find(class_='icl-u-xs-mt--xs').find_next('a')\n",
    "    except:\n",
    "        company3_containres='None'\n",
    "    \n",
    "    title_containers=soup.find('h3')\n",
    "    location_containers=soup.find('',{'class':'jobsearch-CompanyInfoWithoutHeaderImage'}).find_all('div')[-1]\n",
    "    \n",
    "    job_descriptions=str(description_containers.text)\n",
    "    job_company1=str(company1_containers.text)\n",
    "    job_company2=str(company2_containers.text)\n",
    "    job_company3=str(company3_containers.text)\n",
    "    job_title=str(title_containers.text)\n",
    "    locations=str(location_containers.text)\n",
    "    \n",
    "    Company1.append(job_company1)\n",
    "    Company2.append(job_company2)\n",
    "    Company3.append(job_company3)\n",
    "    Descriptions.append(job_descriptions)\n",
    "    Title.append(job_title)\n",
    "    Location.append(locations)"
   ]
  }
 ],
 "metadata": {
  "kernelspec": {
   "display_name": "Python 3",
   "language": "python",
   "name": "python3"
  },
  "language_info": {
   "codemirror_mode": {
    "name": "ipython",
    "version": 3
   },
   "file_extension": ".py",
   "mimetype": "text/x-python",
   "name": "python",
   "nbconvert_exporter": "python",
   "pygments_lexer": "ipython3",
   "version": "3.7.4"
  }
 },
 "nbformat": 4,
 "nbformat_minor": 2
}
