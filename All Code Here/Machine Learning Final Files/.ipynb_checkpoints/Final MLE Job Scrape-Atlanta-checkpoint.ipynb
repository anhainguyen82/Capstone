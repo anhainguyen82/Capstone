{
 "cells": [
  {
   "cell_type": "code",
   "execution_count": 1,
   "metadata": {},
   "outputs": [],
   "source": [
    "from bs4 import BeautifulSoup\n",
    "import urllib\n",
    "from urllib.request import urlopen\n",
    "import re\n",
    "import pandas as pd\n",
    "import requests\n",
    "from requests import get\n",
    "import re"
   ]
  },
  {
   "cell_type": "markdown",
   "metadata": {},
   "source": [
    "# Pulling all links off of the search pages (up to 3000) and putting them in a dataframe to scrape."
   ]
  },
  {
   "cell_type": "code",
   "execution_count": 2,
   "metadata": {},
   "outputs": [],
   "source": [
    "url_template=\"http://www.indeed.com/jobs?q=%22Machine+Learning+Engineer%22&l=Atlanta%2C+GA&start={}\"\n",
    "max_results=250\n",
    "Linkdf=[]\n",
    "\n",
    "for start in range(0, max_results, 7):\n",
    "    url=url_template.format(start)\n",
    "    html=requests.get(url)\n",
    "    soup=BeautifulSoup(html.content,'html.parser', from_encoding=\"utf-8\")\n",
    "    \n",
    "    #for each in soup.find_all(a_=\"href\"):\n",
    "    page_links=soup.find_all('a',{'href':re.compile(\"/rc/\")})\n",
    "    for items in page_links:\n",
    "        Linkdf.append(items['href'])   "
   ]
  },
  {
   "cell_type": "code",
   "execution_count": 3,
   "metadata": {},
   "outputs": [
    {
     "data": {
      "text/plain": [
       "216"
      ]
     },
     "execution_count": 3,
     "metadata": {},
     "output_type": "execute_result"
    }
   ],
   "source": [
    "#Sanity Check\n",
    "len(Linkdf)\n",
    "#print(Linkdf)"
   ]
  },
  {
   "cell_type": "code",
   "execution_count": 4,
   "metadata": {
    "scrolled": true
   },
   "outputs": [
    {
     "data": {
      "text/plain": [
       "216"
      ]
     },
     "execution_count": 4,
     "metadata": {},
     "output_type": "execute_result"
    }
   ],
   "source": [
    "#This code allows the code to display the full website instead of truncating\n",
    "pd.set_option('display.max_colwidth',-1)\n",
    "\n",
    "#Moving it to a data frame\n",
    "data = {'links':Linkdf}\n",
    "df = pd.DataFrame(data, columns=['links'])\n",
    "\n",
    "#append indeed.com to the front of each\n",
    "df['Web'] = 'https://www.indeed.com'\n",
    "df['URL'] = df.Web.str.cat(df.links)\n",
    "\n",
    "#pull out just a list of the websites.\n",
    "websites=list(df['URL'])\n",
    "\n",
    "#Sanity Check\n",
    "#print(websites)\n",
    "len(websites)"
   ]
  },
  {
   "cell_type": "code",
   "execution_count": 5,
   "metadata": {},
   "outputs": [],
   "source": [
    "websites1=set(websites)"
   ]
  },
  {
   "cell_type": "code",
   "execution_count": 6,
   "metadata": {},
   "outputs": [
    {
     "data": {
      "text/plain": [
       "6"
      ]
     },
     "execution_count": 6,
     "metadata": {},
     "output_type": "execute_result"
    }
   ],
   "source": [
    "len(websites1)"
   ]
  },
  {
   "cell_type": "markdown",
   "metadata": {},
   "source": [
    "# Looping through websites...."
   ]
  },
  {
   "cell_type": "code",
   "execution_count": 7,
   "metadata": {},
   "outputs": [],
   "source": [
    "Title=[]\n",
    "Descriptions=[]\n",
    "Location=[]\n",
    "FullDescriptions=[]\n",
    "\n",
    "for url in websites1:\n",
    "    response=get(url)\n",
    "    soup=BeautifulSoup(response.text,'html.parser')\n",
    "    \n",
    "    description_containers= soup.find(class_='jobsearch-jobDescriptionText')\n",
    "    title_containers=soup.find('h3')\n",
    "    try:\n",
    "        location_containers=soup.find('',{'class':'jobsearch-CompanyInfoWithoutHeaderImage'}).find_all('div')[-1]\n",
    "    except:\n",
    "        location_containers='None Found'\n",
    "    \n",
    "    job_descriptions=str(description_containers)\n",
    "    job_title=str(title_containers.text)\n",
    "    try:\n",
    "        locations=str(location_containers.text)\n",
    "    except AttributeError:\n",
    "        locations = 'None Found'\n",
    "    try:\n",
    "        full_descriptions = str(description_containers.text)\n",
    "    except AttributeError:\n",
    "        full_descriptions= 'None Found'\n",
    "    \n",
    "    Descriptions.append(job_descriptions)\n",
    "    Title.append(job_title)\n",
    "    Location.append(locations)\n",
    "    FullDescriptions.append(full_descriptions)    "
   ]
  },
  {
   "cell_type": "markdown",
   "metadata": {},
   "source": [
    "# Extracting what we want from the Descriptions Column"
   ]
  },
  {
   "cell_type": "code",
   "execution_count": 8,
   "metadata": {},
   "outputs": [],
   "source": [
    "#'Location' left in for sanity check. Should be removed once code is confirmed to work\n",
    "Descriptions_df = pd.DataFrame(columns = ['Title', 'Location','City', 'State', 'Zip', 'Country', 'Qualifications', 'Skills', 'Responsibilities', 'Education', 'Requirement', 'FullDescriptions'])\n",
    "Country = ['US', 'USA', 'United States', 'United States of Americal']\n",
    "States = ['AL', 'AK', 'AZ', 'AR', 'CA', 'CO', 'CT', 'DC', 'DE', 'FL', 'GA', 'HI', 'ID', 'IL', 'IN', 'IA',\n",
    "          'KS', 'KY', 'LA', 'ME', 'MD', 'MA', 'MI', 'MN', 'MS', 'MO', 'MT', 'NE', 'NV', 'NH', 'NJ', 'NM', 'NY', 'NC', 'ND',\n",
    "          'OH', 'OK', 'OR', 'PA', 'RI', 'SC', 'SD', 'TN', 'TX', 'UT', 'VT', 'VA', 'WA', 'WV', 'WI', 'WY']\n",
    "\n",
    "for index, element in enumerate(Descriptions):\n",
    "    soup=BeautifulSoup(element,'lxml')\n",
    "    for values in list(Descriptions_df):\n",
    "        temp_tag = soup.find('b', text=re.compile(values))\n",
    "        try:\n",
    "            ul_tag = temp_tag.find_next('ul')\n",
    "            Descriptions_df.at[index,values] = ul_tag.text\n",
    "        except AttributeError:\n",
    "            Descriptions_df.at[index,values]=\"None Found\"\n",
    "        Descriptions_df.at[index,\"Title\"]=Title[index]\n",
    "        Descriptions_df.at[index,\"Location\"]=Location[index]\n",
    "        Descriptions_df.at[index,\"FullDescriptions\"]=FullDescriptions[index]\n",
    "        words = '|'.join(Country)\n",
    "        temp = re.findall(words, Location[index])\n",
    "        if len(temp) != 0:\n",
    "            Descriptions_df.at[index,\"Country\"] = temp[0]\n",
    "        words = '|'.join(States)\n",
    "        temp = re.findall(words, Location[index])\n",
    "        if len(temp) != 0:\n",
    "            Descriptions_df.at[index,\"State\"] = temp[0]\n",
    "        temp = re.findall(r'\\d+', Location[index])\n",
    "        if len(temp) != 0:\n",
    "            Descriptions_df.at[index,\"Zip\"] = temp[0]  \n",
    "            \n",
    "        temp = re.findall(r'[\\w w]+,', Location[index])\n",
    "        if len(temp) != 0:\n",
    "            Descriptions_df.at[index,\"City\"] = re.sub(',', '', temp[0])\n"
   ]
  },
  {
   "cell_type": "code",
   "execution_count": 9,
   "metadata": {
    "scrolled": true
   },
   "outputs": [
    {
     "data": {
      "text/html": [
       "<div>\n",
       "<style scoped>\n",
       "    .dataframe tbody tr th:only-of-type {\n",
       "        vertical-align: middle;\n",
       "    }\n",
       "\n",
       "    .dataframe tbody tr th {\n",
       "        vertical-align: top;\n",
       "    }\n",
       "\n",
       "    .dataframe thead th {\n",
       "        text-align: right;\n",
       "    }\n",
       "</style>\n",
       "<table border=\"1\" class=\"dataframe\">\n",
       "  <thead>\n",
       "    <tr style=\"text-align: right;\">\n",
       "      <th></th>\n",
       "      <th>Title</th>\n",
       "      <th>Location</th>\n",
       "      <th>City</th>\n",
       "      <th>State</th>\n",
       "      <th>Zip</th>\n",
       "      <th>Country</th>\n",
       "      <th>Qualifications</th>\n",
       "      <th>Skills</th>\n",
       "      <th>Responsibilities</th>\n",
       "      <th>Education</th>\n",
       "      <th>Requirement</th>\n",
       "      <th>FullDescriptions</th>\n",
       "    </tr>\n",
       "  </thead>\n",
       "  <tbody>\n",
       "    <tr>\n",
       "      <th>0</th>\n",
       "      <td>Machine Learning Software Engineer</td>\n",
       "      <td>Sandy Springs, GA</td>\n",
       "      <td>Sandy Springs</td>\n",
       "      <td>GA</td>\n",
       "      <td>None Found</td>\n",
       "      <td>None Found</td>\n",
       "      <td>None Found</td>\n",
       "      <td>None Found</td>\n",
       "      <td>None Found</td>\n",
       "      <td>None Found</td>\n",
       "      <td>None Found</td>\n",
       "      <td>PubWise is building AI driven technology to revolutionize the publisher advertising landscape. Our mission is to empower publishers to confidently navigate and understand a continuously changing and complex programmatic revenue generation environment. We do this by building smart, publisher focused technology that reduces the complexity of website programmatic monetization technologies.\\nWe Are Looking For\\nWorking with our development team our Machine Learning Software Engineer will play a critical role in helping achieve our aggressive growth objectives through building new optimization technologies and techniques to improve customer revenue. We are seeking a Machine Learning Engineer to utilize their deep knowledge of machine learning algorithms, computer science, and software engineering to make their predictive models robust, scalable, and performant and get them into a production environment so that they can have business impact. Our system processes 100s terabytes of data monthly. We are truly a big data company with a strong use case for machine learning based optimization.\\nOur ideal candidate is whip smart, able to work well in small teams and capable of being a self starter. The experience outlined below is critical for success in this position; also the person who fills this position must be capable of hitting the ground running.\\nWhat You'll Be Working On\\nImplement machine learning models in Google Cloud ML and BigQuery to provide actionable optimization opportunities in our software\\nResearch emerging techniques and technologies in the Machine Learning industry\\nWorking with a small team to evaluate, design and deploy the full range of ML tools and techniques from model creation to production operation\\n\\nRequired Experience\\n\\nDemonstrable experience with machine learning\\nAbility to create production-ready software\\nStrong background in mathematics and statistics\\nExcellent ability to express complex technical concepts to management team\\nExperience with Google Cloud ML and related technologies. Primarily TensorFlow &amp; BigQuery\\nAbility to quickly learn new products and features\\nResourcefulness coupled with an entrepreneurial spirit\\nSavvy traveler\\nPositive attitude with a sense of humor\\nBachelor's degree\\n\\nCurrent Stack\\n\\nGoogle Cloud\\nGoogle Cloud ML\\nBigQuery\\nTensorFlow\\nGoogle Datalab\\nPython\\n\\nBenefits\\n\\nHuge Growth Opportunity - we're exploding in a huge market\\nJoin a customer focused team\\nWe are in the heart of Sandy Springs with great access to restaurants, a park next door and easy access to and from other parts of Atlanta\\nMedical and Dental Insurance\\nWe're awesome, we work hard, we move fast, and we stay busy in ATL.\\n\\nHow to Apply\\nThe best way to apply is to use our employment portal (https://pubwise-lllp.breezy.hr/) at https://pubwise-lllp.breezy.hr (https://pubwise-lllp.breezy.hr/). Make sure you let us know why you would be awesome at this position!\\n\\nAbout PubWise\\n\\nEstablished in 2016 in the “Silicon Valley of the South”, PubWise is a revolutionary SaaS product that manages the entire programmatic ad technology for publishers and is virtually guaranteed to increase advertising revenue. PubWise's Prebid AdServer integrates header bidding, Google Ad Manager (formerly known as AdX), EBDA and other demand into a unified parallel auction optimized with the company's AI driven Smart Path Optimization Technology (SPOT). SPOT ensures that the optimal Prebid configuration, flooring strategy and placements are active in thousands of configurations on Geography, Device, placement and more. PubWise is a game changer for publisher programmatic management and critical for reducing the explosion in data infrastructure costs in the programmatic landscape. For more information, visit www.PubWise.io (http://www.pubwise.io).</td>\n",
       "    </tr>\n",
       "    <tr>\n",
       "      <th>1</th>\n",
       "      <td>Machine Learning Engineer</td>\n",
       "      <td>Atlanta, GA</td>\n",
       "      <td>Atlanta</td>\n",
       "      <td>GA</td>\n",
       "      <td>None Found</td>\n",
       "      <td>None Found</td>\n",
       "      <td>None Found</td>\n",
       "      <td>None Found</td>\n",
       "      <td>None Found</td>\n",
       "      <td>None Found</td>\n",
       "      <td>None Found</td>\n",
       "      <td>CharterUP is a transportation technology company focused on changing the way the world travels. We work with 1000+ bus companies across the country to create an online marketplace for charter bus transportation. As we scale our platform globally, we are looking for smart, passionate, and detail-oriented people who share our vision.\\n\\nWe are looking for a talented Engineer focused in Machine Learning to help our team develop meaningful technology, enhancements, and features based on data. Efficiency improvement of our technical staff is important to us, and this role would be owning the delivery of features that accomplish this through analysis. Our SaaS applications utilize hardware for tracking, so this person would be able to utilize route data to determine optimal routes, develop algorithms to provide the best results for customers, and identify new types of data to track and report on.\\n\\nWhat You'll Need\\n\\nMaster's Degree in Computer Science or Operations Research with an undergraduate in a similar field.\\n3+ years of experience developing Machine Learning projects\\nExperience in the transportation field, preferably buses or jets\\nExperience with Python, SQL, Java, and scientific frameworks\\n\\nNow here comes the fun part…\\n\\nMedical, dental and vision insurance premiums paid for by us.\\n401k available\\nFlexible work schedules.\\nWithin walking distance to MARTA and surrounded by amazing Buckhead shops and restaurants.\\nA team that loves making memes, laughing, and having fun.\\nVery comfortable chairs.\\nOpportunities to learn and grow through internal training, attending conferences and industry-related seminars (paid for by us).\\n\\n</td>\n",
       "    </tr>\n",
       "    <tr>\n",
       "      <th>2</th>\n",
       "      <td>Jr/Mid Machine Learning Engineer - SEAL</td>\n",
       "      <td>Smyrna, GA</td>\n",
       "      <td>Smyrna</td>\n",
       "      <td>GA</td>\n",
       "      <td>None Found</td>\n",
       "      <td>None Found</td>\n",
       "      <td>Candidates currently enrolled in an accredited Bachelor’s degree program relevant to this position will be considered. Candidate must have a graduation date of no later than December, 2019\\nArtificial Intelligence algorithms utilized for applications\\nKnowledge of industry AI tools (e.g., TensorFlow, PyTorch, etc.)\\nExperience with C and C++\\nExperience with Linux or Windows\\nExperience in software engineering and development\\nKnowledgeable in version control software such as GIT\\nKnowledgeable in JIRA, Bitbucket and Confluence\\nGood verbal and written communication skills\\nSelf-starter and ability to work in a team environment\\n</td>\n",
       "      <td>None Found</td>\n",
       "      <td>None Found</td>\n",
       "      <td>\\nA Bachelor's degree in Computer Engineering, Computer Science, Electrical Engineering, Mathematics, Physics, or related field of study.\\n</td>\n",
       "      <td>\\nA Bachelor's degree in Computer Engineering, Computer Science, Electrical Engineering, Mathematics, Physics, or related field of study.\\n</td>\n",
       "      <td>The Sensors and Electromagnetic Applications Laboratory (SEAL) of the Georgia Tech Research Institute (GTRI) is seeking technical personnel to be part of an established software team that has multiple opportunities for junior and mid-level software engineers within the Software Engineering and Architecture Division (SEAD) at Smyrna, GA. The SEAD group mission is to provide world-class software to be used in sensors, signal processing, electronic warfare, tracking, and intelligence surveillance reconnaissance (ISR) systems deployed on land, air and sea. Our software team employs a modern software engineering process to design, code, integrate and test capabilities on a continuous basis resulting in a mature and quality solution for our customers. We strive for technical excellence by drawing upon a diverse workforce whose knowledge base covers the complete spectrum of modern computing languages and platforms.\\n\\nJob Duties\\nThe successful candidates will be involved in the artificial intelligence (AI) software design, development, integration and testing of the systems. Our real-time machine learning software applications are developed using C++ and Python in a Linux environment. Our group utilizes productive modern (Agile) and industry-proven software development processes and environments. The candidate will get the opportunity to creatively solve problems, design features, and independently and work in a team environment to implement projects.\\n\\nThe candidate will have the opportunity to leverage machine learning techniques to build processes to gather insights from a high volume of data from multiple sources. You will develop systems to efficiently process the data in our platform. The candidate will ultimately be responsible for developing powerful software systems that reinforce our place as a technical research leader in machine learning and deploying software.\\n\\nTravel Requirements\\n10% - 25% travel\\n\\nEducation &amp; Length of Experience\\nResearch Engineer/Scientist I\\n\\nA Bachelor's degree in Computer Engineering, Computer Science, Electrical Engineering, Mathematics, Physics, or related field of study.\\nResearch Engineer/Scientist II\\n\\nA Master’s degree in Computer Engineering, Computer Science, Electrical Engineering, Mathematics, Physics, or related field of study and three (3) years of relevant full-time experience after completion of that degree,\\nA Master’s degree in Computer Engineering, Computer Science, Electrical Engineering, Mathematics, Physics, or related field of study and five (5) years of relevant full-time experience after completion of a Bachelor’s degree, or\\nA Doctoral degree in Computer Engineering, Computer Science, Electrical Engineering, Mathematics, Physics, or related field of study.\\nRequired Minimum Qualifications\\nCandidates currently enrolled in an accredited Bachelor’s degree program relevant to this position will be considered. Candidate must have a graduation date of no later than December, 2019\\nArtificial Intelligence algorithms utilized for applications\\nKnowledge of industry AI tools (e.g., TensorFlow, PyTorch, etc.)\\nExperience with C and C++\\nExperience with Linux or Windows\\nExperience in software engineering and development\\nKnowledgeable in version control software such as GIT\\nKnowledgeable in JIRA, Bitbucket and Confluence\\nGood verbal and written communication skills\\nSelf-starter and ability to work in a team environment\\nPreferred Qualifications\\nKnowledge of computer architectures including multi-core environments\\nFamiliarity with software applications requiring multi-threaded programming implementation\\nExperience in software engineering and development\\nComplex programs that involved hardware, software, communications and networking\\nExisting secret clearance, or the ability to obtain an interim clearance within 30 days and full clearance thereafter\\nU.S. Citizenship Requirements\\nDue to our research contracts with the US federal government, candidates for this position are required to be US Citizens.\\n\\nClearance Type Required\\nAbility to obtain Secret Clearance upon hire\\n\\nDiversity &amp; Inclusion</td>\n",
       "    </tr>\n",
       "    <tr>\n",
       "      <th>3</th>\n",
       "      <td>Machine Learning Engineer</td>\n",
       "      <td>Alpharetta, GA 30022</td>\n",
       "      <td>Alpharetta</td>\n",
       "      <td>GA</td>\n",
       "      <td>30022</td>\n",
       "      <td>None Found</td>\n",
       "      <td>None Found</td>\n",
       "      <td>None Found</td>\n",
       "      <td>None Found</td>\n",
       "      <td>None Found</td>\n",
       "      <td>None Found</td>\n",
       "      <td>What you’ll be doing...\\nVerizon is standing up a new team focusing on Emerging Technologies to deliver building blocks for the various teams in the Verizon Consumer Group (VCG), the Verizon Business Group (VBG), and the Global Technology Services (GTS). We are looking for an AI/ML Expert who will be responsible for designing, implementing, and supporting various AI/ML models to support the business for various use cases at Verizon. Your primary responsibility will be analyzing requirements and implementing applicable AI/ML models to support VCG, VBG and GTS.\\nWork with GTS and Business client to understand their business and technical needs and design AI solutions that make the best use of the shared services our team is delivering.\\nResearch, design, develop, and test various AI/ML frameworks and models.\\nLead a team of data scientists and developers to map data onto models and algorithms based on use cases submitted by Business.\\nDefine, implement and operate new processes to manage deployed ML model in production ensuring efficient and resilient management of the ML lifecycle (versioning, rollback, reinforced training, fine tuning…).\\nDesign and implement various transformative and critical Digital Agents, AI Cognitive Services, ML/Deep Learning enhanced business use cases.\\nArchitect and design high availability and resilient ML deployment and management processes for production to ensure accurate prediction and resiliency against training resulting in biases which may impact the business.\\nDesign generic frameworks and services abstracted by standard API layers that can be used by various GTS teams, and designing for versioning in mind, operational considerations such as upgrades and updates.\\nCandidate must be well versed in the domain of AI/ML and able to build complex solutions and models from the grounds-up without much supervision. Solutions would include Business use cases across the various Verizon Business Units.\\nMust be able to work independently as well as mentor other individuals on the team, providing guidance on programs/projects direction. Should be comfortable assigning tasks to others and making decisions that impact features and requirements.\\nContribute to the development of a governance process around the use of business and customer data in new ML model, on premise and on the cloud to ensure its security and privacy. This is a process that would have significant impact on the future use of data in Machine Learning models.\\nWhat we’re looking for...\\nYou’ll need to have:\\nBachelor’s degree or four or more years of work experience.\\nSix or more years of relevant work experience.\\nEven better if you have:\\nA degree in Computer Science/Engineering or relevant field.\\nStrong software development experience.\\nTwo or more years of experience in building and deploying Machine Learning solutions using various supervised/unsupervised ML algorithms such as Linear/Logistic Regression, Support Vector Machines, (Deep) Neural Networks, Random Forest, etc.\\nExperience in building and deploying ML models using libraries such as scikit-learn, TensorFlow, PyTorch, MXNet,Caffe, etc.\\nExperience deploying production-grade machine learning solutions on public cloud platforms.\\nExperience with Machine and Deep Learning toolkits such as MXNet, TensorFlow, Caffe and Torch.\\nTwo or more years of experience in building and deploying Machine Learning solutions using various supervised/unsupervised ML algorithms such as Linear/Logistic Regression, Support Vector Machines, (Deep) Neural Networks, Random Forest, etc.\\nStrong knowledge of common algorithms and data structures.\\nExperience working with large codebases.\\nExperience in one of the following languages: C#, Python, Java, Scala, C++.\\nExperience communicating effectively across internal and external organizations, for complex mission-critical solutions.\\nExperience with predictive analytics, semi and unstructured data.\\nWhen you join Verizon...\\nYou’ll have the power to go beyond – doing the work that’s transforming how people, businesses and things connect with each other. Not only do we provide the fastest and most reliable network for our customers, but we were first to 5G - a quantum leap in connectivity. Our connected solutions are making communities stronger and enabling energy efficiency. Here, you’ll have the ability to make an impact and create positive change. Whether you think in code, words, pictures or numbers, join our team of the best and brightest. We offer great pay, amazing benefits and opportunity to learn and grow in every role. Together we’ll go far.\\nEqual Employment Opportunity\\nWe're proud to be an equal opportunity employer- and celebrate our employees' differences,including race, color, religion, sex, sexual orientation, gender identity, national origin, age, disability, and Veteran status. Different makes us better.</td>\n",
       "    </tr>\n",
       "    <tr>\n",
       "      <th>4</th>\n",
       "      <td>Principal Machine Learning Engineer - Conversational AI</td>\n",
       "      <td>Atlanta, GA 30319</td>\n",
       "      <td>Atlanta</td>\n",
       "      <td>GA</td>\n",
       "      <td>30319</td>\n",
       "      <td>None Found</td>\n",
       "      <td>None Found</td>\n",
       "      <td>None Found</td>\n",
       "      <td>None Found</td>\n",
       "      <td>None Found</td>\n",
       "      <td>None Found</td>\n",
       "      <td>About the team\\nThe Conversational Assistants AI team, part of the overall Artificial Intelligence team, is responsible for the science and platforms that power automated conversational intelligent agents across Zillow Group websites and mobile apps. The intelligent bots converse with 200 million unique users per month supporting apartment tours, questions and answers for landlords, rental leases, and other natural language conversations for real-estate specific scenarios.\\nAbout the role\\nThe Principal Machine Learning Engineer will design and build the next-generation intelligent agents that will power automated natural language conversations in real-estate. You will:\\nParticipate in the technical direction for conversation assistants at Zillow Group\\nBuild machine learning models and systems in natural language processing (NLP), natural language understanding (NLU), semantic understanding, and intent classification\\nBuild real-time low-latency machine learning platforms\\nBe hands-on in technical feature development, design and code-reviews, prototyping\\nEnable applied scientists to iterate quickly and deploy NLP and NLU machine learning models into production\\nWho you are\\nProven track record of successfully architecting and building highly available, low latency systems for high traffic applications\\n7+ years of experience as a software engineer\\n2+ years of experience building conversational intelligent agents\\nStrong knowledge of machine learning, NLP, and NLU\\nFamiliarity with conversational bot integrations with Google Assistant, Alexa, and Siri\\nBachelor's/Master's degree preferred\\nGet to know us\\nAt Zillow Group, we're powered by our inclusive work culture, where everyone has the support and resources to do the best work of their careers. Our efforts to streamline the real estate transaction is supported by our passion to empower people and enrich lives around everything home, a deep-rooted culture of innovation, a fundamental commitment to Equity and Belonging, and world-class benefits. But, don't just take our word for it. Read our reviews on Glassdoor and recent recognition from multiple organizations, including: Fortune 100 Best Companies to Work For (#69), Fortune Best Workplaces for Diversity (#38), Fortune Best Workplaces for Parents (#31), Fortune Best Workplaces for Women (#20), Fatherly's Best Workplaces for New Dads (#37), JUST Capital 100 Company (#69), Bloomberg Gender Equality Index constituent.\\nZillow Group is an equal opportunity employer committed to fostering an inclusive, innovative environment with the best employees. Therefore, we provide employment opportunities without regard to age, race, color, ancestry, national origin, religion, disability, sex, gender identity or expression, sexual orientation, or any other protected status in accordance with applicable law. If there are preparations we can make to help ensure you have a comfortable and positive interview experience, please let us know.</td>\n",
       "    </tr>\n",
       "    <tr>\n",
       "      <th>5</th>\n",
       "      <td>Senior Machine Learning Engineer - SEAL</td>\n",
       "      <td>Smyrna, GA</td>\n",
       "      <td>Smyrna</td>\n",
       "      <td>GA</td>\n",
       "      <td>None Found</td>\n",
       "      <td>None Found</td>\n",
       "      <td>Candidates currently enrolled in an accredited Master's or Doctoral degree program relevant to this position will be considered. Candidate must have a graduation date of no later than December, 2019.\\nArtificial Intelligence algorithms utilized for applications\\nKnowledge of industry AI tools (e.g., TensorFlow, PyTorch, etc.)\\nExperience with C and C++\\nExperience with Linux or Windows\\nExperience in software engineering and development\\nKnowledgeable in version control software such as GIT\\nKnowledgeable in JIRA, Bitbucket and Confluence\\nExperience in the technical management of software engineers\\nGood verbal and written communication skills\\nSelf-starter and ability to work in a team environment\\n</td>\n",
       "      <td>None Found</td>\n",
       "      <td>None Found</td>\n",
       "      <td>\\nA Master’s degree in Computer Engineering, Computer Science, Electrical Engineering, Mathematics, Physics, or related field of study and seven (7) years of relevant full-time experience after completion of that degree,\\nA Master’s degree in Computer Engineering, Computer Science, Electrical Engineering, Mathematics, Physics, or related field of study and nine (9) years of relevant full-time experience after completion of a Bachelor’s degree, or\\nA Doctoral degree in Computer Engineering, Computer Science, Electrical Engineering, Mathematics, Physics, or related field of study and four (4) years of relevant full time experience.\\n</td>\n",
       "      <td>\\nA Master’s degree in Computer Engineering, Computer Science, Electrical Engineering, Mathematics, Physics, or related field of study and seven (7) years of relevant full-time experience after completion of that degree,\\nA Master’s degree in Computer Engineering, Computer Science, Electrical Engineering, Mathematics, Physics, or related field of study and nine (9) years of relevant full-time experience after completion of a Bachelor’s degree, or\\nA Doctoral degree in Computer Engineering, Computer Science, Electrical Engineering, Mathematics, Physics, or related field of study and four (4) years of relevant full time experience.\\n</td>\n",
       "      <td>The Sensors and Electromagnetic Applications Laboratory (SEAL) of the Georgia Tech Research Institute (GTRI) is seeking senior level technical personnel to be part of an established software team that has multiple opportunities for software engineers within the Software Engineering and Architecture Division (SEAD) at Smyrna, GA. The SEAD group mission is to provide world-class software to be used in sensors, signal processing, electronic warfare, tracking, and intelligence surveillance reconnaissance (ISR) systems deployed on land, air and sea. Our software team employs a modern software engineering process to design, code, integrate and test capabilities on a continuous basis resulting in a mature and quality solution for our customers. We strive for technical excellence by drawing upon a diverse workforce whose knowledge base covers the complete spectrum of modern computing languages and platforms.\\n\\nJob Duties\\nThe successful candidates will be involved in the artificial intelligence (AI) software design, development, integration and testing of the systems. Our real-time machine learning software applications are developed using C++ and Python in a Linux environment. Our group utilizes productive modern (Agile) and industry-proven software development processes and environments. The candidate will get the opportunity to creatively solve problems, design features, and independently and work in a team environment to implement projects.\\n\\nThe candidate will have the opportunity to leverage machine learning techniques to build processes to gather insights from a high volume of data from multiple sources. You will develop systems to efficiently process the data in our platform. The candidate will ultimately be responsible for developing powerful software systems that reinforce our place as a technical research leader in machine learning and deploying software. The candidate will also lead and mentor junior engineers in the development of our quality, efficient and open software products.\\n\\nTravel Requirements\\n10% - 25% travel\\n\\nEducation &amp; Length of Experience\\nSenior Research Engineer/Scientist\\n\\nA Master’s degree in Computer Engineering, Computer Science, Electrical Engineering, Mathematics, Physics, or related field of study and seven (7) years of relevant full-time experience after completion of that degree,\\nA Master’s degree in Computer Engineering, Computer Science, Electrical Engineering, Mathematics, Physics, or related field of study and nine (9) years of relevant full-time experience after completion of a Bachelor’s degree, or\\nA Doctoral degree in Computer Engineering, Computer Science, Electrical Engineering, Mathematics, Physics, or related field of study and four (4) years of relevant full time experience.\\nRequired Minimum Qualifications\\nCandidates currently enrolled in an accredited Master's or Doctoral degree program relevant to this position will be considered. Candidate must have a graduation date of no later than December, 2019.\\nArtificial Intelligence algorithms utilized for applications\\nKnowledge of industry AI tools (e.g., TensorFlow, PyTorch, etc.)\\nExperience with C and C++\\nExperience with Linux or Windows\\nExperience in software engineering and development\\nKnowledgeable in version control software such as GIT\\nKnowledgeable in JIRA, Bitbucket and Confluence\\nExperience in the technical management of software engineers\\nGood verbal and written communication skills\\nSelf-starter and ability to work in a team environment\\nPreferred Qualifications\\nKnowledge of computer architectures including multi-core environments\\nFamiliarity with software applications requiring multi-threaded programming implementation\\nComplex programs that involved hardware, software, communications and networking\\nExperience with Object-Oriented Design Knowledge\\nExisting secret clearance, or the ability to obtain an interim clearance within 30 days and full clearance thereafter\\nU.S. Citizenship Requirements\\nDue to our research contracts with the US federal government, candidates for this position are required to be US Citizens.\\n\\nClearance Type Required\\nAbility to obtain Secret Clearance upon hire\\n\\nDiversity &amp; Inclusion</td>\n",
       "    </tr>\n",
       "  </tbody>\n",
       "</table>\n",
       "</div>"
      ],
      "text/plain": [
       "                                                     Title  \\\n",
       "0  Machine Learning Software Engineer                        \n",
       "1  Machine Learning Engineer                                 \n",
       "2  Jr/Mid Machine Learning Engineer - SEAL                   \n",
       "3  Machine Learning Engineer                                 \n",
       "4  Principal Machine Learning Engineer - Conversational AI   \n",
       "5  Senior Machine Learning Engineer - SEAL                   \n",
       "\n",
       "               Location           City State         Zip     Country  \\\n",
       "0  Sandy Springs, GA     Sandy Springs  GA    None Found  None Found   \n",
       "1  Atlanta, GA           Atlanta        GA    None Found  None Found   \n",
       "2  Smyrna, GA            Smyrna         GA    None Found  None Found   \n",
       "3  Alpharetta, GA 30022  Alpharetta     GA    30022       None Found   \n",
       "4  Atlanta, GA 30319     Atlanta        GA    30319       None Found   \n",
       "5  Smyrna, GA            Smyrna         GA    None Found  None Found   \n",
       "\n",
       "                                                                                                                                                                                                                                                                                                                                                                                                                                                                                                                                                                                                                                                                                                                           Qualifications  \\\n",
       "0  None Found                                                                                                                                                                                                                                                                                                                                                                                                                                                                                                                                                                                                                                                                                                                               \n",
       "1  None Found                                                                                                                                                                                                                                                                                                                                                                                                                                                                                                                                                                                                                                                                                                                               \n",
       "2  Candidates currently enrolled in an accredited Bachelor’s degree program relevant to this position will be considered. Candidate must have a graduation date of no later than December, 2019\\nArtificial Intelligence algorithms utilized for applications\\nKnowledge of industry AI tools (e.g., TensorFlow, PyTorch, etc.)\\nExperience with C and C++\\nExperience with Linux or Windows\\nExperience in software engineering and development\\nKnowledgeable in version control software such as GIT\\nKnowledgeable in JIRA, Bitbucket and Confluence\\nGood verbal and written communication skills\\nSelf-starter and ability to work in a team environment\\n                                                                            \n",
       "3  None Found                                                                                                                                                                                                                                                                                                                                                                                                                                                                                                                                                                                                                                                                                                                               \n",
       "4  None Found                                                                                                                                                                                                                                                                                                                                                                                                                                                                                                                                                                                                                                                                                                                               \n",
       "5  Candidates currently enrolled in an accredited Master's or Doctoral degree program relevant to this position will be considered. Candidate must have a graduation date of no later than December, 2019.\\nArtificial Intelligence algorithms utilized for applications\\nKnowledge of industry AI tools (e.g., TensorFlow, PyTorch, etc.)\\nExperience with C and C++\\nExperience with Linux or Windows\\nExperience in software engineering and development\\nKnowledgeable in version control software such as GIT\\nKnowledgeable in JIRA, Bitbucket and Confluence\\nExperience in the technical management of software engineers\\nGood verbal and written communication skills\\nSelf-starter and ability to work in a team environment\\n   \n",
       "\n",
       "       Skills Responsibilities  \\\n",
       "0  None Found  None Found        \n",
       "1  None Found  None Found        \n",
       "2  None Found  None Found        \n",
       "3  None Found  None Found        \n",
       "4  None Found  None Found        \n",
       "5  None Found  None Found        \n",
       "\n",
       "                                                                                                                                                                                                                                                                                                                                                                                                                                                                                                                                                                                                                                                         Education  \\\n",
       "0  None Found                                                                                                                                                                                                                                                                                                                                                                                                                                                                                                                                                                                                                                                        \n",
       "1  None Found                                                                                                                                                                                                                                                                                                                                                                                                                                                                                                                                                                                                                                                        \n",
       "2  \\nA Bachelor's degree in Computer Engineering, Computer Science, Electrical Engineering, Mathematics, Physics, or related field of study.\\n                                                                                                                                                                                                                                                                                                                                                                                                                                                                                                                       \n",
       "3  None Found                                                                                                                                                                                                                                                                                                                                                                                                                                                                                                                                                                                                                                                        \n",
       "4  None Found                                                                                                                                                                                                                                                                                                                                                                                                                                                                                                                                                                                                                                                        \n",
       "5  \\nA Master’s degree in Computer Engineering, Computer Science, Electrical Engineering, Mathematics, Physics, or related field of study and seven (7) years of relevant full-time experience after completion of that degree,\\nA Master’s degree in Computer Engineering, Computer Science, Electrical Engineering, Mathematics, Physics, or related field of study and nine (9) years of relevant full-time experience after completion of a Bachelor’s degree, or\\nA Doctoral degree in Computer Engineering, Computer Science, Electrical Engineering, Mathematics, Physics, or related field of study and four (4) years of relevant full time experience.\\n   \n",
       "\n",
       "                                                                                                                                                                                                                                                                                                                                                                                                                                                                                                                                                                                                                                                       Requirement  \\\n",
       "0  None Found                                                                                                                                                                                                                                                                                                                                                                                                                                                                                                                                                                                                                                                        \n",
       "1  None Found                                                                                                                                                                                                                                                                                                                                                                                                                                                                                                                                                                                                                                                        \n",
       "2  \\nA Bachelor's degree in Computer Engineering, Computer Science, Electrical Engineering, Mathematics, Physics, or related field of study.\\n                                                                                                                                                                                                                                                                                                                                                                                                                                                                                                                       \n",
       "3  None Found                                                                                                                                                                                                                                                                                                                                                                                                                                                                                                                                                                                                                                                        \n",
       "4  None Found                                                                                                                                                                                                                                                                                                                                                                                                                                                                                                                                                                                                                                                        \n",
       "5  \\nA Master’s degree in Computer Engineering, Computer Science, Electrical Engineering, Mathematics, Physics, or related field of study and seven (7) years of relevant full-time experience after completion of that degree,\\nA Master’s degree in Computer Engineering, Computer Science, Electrical Engineering, Mathematics, Physics, or related field of study and nine (9) years of relevant full-time experience after completion of a Bachelor’s degree, or\\nA Doctoral degree in Computer Engineering, Computer Science, Electrical Engineering, Mathematics, Physics, or related field of study and four (4) years of relevant full time experience.\\n   \n",
       "\n",
       "                                                                                                                                                                                                                                                                                                                                                                                                                                                                                                                                                                                                                                                                                                                                                                                                                                                                                                                                                                                                                                                                                                                                                                                                                                                                                                                                                                                                                                                                                                                                                                                                                                                                                                                                                                                                                                                                                                                                                                                                                                                                                                                                                                                                                                                                                                                                                                                                                                                                                                                                                                                                                                                                                                                                                                                                                                                                                                                                                                                                                                                                                                                                                                                                                                                                                                                                                                                                                                                                                                                                                                                                                                                                                                                                                                                                                                                                                                                                                                                                                                                                                                                                                                                                                                                                                                                                                                                                                                                                                                                                                                                                                                                                                                                                                                                                                                                                                                                                                                                                                                                                           FullDescriptions  \n",
       "0  PubWise is building AI driven technology to revolutionize the publisher advertising landscape. Our mission is to empower publishers to confidently navigate and understand a continuously changing and complex programmatic revenue generation environment. We do this by building smart, publisher focused technology that reduces the complexity of website programmatic monetization technologies.\\nWe Are Looking For\\nWorking with our development team our Machine Learning Software Engineer will play a critical role in helping achieve our aggressive growth objectives through building new optimization technologies and techniques to improve customer revenue. We are seeking a Machine Learning Engineer to utilize their deep knowledge of machine learning algorithms, computer science, and software engineering to make their predictive models robust, scalable, and performant and get them into a production environment so that they can have business impact. Our system processes 100s terabytes of data monthly. We are truly a big data company with a strong use case for machine learning based optimization.\\nOur ideal candidate is whip smart, able to work well in small teams and capable of being a self starter. The experience outlined below is critical for success in this position; also the person who fills this position must be capable of hitting the ground running.\\nWhat You'll Be Working On\\nImplement machine learning models in Google Cloud ML and BigQuery to provide actionable optimization opportunities in our software\\nResearch emerging techniques and technologies in the Machine Learning industry\\nWorking with a small team to evaluate, design and deploy the full range of ML tools and techniques from model creation to production operation\\n\\nRequired Experience\\n\\nDemonstrable experience with machine learning\\nAbility to create production-ready software\\nStrong background in mathematics and statistics\\nExcellent ability to express complex technical concepts to management team\\nExperience with Google Cloud ML and related technologies. Primarily TensorFlow & BigQuery\\nAbility to quickly learn new products and features\\nResourcefulness coupled with an entrepreneurial spirit\\nSavvy traveler\\nPositive attitude with a sense of humor\\nBachelor's degree\\n\\nCurrent Stack\\n\\nGoogle Cloud\\nGoogle Cloud ML\\nBigQuery\\nTensorFlow\\nGoogle Datalab\\nPython\\n\\nBenefits\\n\\nHuge Growth Opportunity - we're exploding in a huge market\\nJoin a customer focused team\\nWe are in the heart of Sandy Springs with great access to restaurants, a park next door and easy access to and from other parts of Atlanta\\nMedical and Dental Insurance\\nWe're awesome, we work hard, we move fast, and we stay busy in ATL.\\n\\nHow to Apply\\nThe best way to apply is to use our employment portal (https://pubwise-lllp.breezy.hr/) at https://pubwise-lllp.breezy.hr (https://pubwise-lllp.breezy.hr/). Make sure you let us know why you would be awesome at this position!\\n\\nAbout PubWise\\n\\nEstablished in 2016 in the “Silicon Valley of the South”, PubWise is a revolutionary SaaS product that manages the entire programmatic ad technology for publishers and is virtually guaranteed to increase advertising revenue. PubWise's Prebid AdServer integrates header bidding, Google Ad Manager (formerly known as AdX), EBDA and other demand into a unified parallel auction optimized with the company's AI driven Smart Path Optimization Technology (SPOT). SPOT ensures that the optimal Prebid configuration, flooring strategy and placements are active in thousands of configurations on Geography, Device, placement and more. PubWise is a game changer for publisher programmatic management and critical for reducing the explosion in data infrastructure costs in the programmatic landscape. For more information, visit www.PubWise.io (http://www.pubwise.io).                                                                                                                                                                                                                                                                                                                                                                                                                                                                                                                                                                                                                                                                                                                                                                                                                                                                                                                                                                                                                                                                                                           \n",
       "1  CharterUP is a transportation technology company focused on changing the way the world travels. We work with 1000+ bus companies across the country to create an online marketplace for charter bus transportation. As we scale our platform globally, we are looking for smart, passionate, and detail-oriented people who share our vision.\\n\\nWe are looking for a talented Engineer focused in Machine Learning to help our team develop meaningful technology, enhancements, and features based on data. Efficiency improvement of our technical staff is important to us, and this role would be owning the delivery of features that accomplish this through analysis. Our SaaS applications utilize hardware for tracking, so this person would be able to utilize route data to determine optimal routes, develop algorithms to provide the best results for customers, and identify new types of data to track and report on.\\n\\nWhat You'll Need\\n\\nMaster's Degree in Computer Science or Operations Research with an undergraduate in a similar field.\\n3+ years of experience developing Machine Learning projects\\nExperience in the transportation field, preferably buses or jets\\nExperience with Python, SQL, Java, and scientific frameworks\\n\\nNow here comes the fun part…\\n\\nMedical, dental and vision insurance premiums paid for by us.\\n401k available\\nFlexible work schedules.\\nWithin walking distance to MARTA and surrounded by amazing Buckhead shops and restaurants.\\nA team that loves making memes, laughing, and having fun.\\nVery comfortable chairs.\\nOpportunities to learn and grow through internal training, attending conferences and industry-related seminars (paid for by us).\\n\\n                                                                                                                                                                                                                                                                                                                                                                                                                                                                                                                                                                                                                                                                                                                                                                                                                                                                                                                                                                                                                                                                                                                                                                                                                                                                                                                                                                                                                                                                                                                                                                                                                                                                                                                                                                                                                                                                                                                                                                                                                                                                                                                                                                                                                                                                                                                                                                                                                                                                                                                                                                                                                                                                                                                                                                                                                                                                                                                                                                                                                                                                                                                                                                                                                                                                                                                                                        \n",
       "2  The Sensors and Electromagnetic Applications Laboratory (SEAL) of the Georgia Tech Research Institute (GTRI) is seeking technical personnel to be part of an established software team that has multiple opportunities for junior and mid-level software engineers within the Software Engineering and Architecture Division (SEAD) at Smyrna, GA. The SEAD group mission is to provide world-class software to be used in sensors, signal processing, electronic warfare, tracking, and intelligence surveillance reconnaissance (ISR) systems deployed on land, air and sea. Our software team employs a modern software engineering process to design, code, integrate and test capabilities on a continuous basis resulting in a mature and quality solution for our customers. We strive for technical excellence by drawing upon a diverse workforce whose knowledge base covers the complete spectrum of modern computing languages and platforms.\\n\\nJob Duties\\nThe successful candidates will be involved in the artificial intelligence (AI) software design, development, integration and testing of the systems. Our real-time machine learning software applications are developed using C++ and Python in a Linux environment. Our group utilizes productive modern (Agile) and industry-proven software development processes and environments. The candidate will get the opportunity to creatively solve problems, design features, and independently and work in a team environment to implement projects.\\n\\nThe candidate will have the opportunity to leverage machine learning techniques to build processes to gather insights from a high volume of data from multiple sources. You will develop systems to efficiently process the data in our platform. The candidate will ultimately be responsible for developing powerful software systems that reinforce our place as a technical research leader in machine learning and deploying software.\\n\\nTravel Requirements\\n10% - 25% travel\\n\\nEducation & Length of Experience\\nResearch Engineer/Scientist I\\n\\nA Bachelor's degree in Computer Engineering, Computer Science, Electrical Engineering, Mathematics, Physics, or related field of study.\\nResearch Engineer/Scientist II\\n\\nA Master’s degree in Computer Engineering, Computer Science, Electrical Engineering, Mathematics, Physics, or related field of study and three (3) years of relevant full-time experience after completion of that degree,\\nA Master’s degree in Computer Engineering, Computer Science, Electrical Engineering, Mathematics, Physics, or related field of study and five (5) years of relevant full-time experience after completion of a Bachelor’s degree, or\\nA Doctoral degree in Computer Engineering, Computer Science, Electrical Engineering, Mathematics, Physics, or related field of study.\\nRequired Minimum Qualifications\\nCandidates currently enrolled in an accredited Bachelor’s degree program relevant to this position will be considered. Candidate must have a graduation date of no later than December, 2019\\nArtificial Intelligence algorithms utilized for applications\\nKnowledge of industry AI tools (e.g., TensorFlow, PyTorch, etc.)\\nExperience with C and C++\\nExperience with Linux or Windows\\nExperience in software engineering and development\\nKnowledgeable in version control software such as GIT\\nKnowledgeable in JIRA, Bitbucket and Confluence\\nGood verbal and written communication skills\\nSelf-starter and ability to work in a team environment\\nPreferred Qualifications\\nKnowledge of computer architectures including multi-core environments\\nFamiliarity with software applications requiring multi-threaded programming implementation\\nExperience in software engineering and development\\nComplex programs that involved hardware, software, communications and networking\\nExisting secret clearance, or the ability to obtain an interim clearance within 30 days and full clearance thereafter\\nU.S. Citizenship Requirements\\nDue to our research contracts with the US federal government, candidates for this position are required to be US Citizens.\\n\\nClearance Type Required\\nAbility to obtain Secret Clearance upon hire\\n\\nDiversity & Inclusion                                                                                                                                                                                                                                                                                                                                                                                                                                                                                                                                                                                                                                                                                                                                                                                       \n",
       "3  What you’ll be doing...\\nVerizon is standing up a new team focusing on Emerging Technologies to deliver building blocks for the various teams in the Verizon Consumer Group (VCG), the Verizon Business Group (VBG), and the Global Technology Services (GTS). We are looking for an AI/ML Expert who will be responsible for designing, implementing, and supporting various AI/ML models to support the business for various use cases at Verizon. Your primary responsibility will be analyzing requirements and implementing applicable AI/ML models to support VCG, VBG and GTS.\\nWork with GTS and Business client to understand their business and technical needs and design AI solutions that make the best use of the shared services our team is delivering.\\nResearch, design, develop, and test various AI/ML frameworks and models.\\nLead a team of data scientists and developers to map data onto models and algorithms based on use cases submitted by Business.\\nDefine, implement and operate new processes to manage deployed ML model in production ensuring efficient and resilient management of the ML lifecycle (versioning, rollback, reinforced training, fine tuning…).\\nDesign and implement various transformative and critical Digital Agents, AI Cognitive Services, ML/Deep Learning enhanced business use cases.\\nArchitect and design high availability and resilient ML deployment and management processes for production to ensure accurate prediction and resiliency against training resulting in biases which may impact the business.\\nDesign generic frameworks and services abstracted by standard API layers that can be used by various GTS teams, and designing for versioning in mind, operational considerations such as upgrades and updates.\\nCandidate must be well versed in the domain of AI/ML and able to build complex solutions and models from the grounds-up without much supervision. Solutions would include Business use cases across the various Verizon Business Units.\\nMust be able to work independently as well as mentor other individuals on the team, providing guidance on programs/projects direction. Should be comfortable assigning tasks to others and making decisions that impact features and requirements.\\nContribute to the development of a governance process around the use of business and customer data in new ML model, on premise and on the cloud to ensure its security and privacy. This is a process that would have significant impact on the future use of data in Machine Learning models.\\nWhat we’re looking for...\\nYou’ll need to have:\\nBachelor’s degree or four or more years of work experience.\\nSix or more years of relevant work experience.\\nEven better if you have:\\nA degree in Computer Science/Engineering or relevant field.\\nStrong software development experience.\\nTwo or more years of experience in building and deploying Machine Learning solutions using various supervised/unsupervised ML algorithms such as Linear/Logistic Regression, Support Vector Machines, (Deep) Neural Networks, Random Forest, etc.\\nExperience in building and deploying ML models using libraries such as scikit-learn, TensorFlow, PyTorch, MXNet,Caffe, etc.\\nExperience deploying production-grade machine learning solutions on public cloud platforms.\\nExperience with Machine and Deep Learning toolkits such as MXNet, TensorFlow, Caffe and Torch.\\nTwo or more years of experience in building and deploying Machine Learning solutions using various supervised/unsupervised ML algorithms such as Linear/Logistic Regression, Support Vector Machines, (Deep) Neural Networks, Random Forest, etc.\\nStrong knowledge of common algorithms and data structures.\\nExperience working with large codebases.\\nExperience in one of the following languages: C#, Python, Java, Scala, C++.\\nExperience communicating effectively across internal and external organizations, for complex mission-critical solutions.\\nExperience with predictive analytics, semi and unstructured data.\\nWhen you join Verizon...\\nYou’ll have the power to go beyond – doing the work that’s transforming how people, businesses and things connect with each other. Not only do we provide the fastest and most reliable network for our customers, but we were first to 5G - a quantum leap in connectivity. Our connected solutions are making communities stronger and enabling energy efficiency. Here, you’ll have the ability to make an impact and create positive change. Whether you think in code, words, pictures or numbers, join our team of the best and brightest. We offer great pay, amazing benefits and opportunity to learn and grow in every role. Together we’ll go far.\\nEqual Employment Opportunity\\nWe're proud to be an equal opportunity employer- and celebrate our employees' differences,including race, color, religion, sex, sexual orientation, gender identity, national origin, age, disability, and Veteran status. Different makes us better.  \n",
       "4  About the team\\nThe Conversational Assistants AI team, part of the overall Artificial Intelligence team, is responsible for the science and platforms that power automated conversational intelligent agents across Zillow Group websites and mobile apps. The intelligent bots converse with 200 million unique users per month supporting apartment tours, questions and answers for landlords, rental leases, and other natural language conversations for real-estate specific scenarios.\\nAbout the role\\nThe Principal Machine Learning Engineer will design and build the next-generation intelligent agents that will power automated natural language conversations in real-estate. You will:\\nParticipate in the technical direction for conversation assistants at Zillow Group\\nBuild machine learning models and systems in natural language processing (NLP), natural language understanding (NLU), semantic understanding, and intent classification\\nBuild real-time low-latency machine learning platforms\\nBe hands-on in technical feature development, design and code-reviews, prototyping\\nEnable applied scientists to iterate quickly and deploy NLP and NLU machine learning models into production\\nWho you are\\nProven track record of successfully architecting and building highly available, low latency systems for high traffic applications\\n7+ years of experience as a software engineer\\n2+ years of experience building conversational intelligent agents\\nStrong knowledge of machine learning, NLP, and NLU\\nFamiliarity with conversational bot integrations with Google Assistant, Alexa, and Siri\\nBachelor's/Master's degree preferred\\nGet to know us\\nAt Zillow Group, we're powered by our inclusive work culture, where everyone has the support and resources to do the best work of their careers. Our efforts to streamline the real estate transaction is supported by our passion to empower people and enrich lives around everything home, a deep-rooted culture of innovation, a fundamental commitment to Equity and Belonging, and world-class benefits. But, don't just take our word for it. Read our reviews on Glassdoor and recent recognition from multiple organizations, including: Fortune 100 Best Companies to Work For (#69), Fortune Best Workplaces for Diversity (#38), Fortune Best Workplaces for Parents (#31), Fortune Best Workplaces for Women (#20), Fatherly's Best Workplaces for New Dads (#37), JUST Capital 100 Company (#69), Bloomberg Gender Equality Index constituent.\\nZillow Group is an equal opportunity employer committed to fostering an inclusive, innovative environment with the best employees. Therefore, we provide employment opportunities without regard to age, race, color, ancestry, national origin, religion, disability, sex, gender identity or expression, sexual orientation, or any other protected status in accordance with applicable law. If there are preparations we can make to help ensure you have a comfortable and positive interview experience, please let us know.                                                                                                                                                                                                                                                                                                                                                                                                                                                                                                                                                                                                                                                                                                                                                                                                                                                                                                                                                                                                                                                                                                                                                                                                                                                                                                                                                                                                                                                                                                                                                                                                                                                                                                                                                                                                                                                                                                                                                                                       \n",
       "5  The Sensors and Electromagnetic Applications Laboratory (SEAL) of the Georgia Tech Research Institute (GTRI) is seeking senior level technical personnel to be part of an established software team that has multiple opportunities for software engineers within the Software Engineering and Architecture Division (SEAD) at Smyrna, GA. The SEAD group mission is to provide world-class software to be used in sensors, signal processing, electronic warfare, tracking, and intelligence surveillance reconnaissance (ISR) systems deployed on land, air and sea. Our software team employs a modern software engineering process to design, code, integrate and test capabilities on a continuous basis resulting in a mature and quality solution for our customers. We strive for technical excellence by drawing upon a diverse workforce whose knowledge base covers the complete spectrum of modern computing languages and platforms.\\n\\nJob Duties\\nThe successful candidates will be involved in the artificial intelligence (AI) software design, development, integration and testing of the systems. Our real-time machine learning software applications are developed using C++ and Python in a Linux environment. Our group utilizes productive modern (Agile) and industry-proven software development processes and environments. The candidate will get the opportunity to creatively solve problems, design features, and independently and work in a team environment to implement projects.\\n\\nThe candidate will have the opportunity to leverage machine learning techniques to build processes to gather insights from a high volume of data from multiple sources. You will develop systems to efficiently process the data in our platform. The candidate will ultimately be responsible for developing powerful software systems that reinforce our place as a technical research leader in machine learning and deploying software. The candidate will also lead and mentor junior engineers in the development of our quality, efficient and open software products.\\n\\nTravel Requirements\\n10% - 25% travel\\n\\nEducation & Length of Experience\\nSenior Research Engineer/Scientist\\n\\nA Master’s degree in Computer Engineering, Computer Science, Electrical Engineering, Mathematics, Physics, or related field of study and seven (7) years of relevant full-time experience after completion of that degree,\\nA Master’s degree in Computer Engineering, Computer Science, Electrical Engineering, Mathematics, Physics, or related field of study and nine (9) years of relevant full-time experience after completion of a Bachelor’s degree, or\\nA Doctoral degree in Computer Engineering, Computer Science, Electrical Engineering, Mathematics, Physics, or related field of study and four (4) years of relevant full time experience.\\nRequired Minimum Qualifications\\nCandidates currently enrolled in an accredited Master's or Doctoral degree program relevant to this position will be considered. Candidate must have a graduation date of no later than December, 2019.\\nArtificial Intelligence algorithms utilized for applications\\nKnowledge of industry AI tools (e.g., TensorFlow, PyTorch, etc.)\\nExperience with C and C++\\nExperience with Linux or Windows\\nExperience in software engineering and development\\nKnowledgeable in version control software such as GIT\\nKnowledgeable in JIRA, Bitbucket and Confluence\\nExperience in the technical management of software engineers\\nGood verbal and written communication skills\\nSelf-starter and ability to work in a team environment\\nPreferred Qualifications\\nKnowledge of computer architectures including multi-core environments\\nFamiliarity with software applications requiring multi-threaded programming implementation\\nComplex programs that involved hardware, software, communications and networking\\nExperience with Object-Oriented Design Knowledge\\nExisting secret clearance, or the ability to obtain an interim clearance within 30 days and full clearance thereafter\\nU.S. Citizenship Requirements\\nDue to our research contracts with the US federal government, candidates for this position are required to be US Citizens.\\n\\nClearance Type Required\\nAbility to obtain Secret Clearance upon hire\\n\\nDiversity & Inclusion                                                                                                                                                                                                                                                                                                                                                                                                                                                                                                                                                                                                                                                                                                        "
      ]
     },
     "execution_count": 9,
     "metadata": {},
     "output_type": "execute_result"
    }
   ],
   "source": [
    "Descriptions_df"
   ]
  },
  {
   "cell_type": "markdown",
   "metadata": {},
   "source": [
    "# Move to csv"
   ]
  },
  {
   "cell_type": "code",
   "execution_count": 10,
   "metadata": {},
   "outputs": [],
   "source": [
    "Descriptions_df.to_csv('Descriptions_df_MLE_Atlanta.csv')"
   ]
  },
  {
   "cell_type": "code",
   "execution_count": null,
   "metadata": {},
   "outputs": [],
   "source": []
  }
 ],
 "metadata": {
  "kernelspec": {
   "display_name": "Python 3",
   "language": "python",
   "name": "python3"
  },
  "language_info": {
   "codemirror_mode": {
    "name": "ipython",
    "version": 3
   },
   "file_extension": ".py",
   "mimetype": "text/x-python",
   "name": "python",
   "nbconvert_exporter": "python",
   "pygments_lexer": "ipython3",
   "version": "3.7.4"
  }
 },
 "nbformat": 4,
 "nbformat_minor": 2
}
