{
 "cells": [
  {
   "cell_type": "code",
   "execution_count": 1,
   "metadata": {},
   "outputs": [],
   "source": [
    "from bs4 import BeautifulSoup\n",
    "import urllib\n",
    "from urllib.request import urlopen\n",
    "import re\n",
    "import pandas as pd\n",
    "import requests\n",
    "from requests import get\n",
    "import re"
   ]
  },
  {
   "cell_type": "markdown",
   "metadata": {},
   "source": [
    "# Pulling all links off of the search pages (up to 3000) and putting them in a dataframe to scrape."
   ]
  },
  {
   "cell_type": "code",
   "execution_count": 2,
   "metadata": {},
   "outputs": [],
   "source": [
    "url_template=\"http://www.indeed.com/jobs?q=%22Statistician%22&l=Austin%2C+TX&start={}\"\n",
    "max_results=250\n",
    "Linkdf=[]\n",
    "\n",
    "for start in range(0, max_results, 7):\n",
    "    url=url_template.format(start)\n",
    "    html=requests.get(url)\n",
    "    soup=BeautifulSoup(html.content,'html.parser', from_encoding=\"utf-8\")\n",
    "    \n",
    "    #for each in soup.find_all(a_=\"href\"):\n",
    "    page_links=soup.find_all('a',{'href':re.compile(\"/rc/\")})\n",
    "    for items in page_links:\n",
    "        Linkdf.append(items['href'])   "
   ]
  },
  {
   "cell_type": "code",
   "execution_count": 3,
   "metadata": {},
   "outputs": [
    {
     "data": {
      "text/plain": [
       "108"
      ]
     },
     "execution_count": 3,
     "metadata": {},
     "output_type": "execute_result"
    }
   ],
   "source": [
    "#Sanity Check\n",
    "len(Linkdf)\n",
    "#print(Linkdf)"
   ]
  },
  {
   "cell_type": "code",
   "execution_count": 4,
   "metadata": {
    "scrolled": true
   },
   "outputs": [
    {
     "data": {
      "text/plain": [
       "108"
      ]
     },
     "execution_count": 4,
     "metadata": {},
     "output_type": "execute_result"
    }
   ],
   "source": [
    "#This code allows the code to display the full website instead of truncating\n",
    "pd.set_option('display.max_colwidth',-1)\n",
    "\n",
    "#Moving it to a data frame\n",
    "data = {'links':Linkdf}\n",
    "df = pd.DataFrame(data, columns=['links'])\n",
    "\n",
    "#append indeed.com to the front of each\n",
    "df['Web'] = 'https://www.indeed.com'\n",
    "df['URL'] = df.Web.str.cat(df.links)\n",
    "\n",
    "#pull out just a list of the websites.\n",
    "websites=list(df['URL'])\n",
    "\n",
    "#Sanity Check\n",
    "#print(websites)\n",
    "len(websites)"
   ]
  },
  {
   "cell_type": "code",
   "execution_count": 5,
   "metadata": {},
   "outputs": [],
   "source": [
    "websites1=set(websites)"
   ]
  },
  {
   "cell_type": "code",
   "execution_count": 6,
   "metadata": {},
   "outputs": [
    {
     "data": {
      "text/plain": [
       "3"
      ]
     },
     "execution_count": 6,
     "metadata": {},
     "output_type": "execute_result"
    }
   ],
   "source": [
    "len(websites1)"
   ]
  },
  {
   "cell_type": "markdown",
   "metadata": {},
   "source": [
    "# Looping through websites...."
   ]
  },
  {
   "cell_type": "code",
   "execution_count": 7,
   "metadata": {},
   "outputs": [],
   "source": [
    "Title=[]\n",
    "Descriptions=[]\n",
    "Location=[]\n",
    "FullDescriptions=[]\n",
    "\n",
    "for url in websites1:\n",
    "    response=get(url)\n",
    "    soup=BeautifulSoup(response.text,'html.parser')\n",
    "    \n",
    "    description_containers= soup.find(class_='jobsearch-jobDescriptionText')\n",
    "    title_containers=soup.find('h3')\n",
    "    try:\n",
    "        location_containers=soup.find('',{'class':'jobsearch-CompanyInfoWithoutHeaderImage'}).find_all('div')[-1]\n",
    "    except:\n",
    "        location_containers='None Found'\n",
    "    \n",
    "    job_descriptions=str(description_containers)\n",
    "    job_title=str(title_containers.text)\n",
    "    try:\n",
    "        locations=str(location_containers.text)\n",
    "    except AttributeError:\n",
    "        locations = 'None Found'\n",
    "    try:\n",
    "        full_descriptions = str(description_containers.text)\n",
    "    except AttributeError:\n",
    "        full_descriptions= 'None Found'\n",
    "    \n",
    "    Descriptions.append(job_descriptions)\n",
    "    Title.append(job_title)\n",
    "    Location.append(locations)\n",
    "    FullDescriptions.append(full_descriptions)    "
   ]
  },
  {
   "cell_type": "markdown",
   "metadata": {},
   "source": [
    "# Extracting what we want from the Descriptions Column"
   ]
  },
  {
   "cell_type": "code",
   "execution_count": 8,
   "metadata": {},
   "outputs": [],
   "source": [
    "#'Location' left in for sanity check. Should be removed once code is confirmed to work\n",
    "Descriptions_df = pd.DataFrame(columns = ['Title', 'Location','City', 'State', 'Zip', 'Country', 'Qualifications', 'Skills', 'Responsibilities', 'Education', 'Requirement', 'FullDescriptions'])\n",
    "Country = ['US', 'USA', 'United States', 'United States of Americal']\n",
    "States = ['AL', 'AK', 'AZ', 'AR', 'CA', 'CO', 'CT', 'DC', 'DE', 'FL', 'GA', 'HI', 'ID', 'IL', 'IN', 'IA',\n",
    "          'KS', 'KY', 'LA', 'ME', 'MD', 'MA', 'MI', 'MN', 'MS', 'MO', 'MT', 'NE', 'NV', 'NH', 'NJ', 'NM', 'NY', 'NC', 'ND',\n",
    "          'OH', 'OK', 'OR', 'PA', 'RI', 'SC', 'SD', 'TN', 'TX', 'UT', 'VT', 'VA', 'WA', 'WV', 'WI', 'WY']\n",
    "\n",
    "for index, element in enumerate(Descriptions):\n",
    "    soup=BeautifulSoup(element,'lxml')\n",
    "    for values in list(Descriptions_df):\n",
    "        temp_tag = soup.find('b', text=re.compile(values))\n",
    "        try:\n",
    "            ul_tag = temp_tag.find_next('ul')\n",
    "            Descriptions_df.at[index,values] = ul_tag.text\n",
    "        except AttributeError:\n",
    "            Descriptions_df.at[index,values]=\"None Found\"\n",
    "        Descriptions_df.at[index,\"Title\"]=Title[index]\n",
    "        Descriptions_df.at[index,\"Location\"]=Location[index]\n",
    "        Descriptions_df.at[index,\"FullDescriptions\"]=FullDescriptions[index]\n",
    "        words = '|'.join(Country)\n",
    "        temp = re.findall(words, Location[index])\n",
    "        if len(temp) != 0:\n",
    "            Descriptions_df.at[index,\"Country\"] = temp[0]\n",
    "        words = '|'.join(States)\n",
    "        temp = re.findall(words, Location[index])\n",
    "        if len(temp) != 0:\n",
    "            Descriptions_df.at[index,\"State\"] = temp[0]\n",
    "        temp = re.findall(r'\\d+', Location[index])\n",
    "        if len(temp) != 0:\n",
    "            Descriptions_df.at[index,\"Zip\"] = temp[0]  \n",
    "            \n",
    "        temp = re.findall(r'[\\w w]+,', Location[index])\n",
    "        if len(temp) != 0:\n",
    "            Descriptions_df.at[index,\"City\"] = re.sub(',', '', temp[0])\n"
   ]
  },
  {
   "cell_type": "code",
   "execution_count": 9,
   "metadata": {
    "scrolled": true
   },
   "outputs": [
    {
     "data": {
      "text/html": [
       "<div>\n",
       "<style scoped>\n",
       "    .dataframe tbody tr th:only-of-type {\n",
       "        vertical-align: middle;\n",
       "    }\n",
       "\n",
       "    .dataframe tbody tr th {\n",
       "        vertical-align: top;\n",
       "    }\n",
       "\n",
       "    .dataframe thead th {\n",
       "        text-align: right;\n",
       "    }\n",
       "</style>\n",
       "<table border=\"1\" class=\"dataframe\">\n",
       "  <thead>\n",
       "    <tr style=\"text-align: right;\">\n",
       "      <th></th>\n",
       "      <th>Title</th>\n",
       "      <th>Location</th>\n",
       "      <th>City</th>\n",
       "      <th>State</th>\n",
       "      <th>Zip</th>\n",
       "      <th>Country</th>\n",
       "      <th>Qualifications</th>\n",
       "      <th>Skills</th>\n",
       "      <th>Responsibilities</th>\n",
       "      <th>Education</th>\n",
       "      <th>Requirement</th>\n",
       "      <th>FullDescriptions</th>\n",
       "    </tr>\n",
       "  </thead>\n",
       "  <tbody>\n",
       "    <tr>\n",
       "      <th>0</th>\n",
       "      <td>Senior Statistician</td>\n",
       "      <td>Austin, TX</td>\n",
       "      <td>Austin</td>\n",
       "      <td>TX</td>\n",
       "      <td>None Found</td>\n",
       "      <td>None Found</td>\n",
       "      <td>\\nBS or degree in Statistics and a minimum of 7 years of relevant industry experience, MS degree preferred\\nKnowledge of industry standards, such as the ICH guidelines, CDISC data structures, 21 CFR Part 11, and FDA guidelines\\nExperience with SAS</td>\n",
       "      <td>None Found</td>\n",
       "      <td>Provides operational support for Data Operations &amp; Biostatistics\\nGenerate randomization schedules\\nProvide sample size calculations\\nProvide input into development of case report forms (CRFs)\\nAuthor statistical analysis plans, including development of table and listing shells\\nReview statistical analysis plans written by other Biostatisticians\\nGenerate analysis datasets, tables, figures, and listings to support the analysis of clinical trials data using SAS\\nProvide programming support to supplemental or exploratory analyses for regulatory agencies or any other internal and external ad-hoc requests\\nPerform quality control for SAS programs and other study documents (e.g., presentations and reports)\\nProvide statistical analysis and reports to team and clients as requested\\nReview output across programs to ensure consistency\\nPrepare statistical sections of clinical study reports\\nProvide technical oversight and leadership in the areas of analysis and reporting\\nParticipate in the development and/or maintenance of departmental procedures and standards\\nServe as the primary project team representative, delegating work as appropriate\\nTrain and mentor new statisticians\\nInteract directly with clients\\nWorks on routine assignments per written procedures, where ability to recognize deviation from accepted practice is required\\nNormally receives minimal instructions on routine work and detailed instructions on new assignments\\nWorks under close supervision from supervisor or senior personnel\\nAbility to work in a team environment and independently as required\\nMay be required to work Holidays and weekends (rarely)\\n</td>\n",
       "      <td>\\nBS or degree in Statistics and a minimum of 7 years of relevant industry experience, MS degree preferred\\nKnowledge of industry standards, such as the ICH guidelines, CDISC data structures, 21 CFR Part 11, and FDA guidelines\\nExperience with SAS</td>\n",
       "      <td>\\nBS or degree in Statistics and a minimum of 7 years of relevant industry experience, MS degree preferred\\nKnowledge of industry standards, such as the ICH guidelines, CDISC data structures, 21 CFR Part 11, and FDA guidelines\\nExperience with SAS</td>\n",
       "      <td>Overview\\nJob Summary: The Senior Statistician provides statistical support for all phases of clinical development. Specific responsibilities include writing and reviewing statistical sections of protocols, writing and reviewing statistical analysis plans, providing input to clinical development plans, and developing SAS programs. This can be an in-office or remote position with less than 10% travel.\\nResponsibilities\\nEssential Job Functions:\\nProvides operational support for Data Operations &amp; Biostatistics\\nGenerate randomization schedules\\nProvide sample size calculations\\nProvide input into development of case report forms (CRFs)\\nAuthor statistical analysis plans, including development of table and listing shells\\nReview statistical analysis plans written by other Biostatisticians\\nGenerate analysis datasets, tables, figures, and listings to support the analysis of clinical trials data using SAS\\nProvide programming support to supplemental or exploratory analyses for regulatory agencies or any other internal and external ad-hoc requests\\nPerform quality control for SAS programs and other study documents (e.g., presentations and reports)\\nProvide statistical analysis and reports to team and clients as requested\\nReview output across programs to ensure consistency\\nPrepare statistical sections of clinical study reports\\nProvide technical oversight and leadership in the areas of analysis and reporting\\nParticipate in the development and/or maintenance of departmental procedures and standards\\nServe as the primary project team representative, delegating work as appropriate\\nTrain and mentor new statisticians\\nInteract directly with clients\\nWorks on routine assignments per written procedures, where ability to recognize deviation from accepted practice is required\\nNormally receives minimal instructions on routine work and detailed instructions on new assignments\\nWorks under close supervision from supervisor or senior personnel\\nAbility to work in a team environment and independently as required\\nMay be required to work Holidays and weekends (rarely)\\nContributes to the overall operations and to the achievement of departmental goals\\nPerform job specific tasks in compliance with applicable Regulations, International Standards, and WuXi AppTec Policies and Standard Operating Procedures\\nThorough understanding of FDA Guidelines, ICH, GCP, NDA, IND and other applicable regulations\\nOther duties as assigned\\nMay be required to assist in other departments\\nQualifications\\nJob Requirements\\n\\nExperience / Education:\\nBS or degree in Statistics and a minimum of 7 years of relevant industry experience, MS degree preferred\\nKnowledge of industry standards, such as the ICH guidelines, CDISC data structures, 21 CFR Part 11, and FDA guidelines\\nExperience with SAS\\nKnowledge / Skills / Abilities:\\nProficient in oral &amp; written communication skills\\nNeed to be able to read, write and understand English\\nProficient in Microsoft (Excel, Word, Outlook)\\nExcellent organizational skills, time management, and ability to coordinate workload and meet established deadlines.\\nExcellent communication and interpersonal skills to effectively interface with others\\nTravel is required &lt;10% , Domestic/International, Daily / Overnight\\nPhysical Requirements:\\nMust be able to work in an office environment, which has minimal noise conditions\\nAbility to stand or sit for most of the work day\\nMust be able to perform some activities with repetitive motion, such as keyboarding\\n\\nThis job description does not state or imply that the above are the only duties and responsibilities assigned to this position. Employees holding this position will be required to perform any other job-related duties as requested by Management.\\n\\nAn Equal Opportunity Employer. All qualified applicants will receive consideration for employment without regard to race, color, religion, sex, sexual orientation, gender identity, national origin, or protected veteran status and will not be discriminated against on the basis of disability.</td>\n",
       "    </tr>\n",
       "    <tr>\n",
       "      <th>1</th>\n",
       "      <td>Statistician</td>\n",
       "      <td>Austin, TX</td>\n",
       "      <td>Austin</td>\n",
       "      <td>TX</td>\n",
       "      <td>None Found</td>\n",
       "      <td>None Found</td>\n",
       "      <td>None Found</td>\n",
       "      <td>None Found</td>\n",
       "      <td>None Found</td>\n",
       "      <td>None Found</td>\n",
       "      <td>None Found</td>\n",
       "      <td>FLSA Status: Exempt\\n\\n\\nPosition Summary:\\nThe primary function of this position is to provide statistical expertise to support the development of ICU products and to solve plant or customer originated related product and process concerns. This involves the use of statistical tools and optimized sampling. Identification of appropriate acceptance criteria, experimental design, and appropriate data analysis to conclusion will often determine whether or not a project is feasible, defendable to regulatory agencies, or commercially justified. Without the correct analysis, erroneous conclusions can be made, incorrect strategic decisions can result, and costs of correcting these errors can rise dramatically. Poor statistical understanding leads to manufacturing process plagued with inefficiencies or the product may failing to meeting the quality, purity, potency and identity specifications throughout shelf-life. This can impact a wide range of project types, including cost reductions, raw material replacements, and new product development. This role will provide subject matter expertise in the area of statistical analysis for site Technical, Quality, Engineering and Operations leadership and technical teams to support development decisions and continuous improvement initiatives site wide.\\n\\nEssential Duties &amp; Responsibilities:Act as a plant resource to create and maintain processes for statistically evaluating data used in existing products for cost reductions, performance improvements or which enable the development of new products. Use appropriate statistical tools to define problems and propose solution approaches to issues posed by internal commercial, operational, quality, or external regulatory requirements. Statistical tools include, but are not limited to: statistical design of experiments, regression analysis, analysis of variance, distribution fitting and prediction, confidence intervals, acceptance sampling, population modeling, attribute/categorical analysis, capability analysis, nonparametric methods, and statistical process control charting.Analyze and interpret information, whether it be test data, published scientific papers and patents or raw material vendor-supplied information. Demonstrate the ability to absorb and reduce such information to practical actions and recommendations.Provide statistical assistance in setting up sampling plans for evaluation of new products and amended processes.Provide statistical expertise to site Technical, Quality, Engineering and Operations leadership to aid in the strategic and tactical decision making process.Communicate effectively (verbally and in writing) across disciplines and with internal and external stakeholders on technical statistical questions.Plan, conduct and rigorously document analyses in technical memos and reports in support of product and process development, refining the manufacturing process for existing products, cost reduction, or and process improvement of existing products.Ensure that statistical analyses meet the requirements of all relevant regulatory agencies. Act as the SME on fundamental statistical questions with internal and external regulatory representativesCharacterize/evaluate existing manufacturing and analytical testing methods and evaluate potential improvements.Interface with ICU corporate and site technical resources to leverage the advantages of their perspective and assure project conformance to applicable ICU standards, current best practices and Quality Standards.Maintain technical skills in the latest techniques for statistical analysis as applied to cGMP pharmaceutical manufacturing.Provide statistical support to root cause investigations, troubleshooting efforts and product performance issues.Perform other related duties as assigned or required.\\n\\nKnowledge, Skills &amp; Qualifications:The candidate should have problem solving skills and the ability to correlate the statistical findings with potential process improvement opportunities and experience in planning and interpreting the results of Design of Experiments (DOE).\\n\\n Education and Experience:Requires a Bachelor’s degree in statistics or biostatisticsASQ Certified Quality Engineer and Six Sigma Green Belt preferred.Requires 3-5 years of statistical analysis experience in the pharmaceutical or equivalently regulated field (aviation, food, etc.). Experience in a product/process development environment desired.Superior statistical process control and problem solving skills required.Must have project management experience or project development experience with demonstrated successful results.Experience with data analysis computer tools, word-processing, spreadsheet and presentation software required (e.g. Minitab, MS Word, Excel, Access, Infinity QS, JMP).The incumbent should have experience in implementing and maintaining a statistical process control program for a manufacturing operation.\\n\\nMinimum Qualifications:Must be at least 18 years of ageMust pass pre-employment drug screen and background check\\n\\nTravel Requirements:Typically requires travel less than 5% of the time\\n\\nPhysical Requirements and Work Environment:Generally office environment.Cleanroom and/or manufacturing or laboratory environment to support data collection, troubleshooting and application of recommendations.Ability to work night, weekend and holiday hours as required by projects and by support for 24/7 operations\\n\\nWe are an Equal Employment Opportunity Employer, Female/Minority/Veterans/Disabled/Sexual Orientation/Gender Identity.</td>\n",
       "    </tr>\n",
       "    <tr>\n",
       "      <th>2</th>\n",
       "      <td>Ultimate Hoops Statistician</td>\n",
       "      <td>Austin, TX 78717</td>\n",
       "      <td>Austin</td>\n",
       "      <td>TX</td>\n",
       "      <td>78717</td>\n",
       "      <td>None Found</td>\n",
       "      <td>None Found</td>\n",
       "      <td>None Found</td>\n",
       "      <td>\\nAssures all players are checked in and present on official scoresheets\\nTracks all relevant statistics during games\\nWorks closely with League Coordinator to ensure member satisfaction\\nAssists in game preparations and/or clean up as needed\\nActively promotes Ultimate Hoops and Life Time Fitness to members and non-members\\nArticulates extensive knowledge of Ultimate Hoops and Life Time Fitness programs, products, services, policies and procedures to prospective and current members</td>\n",
       "      <td>None Found</td>\n",
       "      <td>\\nHigh School Diploma or GED\\nExperience tracking full statistical data for basketball games</td>\n",
       "      <td>Description\\nPosition Summary\\nThe Statistician assists in the execution of Ultimate Hoops Basketball League by tracking full statistics for League games.\\nJob Duties and Responsibilities\\nAssures all players are checked in and present on official scoresheets\\nTracks all relevant statistics during games\\nWorks closely with League Coordinator to ensure member satisfaction\\nAssists in game preparations and/or clean up as needed\\nActively promotes Ultimate Hoops and Life Time Fitness to members and non-members\\nArticulates extensive knowledge of Ultimate Hoops and Life Time Fitness programs, products, services, policies and procedures to prospective and current members\\nPosition Requirements\\nHigh School Diploma or GED\\nExperience tracking full statistical data for basketball games</td>\n",
       "    </tr>\n",
       "  </tbody>\n",
       "</table>\n",
       "</div>"
      ],
      "text/plain": [
       "                         Title          Location    City State         Zip  \\\n",
       "0  Senior Statistician          Austin, TX        Austin  TX    None Found   \n",
       "1  Statistician                 Austin, TX        Austin  TX    None Found   \n",
       "2  Ultimate Hoops Statistician  Austin, TX 78717  Austin  TX    78717        \n",
       "\n",
       "      Country  \\\n",
       "0  None Found   \n",
       "1  None Found   \n",
       "2  None Found   \n",
       "\n",
       "                                                                                                                                                                                                                                            Qualifications  \\\n",
       "0  \\nBS or degree in Statistics and a minimum of 7 years of relevant industry experience, MS degree preferred\\nKnowledge of industry standards, such as the ICH guidelines, CDISC data structures, 21 CFR Part 11, and FDA guidelines\\nExperience with SAS   \n",
       "1  None Found                                                                                                                                                                                                                                                \n",
       "2  None Found                                                                                                                                                                                                                                                \n",
       "\n",
       "       Skills  \\\n",
       "0  None Found   \n",
       "1  None Found   \n",
       "2  None Found   \n",
       "\n",
       "                                                                                                                                                                                                                                                                                                                                                                                                                                                                                                                                                                                                                                                                                                                                                                                                                                                                                                                                                                                                                                                                                                                                                                                                                                                                                                                                                                                                                                                                                                                                                                                                                                                                                           Responsibilities  \\\n",
       "0  Provides operational support for Data Operations & Biostatistics\\nGenerate randomization schedules\\nProvide sample size calculations\\nProvide input into development of case report forms (CRFs)\\nAuthor statistical analysis plans, including development of table and listing shells\\nReview statistical analysis plans written by other Biostatisticians\\nGenerate analysis datasets, tables, figures, and listings to support the analysis of clinical trials data using SAS\\nProvide programming support to supplemental or exploratory analyses for regulatory agencies or any other internal and external ad-hoc requests\\nPerform quality control for SAS programs and other study documents (e.g., presentations and reports)\\nProvide statistical analysis and reports to team and clients as requested\\nReview output across programs to ensure consistency\\nPrepare statistical sections of clinical study reports\\nProvide technical oversight and leadership in the areas of analysis and reporting\\nParticipate in the development and/or maintenance of departmental procedures and standards\\nServe as the primary project team representative, delegating work as appropriate\\nTrain and mentor new statisticians\\nInteract directly with clients\\nWorks on routine assignments per written procedures, where ability to recognize deviation from accepted practice is required\\nNormally receives minimal instructions on routine work and detailed instructions on new assignments\\nWorks under close supervision from supervisor or senior personnel\\nAbility to work in a team environment and independently as required\\nMay be required to work Holidays and weekends (rarely)\\n   \n",
       "1  None Found                                                                                                                                                                                                                                                                                                                                                                                                                                                                                                                                                                                                                                                                                                                                                                                                                                                                                                                                                                                                                                                                                                                                                                                                                                                                                                                                                                                                                                                                                                                                                                                                                                                                                                 \n",
       "2  \\nAssures all players are checked in and present on official scoresheets\\nTracks all relevant statistics during games\\nWorks closely with League Coordinator to ensure member satisfaction\\nAssists in game preparations and/or clean up as needed\\nActively promotes Ultimate Hoops and Life Time Fitness to members and non-members\\nArticulates extensive knowledge of Ultimate Hoops and Life Time Fitness programs, products, services, policies and procedures to prospective and current members                                                                                                                                                                                                                                                                                                                                                                                                                                                                                                                                                                                                                                                                                                                                                                                                                                                                                                                                                                                                                                                                                                                                                                                                    \n",
       "\n",
       "                                                                                                                                                                                                                                                 Education  \\\n",
       "0  \\nBS or degree in Statistics and a minimum of 7 years of relevant industry experience, MS degree preferred\\nKnowledge of industry standards, such as the ICH guidelines, CDISC data structures, 21 CFR Part 11, and FDA guidelines\\nExperience with SAS   \n",
       "1  None Found                                                                                                                                                                                                                                                \n",
       "2  None Found                                                                                                                                                                                                                                                \n",
       "\n",
       "                                                                                                                                                                                                                                               Requirement  \\\n",
       "0  \\nBS or degree in Statistics and a minimum of 7 years of relevant industry experience, MS degree preferred\\nKnowledge of industry standards, such as the ICH guidelines, CDISC data structures, 21 CFR Part 11, and FDA guidelines\\nExperience with SAS   \n",
       "1  None Found                                                                                                                                                                                                                                                \n",
       "2  \\nHigh School Diploma or GED\\nExperience tracking full statistical data for basketball games                                                                                                                                                              \n",
       "\n",
       "                                                                                                                                                                                                                                                                                                                                                                                                                                                                                                                                                                                                                                                                                                                                                                                                                                                                                                                                                                                                                                                                                                                                                                                                                                                                                                                                                                                                                                                                                                                                                                                                                                                                                                                                                                                                                                                                                                                                                                                                                                                                                                                                                                                                                                                                                                                                                                                                                                                                                                                                                                                                                                                                                                                                                                                                                                                                                                                                                                                                                                                                                                                                                                                                                                                                                                                                                                                                                                                                                                                                                                                                                                                                                                                                                                                                                                                                                                                                                                                                                                                                                                                                                                                                                                                                                                                                                                                                                                                                                                                                                                                                                                                                                                                                                                                                                                                                                                                                                                                                                                                                                                                                                                                                                                                                                                                                                                                                                                                                                                                                                                                                                                                                                                                                                                        FullDescriptions  \n",
       "0  Overview\\nJob Summary: The Senior Statistician provides statistical support for all phases of clinical development. Specific responsibilities include writing and reviewing statistical sections of protocols, writing and reviewing statistical analysis plans, providing input to clinical development plans, and developing SAS programs. This can be an in-office or remote position with less than 10% travel.\\nResponsibilities\\nEssential Job Functions:\\nProvides operational support for Data Operations & Biostatistics\\nGenerate randomization schedules\\nProvide sample size calculations\\nProvide input into development of case report forms (CRFs)\\nAuthor statistical analysis plans, including development of table and listing shells\\nReview statistical analysis plans written by other Biostatisticians\\nGenerate analysis datasets, tables, figures, and listings to support the analysis of clinical trials data using SAS\\nProvide programming support to supplemental or exploratory analyses for regulatory agencies or any other internal and external ad-hoc requests\\nPerform quality control for SAS programs and other study documents (e.g., presentations and reports)\\nProvide statistical analysis and reports to team and clients as requested\\nReview output across programs to ensure consistency\\nPrepare statistical sections of clinical study reports\\nProvide technical oversight and leadership in the areas of analysis and reporting\\nParticipate in the development and/or maintenance of departmental procedures and standards\\nServe as the primary project team representative, delegating work as appropriate\\nTrain and mentor new statisticians\\nInteract directly with clients\\nWorks on routine assignments per written procedures, where ability to recognize deviation from accepted practice is required\\nNormally receives minimal instructions on routine work and detailed instructions on new assignments\\nWorks under close supervision from supervisor or senior personnel\\nAbility to work in a team environment and independently as required\\nMay be required to work Holidays and weekends (rarely)\\nContributes to the overall operations and to the achievement of departmental goals\\nPerform job specific tasks in compliance with applicable Regulations, International Standards, and WuXi AppTec Policies and Standard Operating Procedures\\nThorough understanding of FDA Guidelines, ICH, GCP, NDA, IND and other applicable regulations\\nOther duties as assigned\\nMay be required to assist in other departments\\nQualifications\\nJob Requirements\\n\\nExperience / Education:\\nBS or degree in Statistics and a minimum of 7 years of relevant industry experience, MS degree preferred\\nKnowledge of industry standards, such as the ICH guidelines, CDISC data structures, 21 CFR Part 11, and FDA guidelines\\nExperience with SAS\\nKnowledge / Skills / Abilities:\\nProficient in oral & written communication skills\\nNeed to be able to read, write and understand English\\nProficient in Microsoft (Excel, Word, Outlook)\\nExcellent organizational skills, time management, and ability to coordinate workload and meet established deadlines.\\nExcellent communication and interpersonal skills to effectively interface with others\\nTravel is required <10% , Domestic/International, Daily / Overnight\\nPhysical Requirements:\\nMust be able to work in an office environment, which has minimal noise conditions\\nAbility to stand or sit for most of the work day\\nMust be able to perform some activities with repetitive motion, such as keyboarding\\n\\nThis job description does not state or imply that the above are the only duties and responsibilities assigned to this position. Employees holding this position will be required to perform any other job-related duties as requested by Management.\\n\\nAn Equal Opportunity Employer. All qualified applicants will receive consideration for employment without regard to race, color, religion, sex, sexual orientation, gender identity, national origin, or protected veteran status and will not be discriminated against on the basis of disability.                                                                                                                                                                                                                                                                                                                                                                                                                                                                                                                                                                                                                                                                                                                                                                                                                                                                                                                                                                                                                                                                                                                                                                                                                                                                                                                                                                                                                                                                                                                                                                      \n",
       "1  FLSA Status: Exempt\\n\\n\\nPosition Summary:\\nThe primary function of this position is to provide statistical expertise to support the development of ICU products and to solve plant or customer originated related product and process concerns. This involves the use of statistical tools and optimized sampling. Identification of appropriate acceptance criteria, experimental design, and appropriate data analysis to conclusion will often determine whether or not a project is feasible, defendable to regulatory agencies, or commercially justified. Without the correct analysis, erroneous conclusions can be made, incorrect strategic decisions can result, and costs of correcting these errors can rise dramatically. Poor statistical understanding leads to manufacturing process plagued with inefficiencies or the product may failing to meeting the quality, purity, potency and identity specifications throughout shelf-life. This can impact a wide range of project types, including cost reductions, raw material replacements, and new product development. This role will provide subject matter expertise in the area of statistical analysis for site Technical, Quality, Engineering and Operations leadership and technical teams to support development decisions and continuous improvement initiatives site wide.\\n\\nEssential Duties & Responsibilities:Act as a plant resource to create and maintain processes for statistically evaluating data used in existing products for cost reductions, performance improvements or which enable the development of new products. Use appropriate statistical tools to define problems and propose solution approaches to issues posed by internal commercial, operational, quality, or external regulatory requirements. Statistical tools include, but are not limited to: statistical design of experiments, regression analysis, analysis of variance, distribution fitting and prediction, confidence intervals, acceptance sampling, population modeling, attribute/categorical analysis, capability analysis, nonparametric methods, and statistical process control charting.Analyze and interpret information, whether it be test data, published scientific papers and patents or raw material vendor-supplied information. Demonstrate the ability to absorb and reduce such information to practical actions and recommendations.Provide statistical assistance in setting up sampling plans for evaluation of new products and amended processes.Provide statistical expertise to site Technical, Quality, Engineering and Operations leadership to aid in the strategic and tactical decision making process.Communicate effectively (verbally and in writing) across disciplines and with internal and external stakeholders on technical statistical questions.Plan, conduct and rigorously document analyses in technical memos and reports in support of product and process development, refining the manufacturing process for existing products, cost reduction, or and process improvement of existing products.Ensure that statistical analyses meet the requirements of all relevant regulatory agencies. Act as the SME on fundamental statistical questions with internal and external regulatory representativesCharacterize/evaluate existing manufacturing and analytical testing methods and evaluate potential improvements.Interface with ICU corporate and site technical resources to leverage the advantages of their perspective and assure project conformance to applicable ICU standards, current best practices and Quality Standards.Maintain technical skills in the latest techniques for statistical analysis as applied to cGMP pharmaceutical manufacturing.Provide statistical support to root cause investigations, troubleshooting efforts and product performance issues.Perform other related duties as assigned or required.\\n\\nKnowledge, Skills & Qualifications:The candidate should have problem solving skills and the ability to correlate the statistical findings with potential process improvement opportunities and experience in planning and interpreting the results of Design of Experiments (DOE).\\n\\n Education and Experience:Requires a Bachelor’s degree in statistics or biostatisticsASQ Certified Quality Engineer and Six Sigma Green Belt preferred.Requires 3-5 years of statistical analysis experience in the pharmaceutical or equivalently regulated field (aviation, food, etc.). Experience in a product/process development environment desired.Superior statistical process control and problem solving skills required.Must have project management experience or project development experience with demonstrated successful results.Experience with data analysis computer tools, word-processing, spreadsheet and presentation software required (e.g. Minitab, MS Word, Excel, Access, Infinity QS, JMP).The incumbent should have experience in implementing and maintaining a statistical process control program for a manufacturing operation.\\n\\nMinimum Qualifications:Must be at least 18 years of ageMust pass pre-employment drug screen and background check\\n\\nTravel Requirements:Typically requires travel less than 5% of the time\\n\\nPhysical Requirements and Work Environment:Generally office environment.Cleanroom and/or manufacturing or laboratory environment to support data collection, troubleshooting and application of recommendations.Ability to work night, weekend and holiday hours as required by projects and by support for 24/7 operations\\n\\nWe are an Equal Employment Opportunity Employer, Female/Minority/Veterans/Disabled/Sexual Orientation/Gender Identity.  \n",
       "2  Description\\nPosition Summary\\nThe Statistician assists in the execution of Ultimate Hoops Basketball League by tracking full statistics for League games.\\nJob Duties and Responsibilities\\nAssures all players are checked in and present on official scoresheets\\nTracks all relevant statistics during games\\nWorks closely with League Coordinator to ensure member satisfaction\\nAssists in game preparations and/or clean up as needed\\nActively promotes Ultimate Hoops and Life Time Fitness to members and non-members\\nArticulates extensive knowledge of Ultimate Hoops and Life Time Fitness programs, products, services, policies and procedures to prospective and current members\\nPosition Requirements\\nHigh School Diploma or GED\\nExperience tracking full statistical data for basketball games                                                                                                                                                                                                                                                                                                                                                                                                                                                                                                                                                                                                                                                                                                                                                                                                                                                                                                                                                                                                                                                                                                                                                                                                                                                                                                                                                                                                                                                                                                                                                                                                                                                                                                                                                                                                                                                                                                                                                                                                                                                                                                                                                                                                                                                                                                                                                                                                                                                                                                                                                                                                                                                                                                                                                                                                                                                                                                                                                                                                                                                                                                                                                                                                                                                                                                                                                                                                                                                                                                                                                                                                                                                                                                                                                                                                                                                                                                                                                                                                                                                                                                                                                                                                                                                                                                                                                                                                                                                                                                                                                                                                                                                                                                                                                                                                                                                                                                                                                                  "
      ]
     },
     "execution_count": 9,
     "metadata": {},
     "output_type": "execute_result"
    }
   ],
   "source": [
    "Descriptions_df"
   ]
  },
  {
   "cell_type": "markdown",
   "metadata": {},
   "source": [
    "# Move to csv"
   ]
  },
  {
   "cell_type": "code",
   "execution_count": 10,
   "metadata": {},
   "outputs": [],
   "source": [
    "Descriptions_df.to_csv('Descriptions_df_Statistician_Austin.csv')"
   ]
  },
  {
   "cell_type": "code",
   "execution_count": null,
   "metadata": {},
   "outputs": [],
   "source": []
  }
 ],
 "metadata": {
  "kernelspec": {
   "display_name": "Python 3",
   "language": "python",
   "name": "python3"
  },
  "language_info": {
   "codemirror_mode": {
    "name": "ipython",
    "version": 3
   },
   "file_extension": ".py",
   "mimetype": "text/x-python",
   "name": "python",
   "nbconvert_exporter": "python",
   "pygments_lexer": "ipython3",
   "version": "3.7.4"
  }
 },
 "nbformat": 4,
 "nbformat_minor": 2
}
