{
 "cells": [
  {
   "cell_type": "code",
   "execution_count": 1,
   "metadata": {},
   "outputs": [],
   "source": [
    "from bs4 import BeautifulSoup\n",
    "import urllib\n",
    "from urllib.request import urlopen\n",
    "import re\n",
    "import pandas as pd\n",
    "import requests\n",
    "from requests import get\n",
    "import re"
   ]
  },
  {
   "cell_type": "markdown",
   "metadata": {},
   "source": [
    "# Pulling all links off of the search pages (up to 3000) and putting them in a dataframe to scrape."
   ]
  },
  {
   "cell_type": "code",
   "execution_count": 2,
   "metadata": {},
   "outputs": [],
   "source": [
    "url_template=\"http://www.indeed.com/jobs?q=%22Statistician%22&l=Houston%2C+TX&start={}\"\n",
    "max_results=250\n",
    "Linkdf=[]\n",
    "\n",
    "for start in range(0, max_results, 7):\n",
    "    url=url_template.format(start)\n",
    "    html=requests.get(url)\n",
    "    soup=BeautifulSoup(html.content,'html.parser', from_encoding=\"utf-8\")\n",
    "    \n",
    "    #for each in soup.find_all(a_=\"href\"):\n",
    "    page_links=soup.find_all('a',{'href':re.compile(\"/rc/\")})\n",
    "    for items in page_links:\n",
    "        Linkdf.append(items['href'])   "
   ]
  },
  {
   "cell_type": "code",
   "execution_count": 3,
   "metadata": {},
   "outputs": [
    {
     "data": {
      "text/plain": [
       "180"
      ]
     },
     "execution_count": 3,
     "metadata": {},
     "output_type": "execute_result"
    }
   ],
   "source": [
    "#Sanity Check\n",
    "len(Linkdf)\n",
    "#print(Linkdf)"
   ]
  },
  {
   "cell_type": "code",
   "execution_count": 4,
   "metadata": {
    "scrolled": true
   },
   "outputs": [
    {
     "data": {
      "text/plain": [
       "180"
      ]
     },
     "execution_count": 4,
     "metadata": {},
     "output_type": "execute_result"
    }
   ],
   "source": [
    "#This code allows the code to display the full website instead of truncating\n",
    "pd.set_option('display.max_colwidth',-1)\n",
    "\n",
    "#Moving it to a data frame\n",
    "data = {'links':Linkdf}\n",
    "df = pd.DataFrame(data, columns=['links'])\n",
    "\n",
    "#append indeed.com to the front of each\n",
    "df['Web'] = 'https://www.indeed.com'\n",
    "df['URL'] = df.Web.str.cat(df.links)\n",
    "\n",
    "#pull out just a list of the websites.\n",
    "websites=list(df['URL'])\n",
    "\n",
    "#Sanity Check\n",
    "#print(websites)\n",
    "len(websites)"
   ]
  },
  {
   "cell_type": "code",
   "execution_count": 5,
   "metadata": {},
   "outputs": [],
   "source": [
    "websites1=set(websites)"
   ]
  },
  {
   "cell_type": "code",
   "execution_count": 6,
   "metadata": {},
   "outputs": [
    {
     "data": {
      "text/plain": [
       "5"
      ]
     },
     "execution_count": 6,
     "metadata": {},
     "output_type": "execute_result"
    }
   ],
   "source": [
    "len(websites1)"
   ]
  },
  {
   "cell_type": "markdown",
   "metadata": {},
   "source": [
    "# Looping through websites...."
   ]
  },
  {
   "cell_type": "code",
   "execution_count": 7,
   "metadata": {},
   "outputs": [],
   "source": [
    "Title=[]\n",
    "Descriptions=[]\n",
    "Location=[]\n",
    "FullDescriptions=[]\n",
    "\n",
    "for url in websites1:\n",
    "    response=get(url)\n",
    "    soup=BeautifulSoup(response.text,'html.parser')\n",
    "    \n",
    "    description_containers= soup.find(class_='jobsearch-jobDescriptionText')\n",
    "    title_containers=soup.find('h3')\n",
    "    try:\n",
    "        location_containers=soup.find('',{'class':'jobsearch-CompanyInfoWithoutHeaderImage'}).find_all('div')[-1]\n",
    "    except:\n",
    "        location_containers='None Found'\n",
    "    \n",
    "    job_descriptions=str(description_containers)\n",
    "    job_title=str(title_containers.text)\n",
    "    try:\n",
    "        locations=str(location_containers.text)\n",
    "    except AttributeError:\n",
    "        locations = 'None Found'\n",
    "    try:\n",
    "        full_descriptions = str(description_containers.text)\n",
    "    except AttributeError:\n",
    "        full_descriptions= 'None Found'\n",
    "    \n",
    "    Descriptions.append(job_descriptions)\n",
    "    Title.append(job_title)\n",
    "    Location.append(locations)\n",
    "    FullDescriptions.append(full_descriptions)    "
   ]
  },
  {
   "cell_type": "markdown",
   "metadata": {},
   "source": [
    "# Extracting what we want from the Descriptions Column"
   ]
  },
  {
   "cell_type": "code",
   "execution_count": 8,
   "metadata": {},
   "outputs": [],
   "source": [
    "#'Location' left in for sanity check. Should be removed once code is confirmed to work\n",
    "Descriptions_df = pd.DataFrame(columns = ['Title', 'Location','City', 'State', 'Zip', 'Country', 'Qualifications', 'Skills', 'Responsibilities', 'Education', 'Requirement', 'FullDescriptions'])\n",
    "Country = ['US', 'USA', 'United States', 'United States of Americal']\n",
    "States = ['AL', 'AK', 'AZ', 'AR', 'CA', 'CO', 'CT', 'DC', 'DE', 'FL', 'GA', 'HI', 'ID', 'IL', 'IN', 'IA',\n",
    "          'KS', 'KY', 'LA', 'ME', 'MD', 'MA', 'MI', 'MN', 'MS', 'MO', 'MT', 'NE', 'NV', 'NH', 'NJ', 'NM', 'NY', 'NC', 'ND',\n",
    "          'OH', 'OK', 'OR', 'PA', 'RI', 'SC', 'SD', 'TN', 'TX', 'UT', 'VT', 'VA', 'WA', 'WV', 'WI', 'WY']\n",
    "\n",
    "for index, element in enumerate(Descriptions):\n",
    "    soup=BeautifulSoup(element,'lxml')\n",
    "    for values in list(Descriptions_df):\n",
    "        temp_tag = soup.find('b', text=re.compile(values))\n",
    "        try:\n",
    "            ul_tag = temp_tag.find_next('ul')\n",
    "            Descriptions_df.at[index,values] = ul_tag.text\n",
    "        except AttributeError:\n",
    "            Descriptions_df.at[index,values]=\"None Found\"\n",
    "        Descriptions_df.at[index,\"Title\"]=Title[index]\n",
    "        Descriptions_df.at[index,\"Location\"]=Location[index]\n",
    "        Descriptions_df.at[index,\"FullDescriptions\"]=FullDescriptions[index]\n",
    "        words = '|'.join(Country)\n",
    "        temp = re.findall(words, Location[index])\n",
    "        if len(temp) != 0:\n",
    "            Descriptions_df.at[index,\"Country\"] = temp[0]\n",
    "        words = '|'.join(States)\n",
    "        temp = re.findall(words, Location[index])\n",
    "        if len(temp) != 0:\n",
    "            Descriptions_df.at[index,\"State\"] = temp[0]\n",
    "        temp = re.findall(r'\\d+', Location[index])\n",
    "        if len(temp) != 0:\n",
    "            Descriptions_df.at[index,\"Zip\"] = temp[0]  \n",
    "            \n",
    "        temp = re.findall(r'[\\w w]+,', Location[index])\n",
    "        if len(temp) != 0:\n",
    "            Descriptions_df.at[index,\"City\"] = re.sub(',', '', temp[0])\n"
   ]
  },
  {
   "cell_type": "code",
   "execution_count": 9,
   "metadata": {
    "scrolled": true
   },
   "outputs": [
    {
     "data": {
      "text/html": [
       "<div>\n",
       "<style scoped>\n",
       "    .dataframe tbody tr th:only-of-type {\n",
       "        vertical-align: middle;\n",
       "    }\n",
       "\n",
       "    .dataframe tbody tr th {\n",
       "        vertical-align: top;\n",
       "    }\n",
       "\n",
       "    .dataframe thead th {\n",
       "        text-align: right;\n",
       "    }\n",
       "</style>\n",
       "<table border=\"1\" class=\"dataframe\">\n",
       "  <thead>\n",
       "    <tr style=\"text-align: right;\">\n",
       "      <th></th>\n",
       "      <th>Title</th>\n",
       "      <th>Location</th>\n",
       "      <th>City</th>\n",
       "      <th>State</th>\n",
       "      <th>Zip</th>\n",
       "      <th>Country</th>\n",
       "      <th>Qualifications</th>\n",
       "      <th>Skills</th>\n",
       "      <th>Responsibilities</th>\n",
       "      <th>Education</th>\n",
       "      <th>Requirement</th>\n",
       "      <th>FullDescriptions</th>\n",
       "    </tr>\n",
       "  </thead>\n",
       "  <tbody>\n",
       "    <tr>\n",
       "      <th>0</th>\n",
       "      <td>Statistician - SPH</td>\n",
       "      <td>Houston, TX</td>\n",
       "      <td>Houston</td>\n",
       "      <td>TX</td>\n",
       "      <td>None Found</td>\n",
       "      <td>None Found</td>\n",
       "      <td>None Found</td>\n",
       "      <td>\\nProfessional competency in R or other scientific programming languages as appropriate to research focus.\\nFamiliar with Unix operating system.\\nWorking knowledge and experience in epidemiological studies, genome-wide association studies, and candidate-gene association studies.\\nGood communication skills both written and verbal.</td>\n",
       "      <td>None Found</td>\n",
       "      <td>\\nBachelor’s degree in related field.</td>\n",
       "      <td>\\nExerts up to 20 pounds of force occasionally and/or up to 10 pounds frequently and/or a negligible amount constantly to move objects.</td>\n",
       "      <td>Responsible for the application of standard statistical methods for conducting analysis and preparing reports. Will support study design, analysis and result interpretation for multiple epidemiologic and genetic studies of common complex diseases in humans. In the beginning of a study, this involves considerations of study design, data management and quality control. In the data collection phase, this involves interim analyses, and the presentation of reports of these interim analyses. As a study matures, this involves participation in the final analysis plan, the actual data analysis and the statistical interpretation of study findings.\\n\\nPosition Key Accountabilities:\\nConducts statistical analyses and reports.\\nVerify, clean and/or reformate raw phenotypic data for database storage and analysis\\nConduct epidemiological/genetic statistical analyses on large sample sets using R and specialized software.\\nSupervises the routing tabulation of data; edits and analyzes the final material in the form of reports and records, including detail and summary tables, graphs, and charts.\\nPerforms statistical analyses from both large and small samples of data.\\nCalculates medians quantities, percentiles and coefficients of correlation.\\nTests data for sampling errors and for significance differences between samples.\\nPerforms other duties as assigned.\\n\\nPreferred Certification/Skills:\\nProfessional competency in R or other scientific programming languages as appropriate to research focus.\\nFamiliar with Unix operating system.\\nWorking knowledge and experience in epidemiological studies, genome-wide association studies, and candidate-gene association studies.\\nGood communication skills both written and verbal.\\n\\nMinimum Education:\\nBachelor’s degree in related field.\\nMinimum Experience:\\nTwo (2) years of experience in analysis and presentation of statistical data.\\nMay substitute required experience with equivalent years of education beyond the minimum education requirement.\\nPhysical Requirements:\\nExerts up to 20 pounds of force occasionally and/or up to 10 pounds frequently and/or a negligible amount constantly to move objects.\\nSecurity Sensitive:\\nThis job class may contain positions that are security sensitive and thereby subject to the provisions of Texas Education Code § 51.215</td>\n",
       "    </tr>\n",
       "    <tr>\n",
       "      <th>1</th>\n",
       "      <td>Biostatistician</td>\n",
       "      <td>Houston, TX</td>\n",
       "      <td>Houston</td>\n",
       "      <td>TX</td>\n",
       "      <td>None Found</td>\n",
       "      <td>None Found</td>\n",
       "      <td>None Found</td>\n",
       "      <td>\\nDemonstrates proficiency with statistical methods and applications in clinical research.\\nExperience in data analysis of large administrative datasets (claims, registries, EMR) and observational studies.</td>\n",
       "      <td>None Found</td>\n",
       "      <td>\\nMaster’s degree in related health science. PhD preferred.</td>\n",
       "      <td>None Found</td>\n",
       "      <td>Provides statistical support for research using large administrative datasets among other various data sources.\\n\\nDepartment: Ctr Mgmt &amp; Policy in Pop Hlth\\nLocation: Texas Medical Center- Houston, TX\\nFLSA: FT/ Exempt\\n\\nPosition Key Accountabilities:\\nCollaborates with investigators to determine study design, contribute to protocol development, and write statistical analysis plans.\\nPerforms statistical analysis and inference, and writes and presents reports summarizing findings including publications in peer-reviewed journals.\\nDevelops systems for monitoring the quality of different datasets.\\nMay write program code to analyze data using statistical analysis software.\\nEnsures high-quality statistical support is provided for investigational studies, projects, registries and basic research using advanced statistical skills and knowledge of clinical research.\\nMaintains expertise in state-of-the-art data manipulation and statistical methodology.\\nMay conduct ad hoc analyses.\\nInterviews clients/users and departmental personnel for problem definition to ensure that programs are written that fit the users' needs or changes are made to resolve existing problems.\\nMay write, test and implement data queries. May code straight-forward to somewhat complex queries and ensure queries conform to departmental standards and are documented and stored for other users.\\nMay assist with acceptance testing of purchased software, implementation of software programs, and/or upgrades to existing software to ensure user/clients' needs are met.\\nPerforms other duties as assigned.\\nCertification/Skills:\\nDemonstrates proficiency with statistical methods and applications in clinical research.\\nExperience in data analysis of large administrative datasets (claims, registries, EMR) and observational studies.\\nPreferred:\\nExperience in Database and writing SQL server queries and procedures.\\nKnowledge of computer hardware, software, mathematics, and programming.\\nDemonstrated experience in SAS, SQL, or R\\nMinimum Education:\\nMaster’s degree in related health science. PhD preferred.\\nMinimum Experience:\\nTwo years of statistician experience.\\nPhysical Requirements:\\nExerts up to 50 pounds of force occasionally and/or up to 20 pounds frequently and/or up to 10 pounds constantly to move objects.\\nSecurity Sensitive:\\nThis job class may contain positions that are security sensitive and thereby subject to the provisions of Texas Education Code § 51.215</td>\n",
       "    </tr>\n",
       "    <tr>\n",
       "      <th>2</th>\n",
       "      <td>Ultimate Hoops Statistician</td>\n",
       "      <td>Cypress, TX 77433</td>\n",
       "      <td>Cypress</td>\n",
       "      <td>TX</td>\n",
       "      <td>77433</td>\n",
       "      <td>None Found</td>\n",
       "      <td>None Found</td>\n",
       "      <td>None Found</td>\n",
       "      <td>\\nAssures all players are checked in and present on official scoresheets\\nTracks all relevant statistics during games\\nWorks closely with League Coordinator to ensure member satisfaction\\nAssists in game preparations and/or clean up as needed\\nActively promotes Ultimate Hoops and Life Time Fitness to members and non-members\\nArticulates extensive knowledge of Ultimate Hoops and Life Time Fitness programs, products, services, policies and procedures to prospective and current members</td>\n",
       "      <td>None Found</td>\n",
       "      <td>\\nHigh School Diploma or GED\\nExperience tracking full statistical data for basketball games</td>\n",
       "      <td>Description\\nPosition Summary\\nThe Statistician assists in the execution of Ultimate Hoops Basketball League by tracking full statistics for League games.\\nJob Duties and Responsibilities\\nAssures all players are checked in and present on official scoresheets\\nTracks all relevant statistics during games\\nWorks closely with League Coordinator to ensure member satisfaction\\nAssists in game preparations and/or clean up as needed\\nActively promotes Ultimate Hoops and Life Time Fitness to members and non-members\\nArticulates extensive knowledge of Ultimate Hoops and Life Time Fitness programs, products, services, policies and procedures to prospective and current members\\nPosition Requirements\\nHigh School Diploma or GED\\nExperience tracking full statistical data for basketball games</td>\n",
       "    </tr>\n",
       "    <tr>\n",
       "      <th>3</th>\n",
       "      <td>Statistician</td>\n",
       "      <td>Houston, TX 77056</td>\n",
       "      <td>Houston</td>\n",
       "      <td>TX</td>\n",
       "      <td>77056</td>\n",
       "      <td>None Found</td>\n",
       "      <td>None Found</td>\n",
       "      <td>None Found</td>\n",
       "      <td>None Found</td>\n",
       "      <td>None Found</td>\n",
       "      <td>None Found</td>\n",
       "      <td>alliantgroup, LP is currently experiencing explosive growth! As a national consulting firm focused on being the voice to the middle market, our mission is simple: Strengthening American businesses. How do we do this? We hire the brightest talent with the most diverse backgrounds who are passionate about making a difference.\\nThe Statistician will analyze and interpret data from various sources and provide expert opinions. The primary responsibilities will include compiling reports, charts, and tables based on established statistical methods while working directly with senior leadership.\\nMasters in Statistics, Applied Mathematics or similar degree\\n1-3 years of experience in the field or in a related area\\nExperience compiling reports, charts and tables based on established statistical methods\\nAnalyzes and interprets data from various sources\\nRelies on experience and judgment to plan and accomplish goals\\nProven track record of meeting deadlines\\nSuperior analytical and problem solving skills\\nSelf-starter and works well with minimal supervision\\nProficient with Microsoft Excel, Word, SAS, R, and/or LaTeX preferred but not required\\nFlexibility to travel for business and training purposes\\nWork location is Houston, TX\\nDo Work That Matters. alliantgroup.</td>\n",
       "    </tr>\n",
       "    <tr>\n",
       "      <th>4</th>\n",
       "      <td>Credit Card</td>\n",
       "      <td>Houston, TX</td>\n",
       "      <td>Houston</td>\n",
       "      <td>TX</td>\n",
       "      <td>None Found</td>\n",
       "      <td>None Found</td>\n",
       "      <td>None Found</td>\n",
       "      <td>None Found</td>\n",
       "      <td>None Found</td>\n",
       "      <td>None Found</td>\n",
       "      <td>None Found</td>\n",
       "      <td>Company: Compass Bank dba BBVA Compass\\nLocation: Houston, Texas. United States\\nJob type: Employment | Corporate Risk\\nPublished on: 7th October 2019\\nOur Company\\nAt BBVA, we are leading the transformation of global banking with the aim of bringing the opportunities of this new era within everyone’s reach. We are a global financial institution present in 30 countries with over 75 million customers. We are a bank with over 126,000 employees across the world and every one of those employees is leading and designing his/her professional career with the help of tools provided by the organisation to make that happen.\\nCorporate responsibility is an intrinsic part of our business model, promoting inclusion and financial education while supporting research and culture. Being part of BBVA means developing your career in one of the most innovative companies in finance.\\nWe started out with the spirit of helping others make the best financial decisions. That spirit remains with us today and encourages us to keep moving forward, prioritising innovation and digital transformation so that we can bring the opportunities of this new era within everyone’s reach.\\nOur values define our identity; they are what drives us to make our goals a reality and they guide all of our actions and the decisions we make.\\nThe customer comes first.We think big.We are one team.\\nJob description\\n\\nThe Retail Models &amp; Analytics group is part of the Risk Innovation, Data and Analytics organization. It is responsible for the development and implementation of risk scorecards, fraud models and credit risk strategies across the customer lifecycle for all Retail Credit portfolios.\\nThis individual will responsible for developing and optimizing analytically driven credit risk strategies on Retail Credit Card and Consumer Direct portfolios, with a focus on the Digital Bank. This includes developing risk strategies for new risk scorecards or optimizing existing strategies. The individual will also integrate customer level risk scores into reactive decision points and into account management strategies. And also to undertake complex analytics to support key strategic initiatives for growth, innovation or risk mitigation.\\n\\nResponsibilities\\nDevelop and optimize credit risk strategies for Credit Cards and Consumer Direct portfolios using analytical techniques and statistical analysis to meet pre-defined goals\\nBuild credit risk strategies for originations, account management and collections\\nMeet strategic business targets for auto-decisioning\\nDevelop risk based pricing models and strategies to meet RAROC targets\\nIntegrate new data sources and solutions into credit risk strategies\\nResponsible for integrating customer level risk scores into reactive and account management decisoning\\nDeveloping a program to track expected versus actual behavioral and performance measures for appropriate portfolios, populations, and segmentation end-nodes\\nEnhance the analytic framework for credit decisioning and pricing\\nNew quantitatively driven challenger strategies and pilot programs across the customer lifecycle\\nDevelop and present analysis results and recommendations to senior leaders\\nLead a small team of analytic / statistician resources\\nUndertake ad-hoc data analytics as required\\nbr&gt;\\nEducation/Experience\\n\\nMaster''s Degree in a quantitative discipline with a minimum of ten (10) years of experience in a credit risk analytics or portfolio management role and three (3) years of experience developing data driven credit risk strategies for a credit card or other unsecured portfolio.\\nWorking experience with SAS, including E-Miner and SQL\\nPreferred experience working for a top 10 national U.S. credit card issuer\\nWork experience may substitute for education requirement.\\n\\nLic/Cert/Reg\\n\\nRequired: None required\\nPreferred: None preferred\\n\\n\\n\\nAt BBVA, we believe that having a team made up of people with different ways of viewing the world and of taking on each challenge makes us a better bank. That is why we actively support diversity and inclusion, and we invite you to apply, regardless of your race, gender, age, sexual orientation, country of origin, experience, studies, etc.\\nWe nurture a collaborative and inclusive work environment that enables us to show and develop the best we each have to offer.\\nPay Transparency Policy Statement\\nThe contractor will not discharge or in any other manner discriminate against employees or applicants because they have inquired about, discussed, or disclosed their own pay or the pay of another employee or applicant. However, employees who have access to the compensation information of other employees or applicants as a part of their essential job functions cannot disclose the pay of other employees or applicants to individuals who do not otherwise have access to compensation information, unless the disclosure is (a) in response to a formal complaint or charge, (b) in furtherance of an investigation, proceeding, hearing, or action, including an investigation conducted by the employer, or (c) consistent with the contractor’s legal duty to furnish information (41 C.F.R. 60-1.35 (c)).\\nIndividuals with Disabilities\\nBBVA Compass, BBVA Securities Inc., and BBVA S.A. New York Branch invite all interested and qualified applicants to apply for employment opportunities. If you are a U.S.-based job seeker with a disability who is unable to use our online tools to search and apply for jobs, please contact us by emailing: disabilityaccessjobs.us@bbva.com or by calling toll-free (in the U.S.) 1-844-664-9275. Please indicate the specific type of assistance needed*.\\nThe disability access telephone line and email address are reserved solely for job seekers with disabilities requesting accessibility assistance or an accommodation. Please do not call about the status of your job application if you do not require accessibility assistance or an accommodation. Messages left for other purposes, such as following up on an application or non-disability related or technical issues, will not receive a response.\\nEEO Statement\\nBBVA Compass, BBVA Securities Inc., and BBVA S.A. New York Branch have a firm and unwavering policy to provide equal employment opportunity without regard to age, citizenship, color, disability, ethnic origin, gender, gender identity and expression, marital status, nationality, national origin, race, religion, sexual orientation, genetic predisposition, protected veteran status, or any other status or classification protected by federal, state or local law. This policy includes all job groups, classifications and organizational units. With regard to employment, this policy extends to applicants and covers our recruiting, hiring, promotion, transfer, demotion, discipline, termination, benefits, compensation and training practices as well as social and recreational activities. View the \"EEO is the Law\" &amp; \"View the EEO is the Law Supplement Poster\" poster. BBVA Compass, BBVA Securities, Inc., and BBVA NY are equal opportunity and affirmative action employer.</td>\n",
       "    </tr>\n",
       "  </tbody>\n",
       "</table>\n",
       "</div>"
      ],
      "text/plain": [
       "                         Title           Location     City State         Zip  \\\n",
       "0  Statistician - SPH           Houston, TX        Houston  TX    None Found   \n",
       "1  Biostatistician              Houston, TX        Houston  TX    None Found   \n",
       "2  Ultimate Hoops Statistician  Cypress, TX 77433  Cypress  TX    77433        \n",
       "3  Statistician                 Houston, TX 77056  Houston  TX    77056        \n",
       "4  Credit Card                  Houston, TX        Houston  TX    None Found   \n",
       "\n",
       "      Country Qualifications  \\\n",
       "0  None Found  None Found      \n",
       "1  None Found  None Found      \n",
       "2  None Found  None Found      \n",
       "3  None Found  None Found      \n",
       "4  None Found  None Found      \n",
       "\n",
       "                                                                                                                                                                                                                                                                                                                                        Skills  \\\n",
       "0  \\nProfessional competency in R or other scientific programming languages as appropriate to research focus.\\nFamiliar with Unix operating system.\\nWorking knowledge and experience in epidemiological studies, genome-wide association studies, and candidate-gene association studies.\\nGood communication skills both written and verbal.   \n",
       "1  \\nDemonstrates proficiency with statistical methods and applications in clinical research.\\nExperience in data analysis of large administrative datasets (claims, registries, EMR) and observational studies.                                                                                                                                 \n",
       "2  None Found                                                                                                                                                                                                                                                                                                                                    \n",
       "3  None Found                                                                                                                                                                                                                                                                                                                                    \n",
       "4  None Found                                                                                                                                                                                                                                                                                                                                    \n",
       "\n",
       "                                                                                                                                                                                                                                                                                                                                                                                                                                                                                          Responsibilities  \\\n",
       "0  None Found                                                                                                                                                                                                                                                                                                                                                                                                                                                                                                \n",
       "1  None Found                                                                                                                                                                                                                                                                                                                                                                                                                                                                                                \n",
       "2  \\nAssures all players are checked in and present on official scoresheets\\nTracks all relevant statistics during games\\nWorks closely with League Coordinator to ensure member satisfaction\\nAssists in game preparations and/or clean up as needed\\nActively promotes Ultimate Hoops and Life Time Fitness to members and non-members\\nArticulates extensive knowledge of Ultimate Hoops and Life Time Fitness programs, products, services, policies and procedures to prospective and current members   \n",
       "3  None Found                                                                                                                                                                                                                                                                                                                                                                                                                                                                                                \n",
       "4  None Found                                                                                                                                                                                                                                                                                                                                                                                                                                                                                                \n",
       "\n",
       "                                                     Education  \\\n",
       "0  \\nBachelor’s degree in related field.                         \n",
       "1  \\nMaster’s degree in related health science. PhD preferred.   \n",
       "2  None Found                                                    \n",
       "3  None Found                                                    \n",
       "4  None Found                                                    \n",
       "\n",
       "                                                                                                                               Requirement  \\\n",
       "0  \\nExerts up to 20 pounds of force occasionally and/or up to 10 pounds frequently and/or a negligible amount constantly to move objects.   \n",
       "1  None Found                                                                                                                                \n",
       "2  \\nHigh School Diploma or GED\\nExperience tracking full statistical data for basketball games                                              \n",
       "3  None Found                                                                                                                                \n",
       "4  None Found                                                                                                                                \n",
       "\n",
       "                                                                                                                                                                                                                                                                                                                                                                                                                                                                                                                                                                                                                                                                                                                                                                                                                                                                                                                                                                                                                                                                                                                                                                                                                                                                                                                                                                                                                                                                                                                                                                                                                                                                                                                                                                                                                                                                                                                                                                                                                                                                                                                                                                                                                                                                                                                                                                                                                                                                                                                                                                                                                                                                                                                                                                                                                                                                                                                                                                                                                                                                                                                                                                                                                                                                                                                                                                                                                                                                                                                                                                                                                                                                                                                                                                                                                                                                                                                                                                                                                                                                                                                                                                                                                                                                                                                                                                                                                                                                                                                                                                                                                                                                                                                                                                                                                                                                                                                                                                                                                                                                                                                                                                                                                                                                                                                                                                                                                                                                                                                                                                                                                                                                                                                                                                                                                                                                                                                                                                                                                                                                                                                                                                                                                                                                                                                                                                                                                                                                                                                                                                                                                                                                                                                                                                                                                                                                                                                                                                                                                                                                                                                                                                                                                                                                                                                                                        FullDescriptions  \n",
       "0  Responsible for the application of standard statistical methods for conducting analysis and preparing reports. Will support study design, analysis and result interpretation for multiple epidemiologic and genetic studies of common complex diseases in humans. In the beginning of a study, this involves considerations of study design, data management and quality control. In the data collection phase, this involves interim analyses, and the presentation of reports of these interim analyses. As a study matures, this involves participation in the final analysis plan, the actual data analysis and the statistical interpretation of study findings.\\n\\nPosition Key Accountabilities:\\nConducts statistical analyses and reports.\\nVerify, clean and/or reformate raw phenotypic data for database storage and analysis\\nConduct epidemiological/genetic statistical analyses on large sample sets using R and specialized software.\\nSupervises the routing tabulation of data; edits and analyzes the final material in the form of reports and records, including detail and summary tables, graphs, and charts.\\nPerforms statistical analyses from both large and small samples of data.\\nCalculates medians quantities, percentiles and coefficients of correlation.\\nTests data for sampling errors and for significance differences between samples.\\nPerforms other duties as assigned.\\n\\nPreferred Certification/Skills:\\nProfessional competency in R or other scientific programming languages as appropriate to research focus.\\nFamiliar with Unix operating system.\\nWorking knowledge and experience in epidemiological studies, genome-wide association studies, and candidate-gene association studies.\\nGood communication skills both written and verbal.\\n\\nMinimum Education:\\nBachelor’s degree in related field.\\nMinimum Experience:\\nTwo (2) years of experience in analysis and presentation of statistical data.\\nMay substitute required experience with equivalent years of education beyond the minimum education requirement.\\nPhysical Requirements:\\nExerts up to 20 pounds of force occasionally and/or up to 10 pounds frequently and/or a negligible amount constantly to move objects.\\nSecurity Sensitive:\\nThis job class may contain positions that are security sensitive and thereby subject to the provisions of Texas Education Code § 51.215                                                                                                                                                                                                                                                                                                                                                                                                                                                                                                                                                                                                                                                                                                                                                                                                                                                                                                                                                                                                                                                                                                                                                                                                                                                                                                                                                                                                                                                                                                                                                                                                                                                                                                                                                                                                                                                                                                                                                                                                                                                                                                                                                                                                                                                                                                                                                                                                                                                                                                                                                                                                                                                                                                                                                                                                                                                                                                                                                                                                                                                                                                                                                                                                                                                                                                                                                                                                                                                                                                                                                                                                                                                                                                                                                                                                                                                                                                                                                                                                                                                                                                                                                                                                                                                                                                                                                                                                                                                                                                                                                                                                                                                                                                                                                                                                                                                                                                                                                          \n",
       "1  Provides statistical support for research using large administrative datasets among other various data sources.\\n\\nDepartment: Ctr Mgmt & Policy in Pop Hlth\\nLocation: Texas Medical Center- Houston, TX\\nFLSA: FT/ Exempt\\n\\nPosition Key Accountabilities:\\nCollaborates with investigators to determine study design, contribute to protocol development, and write statistical analysis plans.\\nPerforms statistical analysis and inference, and writes and presents reports summarizing findings including publications in peer-reviewed journals.\\nDevelops systems for monitoring the quality of different datasets.\\nMay write program code to analyze data using statistical analysis software.\\nEnsures high-quality statistical support is provided for investigational studies, projects, registries and basic research using advanced statistical skills and knowledge of clinical research.\\nMaintains expertise in state-of-the-art data manipulation and statistical methodology.\\nMay conduct ad hoc analyses.\\nInterviews clients/users and departmental personnel for problem definition to ensure that programs are written that fit the users' needs or changes are made to resolve existing problems.\\nMay write, test and implement data queries. May code straight-forward to somewhat complex queries and ensure queries conform to departmental standards and are documented and stored for other users.\\nMay assist with acceptance testing of purchased software, implementation of software programs, and/or upgrades to existing software to ensure user/clients' needs are met.\\nPerforms other duties as assigned.\\nCertification/Skills:\\nDemonstrates proficiency with statistical methods and applications in clinical research.\\nExperience in data analysis of large administrative datasets (claims, registries, EMR) and observational studies.\\nPreferred:\\nExperience in Database and writing SQL server queries and procedures.\\nKnowledge of computer hardware, software, mathematics, and programming.\\nDemonstrated experience in SAS, SQL, or R\\nMinimum Education:\\nMaster’s degree in related health science. PhD preferred.\\nMinimum Experience:\\nTwo years of statistician experience.\\nPhysical Requirements:\\nExerts up to 50 pounds of force occasionally and/or up to 20 pounds frequently and/or up to 10 pounds constantly to move objects.\\nSecurity Sensitive:\\nThis job class may contain positions that are security sensitive and thereby subject to the provisions of Texas Education Code § 51.215                                                                                                                                                                                                                                                                                                                                                                                                                                                                                                                                                                                                                                                                                                                                                                                                                                                                                                                                                                                                                                                                                                                                                                                                                                                                                                                                                                                                                                                                                                                                                                                                                                                                                                                                                                                                                                                                                                                                                                                                                                                                                                                                                                                                                                                                                                                                                                                                                                                                                                                                                                                                                                                                                                                                                                                                                                                                                                                                                                                                                                                                                                                                                                                                                                                                                                                                                                                                                                                                                                                                                                                                                                                                                                                                                                                                                                                                                                                                                                                                                                                                                                                                                                                                                                                                                                                                                                                                                                                                                                                                                                                                                                                                                                                                                                                                     \n",
       "2  Description\\nPosition Summary\\nThe Statistician assists in the execution of Ultimate Hoops Basketball League by tracking full statistics for League games.\\nJob Duties and Responsibilities\\nAssures all players are checked in and present on official scoresheets\\nTracks all relevant statistics during games\\nWorks closely with League Coordinator to ensure member satisfaction\\nAssists in game preparations and/or clean up as needed\\nActively promotes Ultimate Hoops and Life Time Fitness to members and non-members\\nArticulates extensive knowledge of Ultimate Hoops and Life Time Fitness programs, products, services, policies and procedures to prospective and current members\\nPosition Requirements\\nHigh School Diploma or GED\\nExperience tracking full statistical data for basketball games                                                                                                                                                                                                                                                                                                                                                                                                                                                                                                                                                                                                                                                                                                                                                                                                                                                                                                                                                                                                                                                                                                                                                                                                                                                                                                                                                                                                                                                                                                                                                                                                                                                                                                                                                                                                                                                                                                                                                                                                                                                                                                                                                                                                                                                                                                                                                                                                                                                                                                                                                                                                                                                                                                                                                                                                                                                                                                                                                                                                                                                                                                                                                                                                                                                                                                                                                                                                                                                                                                                                                                                                                                                                                                                                                                                                                                                                                                                                                                                                                                                                                                                                                                                                                                                                                                                                                                                                                                                                                                                                                                                                                                                                                                                                                                                                                                                                                                                                                                                                                                                                                                                                                                                                                                                                                                                                                                                                                                                                                                                                                                                                                                                                                                                                                                                                                                                                                                                                                                                                                                                                                                                                                                                                                                                                                                                                                                                                                                                                                                                                                  \n",
       "3  alliantgroup, LP is currently experiencing explosive growth! As a national consulting firm focused on being the voice to the middle market, our mission is simple: Strengthening American businesses. How do we do this? We hire the brightest talent with the most diverse backgrounds who are passionate about making a difference.\\nThe Statistician will analyze and interpret data from various sources and provide expert opinions. The primary responsibilities will include compiling reports, charts, and tables based on established statistical methods while working directly with senior leadership.\\nMasters in Statistics, Applied Mathematics or similar degree\\n1-3 years of experience in the field or in a related area\\nExperience compiling reports, charts and tables based on established statistical methods\\nAnalyzes and interprets data from various sources\\nRelies on experience and judgment to plan and accomplish goals\\nProven track record of meeting deadlines\\nSuperior analytical and problem solving skills\\nSelf-starter and works well with minimal supervision\\nProficient with Microsoft Excel, Word, SAS, R, and/or LaTeX preferred but not required\\nFlexibility to travel for business and training purposes\\nWork location is Houston, TX\\nDo Work That Matters. alliantgroup.                                                                                                                                                                                                                                                                                                                                                                                                                                                                                                                                                                                                                                                                                                                                                                                                                                                                                                                                                                                                                                                                                                                                                                                                                                                                                                                                                                                                                                                                                                                                                                                                                                                                                                                                                                                                                                                                                                                                                                                                                                                                                                                                                                                                                                                                                                                                                                                                                                                                                                                                                                                                                                                                                                                                                                                                                                                                                                                                                                                                                                                                                                                                                                                                                                                                                                                                                                                                                                                                                                                                                                                                                                                                                                                                                                                                                                                                                                                                                                                                                                                                                                                                                                                                                                                                                                                                                                                                                                                                                                                                                                                                                                                                                                                                                                                                                                                                                                                                                                                                                                                                                                                                                                                                                                                                                                                                                                                                                                                                                                                                                                                                                                                                                                                                                                                                                                                                                                                                                                                                                                           \n",
       "4  Company: Compass Bank dba BBVA Compass\\nLocation: Houston, Texas. United States\\nJob type: Employment | Corporate Risk\\nPublished on: 7th October 2019\\nOur Company\\nAt BBVA, we are leading the transformation of global banking with the aim of bringing the opportunities of this new era within everyone’s reach. We are a global financial institution present in 30 countries with over 75 million customers. We are a bank with over 126,000 employees across the world and every one of those employees is leading and designing his/her professional career with the help of tools provided by the organisation to make that happen.\\nCorporate responsibility is an intrinsic part of our business model, promoting inclusion and financial education while supporting research and culture. Being part of BBVA means developing your career in one of the most innovative companies in finance.\\nWe started out with the spirit of helping others make the best financial decisions. That spirit remains with us today and encourages us to keep moving forward, prioritising innovation and digital transformation so that we can bring the opportunities of this new era within everyone’s reach.\\nOur values define our identity; they are what drives us to make our goals a reality and they guide all of our actions and the decisions we make.\\nThe customer comes first.We think big.We are one team.\\nJob description\\n\\nThe Retail Models & Analytics group is part of the Risk Innovation, Data and Analytics organization. It is responsible for the development and implementation of risk scorecards, fraud models and credit risk strategies across the customer lifecycle for all Retail Credit portfolios.\\nThis individual will responsible for developing and optimizing analytically driven credit risk strategies on Retail Credit Card and Consumer Direct portfolios, with a focus on the Digital Bank. This includes developing risk strategies for new risk scorecards or optimizing existing strategies. The individual will also integrate customer level risk scores into reactive decision points and into account management strategies. And also to undertake complex analytics to support key strategic initiatives for growth, innovation or risk mitigation.\\n\\nResponsibilities\\nDevelop and optimize credit risk strategies for Credit Cards and Consumer Direct portfolios using analytical techniques and statistical analysis to meet pre-defined goals\\nBuild credit risk strategies for originations, account management and collections\\nMeet strategic business targets for auto-decisioning\\nDevelop risk based pricing models and strategies to meet RAROC targets\\nIntegrate new data sources and solutions into credit risk strategies\\nResponsible for integrating customer level risk scores into reactive and account management decisoning\\nDeveloping a program to track expected versus actual behavioral and performance measures for appropriate portfolios, populations, and segmentation end-nodes\\nEnhance the analytic framework for credit decisioning and pricing\\nNew quantitatively driven challenger strategies and pilot programs across the customer lifecycle\\nDevelop and present analysis results and recommendations to senior leaders\\nLead a small team of analytic / statistician resources\\nUndertake ad-hoc data analytics as required\\nbr>\\nEducation/Experience\\n\\nMaster''s Degree in a quantitative discipline with a minimum of ten (10) years of experience in a credit risk analytics or portfolio management role and three (3) years of experience developing data driven credit risk strategies for a credit card or other unsecured portfolio.\\nWorking experience with SAS, including E-Miner and SQL\\nPreferred experience working for a top 10 national U.S. credit card issuer\\nWork experience may substitute for education requirement.\\n\\nLic/Cert/Reg\\n\\nRequired: None required\\nPreferred: None preferred\\n\\n\\n\\nAt BBVA, we believe that having a team made up of people with different ways of viewing the world and of taking on each challenge makes us a better bank. That is why we actively support diversity and inclusion, and we invite you to apply, regardless of your race, gender, age, sexual orientation, country of origin, experience, studies, etc.\\nWe nurture a collaborative and inclusive work environment that enables us to show and develop the best we each have to offer.\\nPay Transparency Policy Statement\\nThe contractor will not discharge or in any other manner discriminate against employees or applicants because they have inquired about, discussed, or disclosed their own pay or the pay of another employee or applicant. However, employees who have access to the compensation information of other employees or applicants as a part of their essential job functions cannot disclose the pay of other employees or applicants to individuals who do not otherwise have access to compensation information, unless the disclosure is (a) in response to a formal complaint or charge, (b) in furtherance of an investigation, proceeding, hearing, or action, including an investigation conducted by the employer, or (c) consistent with the contractor’s legal duty to furnish information (41 C.F.R. 60-1.35 (c)).\\nIndividuals with Disabilities\\nBBVA Compass, BBVA Securities Inc., and BBVA S.A. New York Branch invite all interested and qualified applicants to apply for employment opportunities. If you are a U.S.-based job seeker with a disability who is unable to use our online tools to search and apply for jobs, please contact us by emailing: disabilityaccessjobs.us@bbva.com or by calling toll-free (in the U.S.) 1-844-664-9275. Please indicate the specific type of assistance needed*.\\nThe disability access telephone line and email address are reserved solely for job seekers with disabilities requesting accessibility assistance or an accommodation. Please do not call about the status of your job application if you do not require accessibility assistance or an accommodation. Messages left for other purposes, such as following up on an application or non-disability related or technical issues, will not receive a response.\\nEEO Statement\\nBBVA Compass, BBVA Securities Inc., and BBVA S.A. New York Branch have a firm and unwavering policy to provide equal employment opportunity without regard to age, citizenship, color, disability, ethnic origin, gender, gender identity and expression, marital status, nationality, national origin, race, religion, sexual orientation, genetic predisposition, protected veteran status, or any other status or classification protected by federal, state or local law. This policy includes all job groups, classifications and organizational units. With regard to employment, this policy extends to applicants and covers our recruiting, hiring, promotion, transfer, demotion, discipline, termination, benefits, compensation and training practices as well as social and recreational activities. View the \"EEO is the Law\" & \"View the EEO is the Law Supplement Poster\" poster. BBVA Compass, BBVA Securities, Inc., and BBVA NY are equal opportunity and affirmative action employer.  "
      ]
     },
     "execution_count": 9,
     "metadata": {},
     "output_type": "execute_result"
    }
   ],
   "source": [
    "Descriptions_df"
   ]
  },
  {
   "cell_type": "markdown",
   "metadata": {},
   "source": [
    "# Move to csv"
   ]
  },
  {
   "cell_type": "code",
   "execution_count": 10,
   "metadata": {},
   "outputs": [],
   "source": [
    "Descriptions_df.to_csv('Descriptions_df_Statistician_Houston.csv')"
   ]
  },
  {
   "cell_type": "code",
   "execution_count": null,
   "metadata": {},
   "outputs": [],
   "source": []
  }
 ],
 "metadata": {
  "kernelspec": {
   "display_name": "Python 3",
   "language": "python",
   "name": "python3"
  },
  "language_info": {
   "codemirror_mode": {
    "name": "ipython",
    "version": 3
   },
   "file_extension": ".py",
   "mimetype": "text/x-python",
   "name": "python",
   "nbconvert_exporter": "python",
   "pygments_lexer": "ipython3",
   "version": "3.7.4"
  }
 },
 "nbformat": 4,
 "nbformat_minor": 2
}
