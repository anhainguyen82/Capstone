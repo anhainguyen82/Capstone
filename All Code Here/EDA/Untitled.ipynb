{
 "cells": [
  {
   "cell_type": "code",
   "execution_count": 3,
   "metadata": {},
   "outputs": [],
   "source": [
    "import pandas as pd "
   ]
  },
  {
   "cell_type": "code",
   "execution_count": 4,
   "metadata": {},
   "outputs": [],
   "source": [
    "data = pd.read_csv(\"datascientist_1.csv\",encoding = \"ISO-8859-1\") "
   ]
  },
  {
   "cell_type": "code",
   "execution_count": 5,
   "metadata": {},
   "outputs": [
    {
     "data": {
      "text/html": [
       "<div>\n",
       "<style scoped>\n",
       "    .dataframe tbody tr th:only-of-type {\n",
       "        vertical-align: middle;\n",
       "    }\n",
       "\n",
       "    .dataframe tbody tr th {\n",
       "        vertical-align: top;\n",
       "    }\n",
       "\n",
       "    .dataframe thead th {\n",
       "        text-align: right;\n",
       "    }\n",
       "</style>\n",
       "<table border=\"1\" class=\"dataframe\">\n",
       "  <thead>\n",
       "    <tr style=\"text-align: right;\">\n",
       "      <th></th>\n",
       "      <th>SearchTitle</th>\n",
       "      <th>Title</th>\n",
       "      <th>Location</th>\n",
       "      <th>City</th>\n",
       "      <th>State</th>\n",
       "      <th>FullDescriptions</th>\n",
       "      <th>Corpus</th>\n",
       "    </tr>\n",
       "  </thead>\n",
       "  <tbody>\n",
       "    <tr>\n",
       "      <th>0</th>\n",
       "      <td>Data Scientist</td>\n",
       "      <td>2020 Spring Internship - Data Science</td>\n",
       "      <td>Washington, DC</td>\n",
       "      <td>Washington</td>\n",
       "      <td>DC</td>\n",
       "      <td>2020 Spring Internship - Data Science(Job Numb...</td>\n",
       "      <td>You must be a student or recent college gradua...</td>\n",
       "    </tr>\n",
       "    <tr>\n",
       "      <th>1</th>\n",
       "      <td>Data Scientist</td>\n",
       "      <td>2020 Spring Internship - Data Science</td>\n",
       "      <td>Washington, DC 20001</td>\n",
       "      <td>Washington</td>\n",
       "      <td>DC</td>\n",
       "      <td>Weber Shandwick, a leading global communicatio...</td>\n",
       "      <td>You must be a student or recent college gradua...</td>\n",
       "    </tr>\n",
       "    <tr>\n",
       "      <th>2</th>\n",
       "      <td>Data Scientist</td>\n",
       "      <td>Data Science Instructor</td>\n",
       "      <td>Boston, MA</td>\n",
       "      <td>Boston</td>\n",
       "      <td>MA</td>\n",
       "      <td>Part-time / freelancer\\nBoston, MA\\n\\nWe are l...</td>\n",
       "      <td>You have at least 6 months of professional dat...</td>\n",
       "    </tr>\n",
       "    <tr>\n",
       "      <th>3</th>\n",
       "      <td>Data Scientist</td>\n",
       "      <td>Data Scientist</td>\n",
       "      <td>Palo Alto, CA</td>\n",
       "      <td>Palo Alto</td>\n",
       "      <td>CA</td>\n",
       "      <td>Job Overview\\nExperience\\n10+ years\\nQualifica...</td>\n",
       "      <td>You have a Masterâ's /Ph.D. in Computer Scienc...</td>\n",
       "    </tr>\n",
       "    <tr>\n",
       "      <th>4</th>\n",
       "      <td>Data Scientist</td>\n",
       "      <td>Data Analyst / Data Scientist</td>\n",
       "      <td>San Jose, CA</td>\n",
       "      <td>San Jose</td>\n",
       "      <td>CA</td>\n",
       "      <td>Job Details\\nPosition : Data Analyst / Data Sc...</td>\n",
       "      <td>You are passionate about asking and answering ...</td>\n",
       "    </tr>\n",
       "  </tbody>\n",
       "</table>\n",
       "</div>"
      ],
      "text/plain": [
       "      SearchTitle                                  Title  \\\n",
       "0  Data Scientist  2020 Spring Internship - Data Science   \n",
       "1  Data Scientist  2020 Spring Internship - Data Science   \n",
       "2  Data Scientist                Data Science Instructor   \n",
       "3  Data Scientist                         Data Scientist   \n",
       "4  Data Scientist          Data Analyst / Data Scientist   \n",
       "\n",
       "               Location        City State  \\\n",
       "0        Washington, DC  Washington    DC   \n",
       "1  Washington, DC 20001  Washington    DC   \n",
       "2            Boston, MA      Boston    MA   \n",
       "3         Palo Alto, CA   Palo Alto    CA   \n",
       "4          San Jose, CA    San Jose    CA   \n",
       "\n",
       "                                    FullDescriptions  \\\n",
       "0  2020 Spring Internship - Data Science(Job Numb...   \n",
       "1  Weber Shandwick, a leading global communicatio...   \n",
       "2  Part-time / freelancer\\nBoston, MA\\n\\nWe are l...   \n",
       "3  Job Overview\\nExperience\\n10+ years\\nQualifica...   \n",
       "4  Job Details\\nPosition : Data Analyst / Data Sc...   \n",
       "\n",
       "                                              Corpus  \n",
       "0  You must be a student or recent college gradua...  \n",
       "1  You must be a student or recent college gradua...  \n",
       "2  You have at least 6 months of professional dat...  \n",
       "3  You have a Masterâ's /Ph.D. in Computer Scienc...  \n",
       "4  You are passionate about asking and answering ...  "
      ]
     },
     "execution_count": 5,
     "metadata": {},
     "output_type": "execute_result"
    }
   ],
   "source": [
    "data.head()"
   ]
  },
  {
   "cell_type": "code",
   "execution_count": null,
   "metadata": {},
   "outputs": [],
   "source": []
  }
 ],
 "metadata": {
  "kernelspec": {
   "display_name": "Python 3",
   "language": "python",
   "name": "python3"
  },
  "language_info": {
   "codemirror_mode": {
    "name": "ipython",
    "version": 3
   },
   "file_extension": ".py",
   "mimetype": "text/x-python",
   "name": "python",
   "nbconvert_exporter": "python",
   "pygments_lexer": "ipython3",
   "version": "3.7.4"
  }
 },
 "nbformat": 4,
 "nbformat_minor": 2
}
