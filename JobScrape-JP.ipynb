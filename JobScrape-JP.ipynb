{
 "cells": [
  {
   "cell_type": "code",
   "execution_count": 1,
   "metadata": {},
   "outputs": [],
   "source": [
    "from bs4 import BeautifulSoup\n",
    "import urllib\n",
    "from urllib.request import urlopen\n",
    "import re\n",
    "import pandas as pd\n",
    "import numpy as np"
   ]
  },
  {
   "cell_type": "code",
   "execution_count": 2,
   "metadata": {},
   "outputs": [],
   "source": [
    "base_url=urlopen('https://www.indeed.com/jobs?q=data+scientist&l=USA')\n",
    "parser = 'html.parser'\n",
    "bs = BeautifulSoup(base_url, 'html.parser')"
   ]
  },
  {
   "cell_type": "code",
   "execution_count": 3,
   "metadata": {},
   "outputs": [],
   "source": [
    "#Sanity Check\n",
    "#All 'a' tags - just to see the make-up and how many\n",
    "\n",
    "#bs.find_all('a')"
   ]
  },
  {
   "cell_type": "code",
   "execution_count": 4,
   "metadata": {},
   "outputs": [],
   "source": [
    "#This prints all web addresses but not in a list, array, or string.\n",
    "\n",
    "#page_links = bs.find_all('a', {'href':re.compile(\"/rc/\")})\n",
    "#for items in page_links:\n",
    "#    LinkList = items['href']\n",
    "#    print(LinkList)"
   ]
  },
  {
   "cell_type": "code",
   "execution_count": 5,
   "metadata": {},
   "outputs": [],
   "source": [
    "#Sanity Check\n",
    "\n",
    "#LinkList"
   ]
  },
  {
   "cell_type": "code",
   "execution_count": 6,
   "metadata": {
    "scrolled": false
   },
   "outputs": [
    {
     "name": "stdout",
     "output_type": "stream",
     "text": [
      "['/rc/clk?jk=267e7cf7de2959c7&fccid=de71a49b535e21cb&vjs=3']\n",
      "['/rc/clk?jk=267e7cf7de2959c7&fccid=de71a49b535e21cb&vjs=3', '/rc/clk?jk=75c6f0b9d2079aaf&fccid=9a55d5dc8c10ef41&vjs=3']\n",
      "['/rc/clk?jk=267e7cf7de2959c7&fccid=de71a49b535e21cb&vjs=3', '/rc/clk?jk=75c6f0b9d2079aaf&fccid=9a55d5dc8c10ef41&vjs=3', '/rc/clk?jk=f5dc0ae712778b2a&fccid=87296c430fc584e1&vjs=3']\n",
      "['/rc/clk?jk=267e7cf7de2959c7&fccid=de71a49b535e21cb&vjs=3', '/rc/clk?jk=75c6f0b9d2079aaf&fccid=9a55d5dc8c10ef41&vjs=3', '/rc/clk?jk=f5dc0ae712778b2a&fccid=87296c430fc584e1&vjs=3', '/rc/clk?jk=a11d9b56688c56c9&fccid=847cd08b3d651258&vjs=3']\n",
      "['/rc/clk?jk=267e7cf7de2959c7&fccid=de71a49b535e21cb&vjs=3', '/rc/clk?jk=75c6f0b9d2079aaf&fccid=9a55d5dc8c10ef41&vjs=3', '/rc/clk?jk=f5dc0ae712778b2a&fccid=87296c430fc584e1&vjs=3', '/rc/clk?jk=a11d9b56688c56c9&fccid=847cd08b3d651258&vjs=3', '/rc/clk?jk=8dcad7369ab9dc70&fccid=3c2181d40a370308&vjs=3']\n",
      "['/rc/clk?jk=267e7cf7de2959c7&fccid=de71a49b535e21cb&vjs=3', '/rc/clk?jk=75c6f0b9d2079aaf&fccid=9a55d5dc8c10ef41&vjs=3', '/rc/clk?jk=f5dc0ae712778b2a&fccid=87296c430fc584e1&vjs=3', '/rc/clk?jk=a11d9b56688c56c9&fccid=847cd08b3d651258&vjs=3', '/rc/clk?jk=8dcad7369ab9dc70&fccid=3c2181d40a370308&vjs=3', '/rc/clk?jk=50980e36e75cb5d3&fccid=4c3bc2bd3fda6e72&vjs=3']\n",
      "['/rc/clk?jk=267e7cf7de2959c7&fccid=de71a49b535e21cb&vjs=3', '/rc/clk?jk=75c6f0b9d2079aaf&fccid=9a55d5dc8c10ef41&vjs=3', '/rc/clk?jk=f5dc0ae712778b2a&fccid=87296c430fc584e1&vjs=3', '/rc/clk?jk=a11d9b56688c56c9&fccid=847cd08b3d651258&vjs=3', '/rc/clk?jk=8dcad7369ab9dc70&fccid=3c2181d40a370308&vjs=3', '/rc/clk?jk=50980e36e75cb5d3&fccid=4c3bc2bd3fda6e72&vjs=3', '/rc/clk?jk=83e3f665b22e5695&fccid=f01127702f08b4dc&vjs=3']\n",
      "['/rc/clk?jk=267e7cf7de2959c7&fccid=de71a49b535e21cb&vjs=3', '/rc/clk?jk=75c6f0b9d2079aaf&fccid=9a55d5dc8c10ef41&vjs=3', '/rc/clk?jk=f5dc0ae712778b2a&fccid=87296c430fc584e1&vjs=3', '/rc/clk?jk=a11d9b56688c56c9&fccid=847cd08b3d651258&vjs=3', '/rc/clk?jk=8dcad7369ab9dc70&fccid=3c2181d40a370308&vjs=3', '/rc/clk?jk=50980e36e75cb5d3&fccid=4c3bc2bd3fda6e72&vjs=3', '/rc/clk?jk=83e3f665b22e5695&fccid=f01127702f08b4dc&vjs=3', '/rc/clk?jk=0da0d97fcb637195&fccid=29f4096cfef5d289&vjs=3']\n",
      "['/rc/clk?jk=267e7cf7de2959c7&fccid=de71a49b535e21cb&vjs=3', '/rc/clk?jk=75c6f0b9d2079aaf&fccid=9a55d5dc8c10ef41&vjs=3', '/rc/clk?jk=f5dc0ae712778b2a&fccid=87296c430fc584e1&vjs=3', '/rc/clk?jk=a11d9b56688c56c9&fccid=847cd08b3d651258&vjs=3', '/rc/clk?jk=8dcad7369ab9dc70&fccid=3c2181d40a370308&vjs=3', '/rc/clk?jk=50980e36e75cb5d3&fccid=4c3bc2bd3fda6e72&vjs=3', '/rc/clk?jk=83e3f665b22e5695&fccid=f01127702f08b4dc&vjs=3', '/rc/clk?jk=0da0d97fcb637195&fccid=29f4096cfef5d289&vjs=3', '/rc/clk?jk=5726bb7b9a6dfb44&fccid=7077d7e88049c02a&vjs=3']\n"
     ]
    }
   ],
   "source": [
    "#Creates a list but addes one evertime. Really only need the last one [:8] \n",
    "Linkdf=[]\n",
    "page_links = bs.find_all('a', {'href':re.compile(\"/rc/\")})\n",
    "for items in page_links:\n",
    "    Linkdf.append(items['href']) \n",
    "    print(Linkdf)"
   ]
  },
  {
   "cell_type": "code",
   "execution_count": 7,
   "metadata": {},
   "outputs": [
    {
     "data": {
      "text/plain": [
       "9"
      ]
     },
     "execution_count": 7,
     "metadata": {},
     "output_type": "execute_result"
    }
   ],
   "source": [
    "len(Linkdf)"
   ]
  },
  {
   "cell_type": "code",
   "execution_count": 8,
   "metadata": {},
   "outputs": [
    {
     "name": "stdout",
     "output_type": "stream",
     "text": [
      "['/rc/clk?jk=267e7cf7de2959c7&fccid=de71a49b535e21cb&vjs=3', '/rc/clk?jk=75c6f0b9d2079aaf&fccid=9a55d5dc8c10ef41&vjs=3', '/rc/clk?jk=f5dc0ae712778b2a&fccid=87296c430fc584e1&vjs=3', '/rc/clk?jk=a11d9b56688c56c9&fccid=847cd08b3d651258&vjs=3', '/rc/clk?jk=8dcad7369ab9dc70&fccid=3c2181d40a370308&vjs=3', '/rc/clk?jk=50980e36e75cb5d3&fccid=4c3bc2bd3fda6e72&vjs=3', '/rc/clk?jk=83e3f665b22e5695&fccid=f01127702f08b4dc&vjs=3', '/rc/clk?jk=0da0d97fcb637195&fccid=29f4096cfef5d289&vjs=3', '/rc/clk?jk=5726bb7b9a6dfb44&fccid=7077d7e88049c02a&vjs=3']\n"
     ]
    }
   ],
   "source": [
    "#Create array with just last one\n",
    "Finallinks=Linkdf[:9]\n",
    "print(Finallinks)"
   ]
  },
  {
   "cell_type": "code",
   "execution_count": 9,
   "metadata": {},
   "outputs": [
    {
     "data": {
      "text/html": [
       "<div>\n",
       "<style scoped>\n",
       "    .dataframe tbody tr th:only-of-type {\n",
       "        vertical-align: middle;\n",
       "    }\n",
       "\n",
       "    .dataframe tbody tr th {\n",
       "        vertical-align: top;\n",
       "    }\n",
       "\n",
       "    .dataframe thead th {\n",
       "        text-align: right;\n",
       "    }\n",
       "</style>\n",
       "<table border=\"1\" class=\"dataframe\">\n",
       "  <thead>\n",
       "    <tr style=\"text-align: right;\">\n",
       "      <th></th>\n",
       "      <th>links</th>\n",
       "    </tr>\n",
       "  </thead>\n",
       "  <tbody>\n",
       "    <tr>\n",
       "      <th>0</th>\n",
       "      <td>/rc/clk?jk=267e7cf7de2959c7&amp;fccid=de71a49b535e21cb&amp;vjs=3</td>\n",
       "    </tr>\n",
       "    <tr>\n",
       "      <th>1</th>\n",
       "      <td>/rc/clk?jk=75c6f0b9d2079aaf&amp;fccid=9a55d5dc8c10ef41&amp;vjs=3</td>\n",
       "    </tr>\n",
       "    <tr>\n",
       "      <th>2</th>\n",
       "      <td>/rc/clk?jk=f5dc0ae712778b2a&amp;fccid=87296c430fc584e1&amp;vjs=3</td>\n",
       "    </tr>\n",
       "    <tr>\n",
       "      <th>3</th>\n",
       "      <td>/rc/clk?jk=a11d9b56688c56c9&amp;fccid=847cd08b3d651258&amp;vjs=3</td>\n",
       "    </tr>\n",
       "    <tr>\n",
       "      <th>4</th>\n",
       "      <td>/rc/clk?jk=8dcad7369ab9dc70&amp;fccid=3c2181d40a370308&amp;vjs=3</td>\n",
       "    </tr>\n",
       "    <tr>\n",
       "      <th>5</th>\n",
       "      <td>/rc/clk?jk=50980e36e75cb5d3&amp;fccid=4c3bc2bd3fda6e72&amp;vjs=3</td>\n",
       "    </tr>\n",
       "    <tr>\n",
       "      <th>6</th>\n",
       "      <td>/rc/clk?jk=83e3f665b22e5695&amp;fccid=f01127702f08b4dc&amp;vjs=3</td>\n",
       "    </tr>\n",
       "    <tr>\n",
       "      <th>7</th>\n",
       "      <td>/rc/clk?jk=0da0d97fcb637195&amp;fccid=29f4096cfef5d289&amp;vjs=3</td>\n",
       "    </tr>\n",
       "    <tr>\n",
       "      <th>8</th>\n",
       "      <td>/rc/clk?jk=5726bb7b9a6dfb44&amp;fccid=7077d7e88049c02a&amp;vjs=3</td>\n",
       "    </tr>\n",
       "  </tbody>\n",
       "</table>\n",
       "</div>"
      ],
      "text/plain": [
       "                                                      links\n",
       "0  /rc/clk?jk=267e7cf7de2959c7&fccid=de71a49b535e21cb&vjs=3\n",
       "1  /rc/clk?jk=75c6f0b9d2079aaf&fccid=9a55d5dc8c10ef41&vjs=3\n",
       "2  /rc/clk?jk=f5dc0ae712778b2a&fccid=87296c430fc584e1&vjs=3\n",
       "3  /rc/clk?jk=a11d9b56688c56c9&fccid=847cd08b3d651258&vjs=3\n",
       "4  /rc/clk?jk=8dcad7369ab9dc70&fccid=3c2181d40a370308&vjs=3\n",
       "5  /rc/clk?jk=50980e36e75cb5d3&fccid=4c3bc2bd3fda6e72&vjs=3\n",
       "6  /rc/clk?jk=83e3f665b22e5695&fccid=f01127702f08b4dc&vjs=3\n",
       "7  /rc/clk?jk=0da0d97fcb637195&fccid=29f4096cfef5d289&vjs=3\n",
       "8  /rc/clk?jk=5726bb7b9a6dfb44&fccid=7077d7e88049c02a&vjs=3"
      ]
     },
     "execution_count": 9,
     "metadata": {},
     "output_type": "execute_result"
    }
   ],
   "source": [
    "#Moving it to a data frame\n",
    "pd.set_option('display.max_colwidth',-1)\n",
    "data = {'links':Finallinks}\n",
    "df = pd.DataFrame(data, columns=['links'])\n",
    "df"
   ]
  },
  {
   "cell_type": "code",
   "execution_count": 10,
   "metadata": {},
   "outputs": [
    {
     "name": "stdout",
     "output_type": "stream",
     "text": [
      "                                                      links  \\\n",
      "0  /rc/clk?jk=267e7cf7de2959c7&fccid=de71a49b535e21cb&vjs=3   \n",
      "1  /rc/clk?jk=75c6f0b9d2079aaf&fccid=9a55d5dc8c10ef41&vjs=3   \n",
      "2  /rc/clk?jk=f5dc0ae712778b2a&fccid=87296c430fc584e1&vjs=3   \n",
      "3  /rc/clk?jk=a11d9b56688c56c9&fccid=847cd08b3d651258&vjs=3   \n",
      "4  /rc/clk?jk=8dcad7369ab9dc70&fccid=3c2181d40a370308&vjs=3   \n",
      "5  /rc/clk?jk=50980e36e75cb5d3&fccid=4c3bc2bd3fda6e72&vjs=3   \n",
      "6  /rc/clk?jk=83e3f665b22e5695&fccid=f01127702f08b4dc&vjs=3   \n",
      "7  /rc/clk?jk=0da0d97fcb637195&fccid=29f4096cfef5d289&vjs=3   \n",
      "8  /rc/clk?jk=5726bb7b9a6dfb44&fccid=7077d7e88049c02a&vjs=3   \n",
      "\n",
      "                      Web  \\\n",
      "0  https://www.indeed.com   \n",
      "1  https://www.indeed.com   \n",
      "2  https://www.indeed.com   \n",
      "3  https://www.indeed.com   \n",
      "4  https://www.indeed.com   \n",
      "5  https://www.indeed.com   \n",
      "6  https://www.indeed.com   \n",
      "7  https://www.indeed.com   \n",
      "8  https://www.indeed.com   \n",
      "\n",
      "                                                                              URL  \n",
      "0  https://www.indeed.com/rc/clk?jk=267e7cf7de2959c7&fccid=de71a49b535e21cb&vjs=3  \n",
      "1  https://www.indeed.com/rc/clk?jk=75c6f0b9d2079aaf&fccid=9a55d5dc8c10ef41&vjs=3  \n",
      "2  https://www.indeed.com/rc/clk?jk=f5dc0ae712778b2a&fccid=87296c430fc584e1&vjs=3  \n",
      "3  https://www.indeed.com/rc/clk?jk=a11d9b56688c56c9&fccid=847cd08b3d651258&vjs=3  \n",
      "4  https://www.indeed.com/rc/clk?jk=8dcad7369ab9dc70&fccid=3c2181d40a370308&vjs=3  \n",
      "5  https://www.indeed.com/rc/clk?jk=50980e36e75cb5d3&fccid=4c3bc2bd3fda6e72&vjs=3  \n",
      "6  https://www.indeed.com/rc/clk?jk=83e3f665b22e5695&fccid=f01127702f08b4dc&vjs=3  \n",
      "7  https://www.indeed.com/rc/clk?jk=0da0d97fcb637195&fccid=29f4096cfef5d289&vjs=3  \n",
      "8  https://www.indeed.com/rc/clk?jk=5726bb7b9a6dfb44&fccid=7077d7e88049c02a&vjs=3  \n"
     ]
    }
   ],
   "source": [
    "#append indeed.com to the front of each\n",
    "df['Web'] = 'https://www.indeed.com'\n",
    "df['URL'] = df.Web.str.cat(df.links)\n",
    "print(df)"
   ]
  },
  {
   "cell_type": "code",
   "execution_count": null,
   "metadata": {},
   "outputs": [],
   "source": []
  }
 ],
 "metadata": {
  "kernelspec": {
   "display_name": "Python 3",
   "language": "python",
   "name": "python3"
  },
  "language_info": {
   "codemirror_mode": {
    "name": "ipython",
    "version": 3
   },
   "file_extension": ".py",
   "mimetype": "text/x-python",
   "name": "python",
   "nbconvert_exporter": "python",
   "pygments_lexer": "ipython3",
   "version": "3.7.4"
  }
 },
 "nbformat": 4,
 "nbformat_minor": 2
}
