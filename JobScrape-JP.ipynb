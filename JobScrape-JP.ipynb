{
 "cells": [
  {
   "cell_type": "code",
   "execution_count": 16,
   "metadata": {},
   "outputs": [],
   "source": [
    "from bs4 import BeautifulSoup\n",
    "import urllib\n",
    "from urllib.request import urlopen\n",
    "import re\n",
    "import pandas as pd\n",
    "import numpy as np\n",
    "import requests\n",
    "from requests import get\n",
    "import nltk"
   ]
  },
  {
   "cell_type": "markdown",
   "metadata": {},
   "source": [
    "# Pulling all links off of a search page and putting them in a dataframe to scrape."
   ]
  },
  {
   "cell_type": "code",
   "execution_count": 2,
   "metadata": {},
   "outputs": [],
   "source": [
    "base_url=urlopen('https://www.indeed.com/jobs?q=data+scientist&l=USA')\n",
    "parser = 'html.parser'\n",
    "bs = BeautifulSoup(base_url, 'html.parser')"
   ]
  },
  {
   "cell_type": "code",
   "execution_count": 3,
   "metadata": {},
   "outputs": [],
   "source": [
    "#Sanity Check\n",
    "#All 'a' tags - just to see the make-up and how many\n",
    "\n",
    "#bs.find_all('a')"
   ]
  },
  {
   "cell_type": "code",
   "execution_count": 4,
   "metadata": {},
   "outputs": [],
   "source": [
    "#This prints all web addresses but not in a list, array, or string.\n",
    "\n",
    "#page_links = bs.find_all('a', {'href':re.compile(\"/rc/\")})\n",
    "#for items in page_links:\n",
    "#    LinkList = items['href']\n",
    "#    print(LinkList)"
   ]
  },
  {
   "cell_type": "code",
   "execution_count": 5,
   "metadata": {},
   "outputs": [],
   "source": [
    "#Sanity Check\n",
    "\n",
    "#LinkList"
   ]
  },
  {
   "cell_type": "code",
   "execution_count": 30,
   "metadata": {
    "scrolled": false
   },
   "outputs": [
    {
     "name": "stdout",
     "output_type": "stream",
     "text": [
      "['/rc/clk?jk=267e7cf7de2959c7&fccid=de71a49b535e21cb&vjs=3']\n",
      "['/rc/clk?jk=267e7cf7de2959c7&fccid=de71a49b535e21cb&vjs=3', '/rc/clk?jk=75c6f0b9d2079aaf&fccid=9a55d5dc8c10ef41&vjs=3']\n",
      "['/rc/clk?jk=267e7cf7de2959c7&fccid=de71a49b535e21cb&vjs=3', '/rc/clk?jk=75c6f0b9d2079aaf&fccid=9a55d5dc8c10ef41&vjs=3', '/rc/clk?jk=f5dc0ae712778b2a&fccid=87296c430fc584e1&vjs=3']\n",
      "['/rc/clk?jk=267e7cf7de2959c7&fccid=de71a49b535e21cb&vjs=3', '/rc/clk?jk=75c6f0b9d2079aaf&fccid=9a55d5dc8c10ef41&vjs=3', '/rc/clk?jk=f5dc0ae712778b2a&fccid=87296c430fc584e1&vjs=3', '/rc/clk?jk=8dcad7369ab9dc70&fccid=3c2181d40a370308&vjs=3']\n",
      "['/rc/clk?jk=267e7cf7de2959c7&fccid=de71a49b535e21cb&vjs=3', '/rc/clk?jk=75c6f0b9d2079aaf&fccid=9a55d5dc8c10ef41&vjs=3', '/rc/clk?jk=f5dc0ae712778b2a&fccid=87296c430fc584e1&vjs=3', '/rc/clk?jk=8dcad7369ab9dc70&fccid=3c2181d40a370308&vjs=3', '/rc/clk?jk=50980e36e75cb5d3&fccid=4c3bc2bd3fda6e72&vjs=3']\n",
      "['/rc/clk?jk=267e7cf7de2959c7&fccid=de71a49b535e21cb&vjs=3', '/rc/clk?jk=75c6f0b9d2079aaf&fccid=9a55d5dc8c10ef41&vjs=3', '/rc/clk?jk=f5dc0ae712778b2a&fccid=87296c430fc584e1&vjs=3', '/rc/clk?jk=8dcad7369ab9dc70&fccid=3c2181d40a370308&vjs=3', '/rc/clk?jk=50980e36e75cb5d3&fccid=4c3bc2bd3fda6e72&vjs=3', '/rc/clk?jk=a11d9b56688c56c9&fccid=847cd08b3d651258&vjs=3']\n",
      "['/rc/clk?jk=267e7cf7de2959c7&fccid=de71a49b535e21cb&vjs=3', '/rc/clk?jk=75c6f0b9d2079aaf&fccid=9a55d5dc8c10ef41&vjs=3', '/rc/clk?jk=f5dc0ae712778b2a&fccid=87296c430fc584e1&vjs=3', '/rc/clk?jk=8dcad7369ab9dc70&fccid=3c2181d40a370308&vjs=3', '/rc/clk?jk=50980e36e75cb5d3&fccid=4c3bc2bd3fda6e72&vjs=3', '/rc/clk?jk=a11d9b56688c56c9&fccid=847cd08b3d651258&vjs=3', '/rc/clk?jk=83e3f665b22e5695&fccid=f01127702f08b4dc&vjs=3']\n",
      "['/rc/clk?jk=267e7cf7de2959c7&fccid=de71a49b535e21cb&vjs=3', '/rc/clk?jk=75c6f0b9d2079aaf&fccid=9a55d5dc8c10ef41&vjs=3', '/rc/clk?jk=f5dc0ae712778b2a&fccid=87296c430fc584e1&vjs=3', '/rc/clk?jk=8dcad7369ab9dc70&fccid=3c2181d40a370308&vjs=3', '/rc/clk?jk=50980e36e75cb5d3&fccid=4c3bc2bd3fda6e72&vjs=3', '/rc/clk?jk=a11d9b56688c56c9&fccid=847cd08b3d651258&vjs=3', '/rc/clk?jk=83e3f665b22e5695&fccid=f01127702f08b4dc&vjs=3', '/rc/clk?jk=5726bb7b9a6dfb44&fccid=7077d7e88049c02a&vjs=3']\n",
      "['/rc/clk?jk=267e7cf7de2959c7&fccid=de71a49b535e21cb&vjs=3', '/rc/clk?jk=75c6f0b9d2079aaf&fccid=9a55d5dc8c10ef41&vjs=3', '/rc/clk?jk=f5dc0ae712778b2a&fccid=87296c430fc584e1&vjs=3', '/rc/clk?jk=8dcad7369ab9dc70&fccid=3c2181d40a370308&vjs=3', '/rc/clk?jk=50980e36e75cb5d3&fccid=4c3bc2bd3fda6e72&vjs=3', '/rc/clk?jk=a11d9b56688c56c9&fccid=847cd08b3d651258&vjs=3', '/rc/clk?jk=83e3f665b22e5695&fccid=f01127702f08b4dc&vjs=3', '/rc/clk?jk=5726bb7b9a6dfb44&fccid=7077d7e88049c02a&vjs=3', '/rc/clk?jk=0da0d97fcb637195&fccid=29f4096cfef5d289&vjs=3']\n"
     ]
    }
   ],
   "source": [
    "#Creates a list but addes one evertime. Really only need the last one [:8] \n",
    "Linkdf=[]\n",
    "page_links = bs.find_all('a', {'href':re.compile(\"/rc/\")})\n",
    "for items in page_links:\n",
    "    Linkdf.append(items['href'])\n",
    "    print(Linkdf)"
   ]
  },
  {
   "cell_type": "code",
   "execution_count": 31,
   "metadata": {},
   "outputs": [
    {
     "data": {
      "text/plain": [
       "9"
      ]
     },
     "execution_count": 31,
     "metadata": {},
     "output_type": "execute_result"
    }
   ],
   "source": [
    "#Run length, so you know what to put in the next cell\n",
    "len(Finallinks)"
   ]
  },
  {
   "cell_type": "code",
   "execution_count": 32,
   "metadata": {},
   "outputs": [
    {
     "name": "stdout",
     "output_type": "stream",
     "text": [
      "['/rc/clk?jk=267e7cf7de2959c7&fccid=de71a49b535e21cb&vjs=3', '/rc/clk?jk=75c6f0b9d2079aaf&fccid=9a55d5dc8c10ef41&vjs=3', '/rc/clk?jk=f5dc0ae712778b2a&fccid=87296c430fc584e1&vjs=3', '/rc/clk?jk=8dcad7369ab9dc70&fccid=3c2181d40a370308&vjs=3', '/rc/clk?jk=50980e36e75cb5d3&fccid=4c3bc2bd3fda6e72&vjs=3', '/rc/clk?jk=a11d9b56688c56c9&fccid=847cd08b3d651258&vjs=3', '/rc/clk?jk=83e3f665b22e5695&fccid=f01127702f08b4dc&vjs=3', '/rc/clk?jk=5726bb7b9a6dfb44&fccid=7077d7e88049c02a&vjs=3', '/rc/clk?jk=0da0d97fcb637195&fccid=29f4096cfef5d289&vjs=3']\n"
     ]
    }
   ],
   "source": [
    "#Create array with just last one\n",
    "Finallinks=Linkdf[:9]\n",
    "print(Finallinks)"
   ]
  },
  {
   "cell_type": "code",
   "execution_count": 33,
   "metadata": {},
   "outputs": [
    {
     "data": {
      "text/html": [
       "<div>\n",
       "<style scoped>\n",
       "    .dataframe tbody tr th:only-of-type {\n",
       "        vertical-align: middle;\n",
       "    }\n",
       "\n",
       "    .dataframe tbody tr th {\n",
       "        vertical-align: top;\n",
       "    }\n",
       "\n",
       "    .dataframe thead th {\n",
       "        text-align: right;\n",
       "    }\n",
       "</style>\n",
       "<table border=\"1\" class=\"dataframe\">\n",
       "  <thead>\n",
       "    <tr style=\"text-align: right;\">\n",
       "      <th></th>\n",
       "      <th>links</th>\n",
       "    </tr>\n",
       "  </thead>\n",
       "  <tbody>\n",
       "    <tr>\n",
       "      <th>0</th>\n",
       "      <td>/rc/clk?jk=267e7cf7de2959c7&amp;fccid=de71a49b535e21cb&amp;vjs=3</td>\n",
       "    </tr>\n",
       "    <tr>\n",
       "      <th>1</th>\n",
       "      <td>/rc/clk?jk=75c6f0b9d2079aaf&amp;fccid=9a55d5dc8c10ef41&amp;vjs=3</td>\n",
       "    </tr>\n",
       "    <tr>\n",
       "      <th>2</th>\n",
       "      <td>/rc/clk?jk=f5dc0ae712778b2a&amp;fccid=87296c430fc584e1&amp;vjs=3</td>\n",
       "    </tr>\n",
       "    <tr>\n",
       "      <th>3</th>\n",
       "      <td>/rc/clk?jk=8dcad7369ab9dc70&amp;fccid=3c2181d40a370308&amp;vjs=3</td>\n",
       "    </tr>\n",
       "    <tr>\n",
       "      <th>4</th>\n",
       "      <td>/rc/clk?jk=50980e36e75cb5d3&amp;fccid=4c3bc2bd3fda6e72&amp;vjs=3</td>\n",
       "    </tr>\n",
       "    <tr>\n",
       "      <th>5</th>\n",
       "      <td>/rc/clk?jk=a11d9b56688c56c9&amp;fccid=847cd08b3d651258&amp;vjs=3</td>\n",
       "    </tr>\n",
       "    <tr>\n",
       "      <th>6</th>\n",
       "      <td>/rc/clk?jk=83e3f665b22e5695&amp;fccid=f01127702f08b4dc&amp;vjs=3</td>\n",
       "    </tr>\n",
       "    <tr>\n",
       "      <th>7</th>\n",
       "      <td>/rc/clk?jk=5726bb7b9a6dfb44&amp;fccid=7077d7e88049c02a&amp;vjs=3</td>\n",
       "    </tr>\n",
       "    <tr>\n",
       "      <th>8</th>\n",
       "      <td>/rc/clk?jk=0da0d97fcb637195&amp;fccid=29f4096cfef5d289&amp;vjs=3</td>\n",
       "    </tr>\n",
       "  </tbody>\n",
       "</table>\n",
       "</div>"
      ],
      "text/plain": [
       "                                                      links\n",
       "0  /rc/clk?jk=267e7cf7de2959c7&fccid=de71a49b535e21cb&vjs=3\n",
       "1  /rc/clk?jk=75c6f0b9d2079aaf&fccid=9a55d5dc8c10ef41&vjs=3\n",
       "2  /rc/clk?jk=f5dc0ae712778b2a&fccid=87296c430fc584e1&vjs=3\n",
       "3  /rc/clk?jk=8dcad7369ab9dc70&fccid=3c2181d40a370308&vjs=3\n",
       "4  /rc/clk?jk=50980e36e75cb5d3&fccid=4c3bc2bd3fda6e72&vjs=3\n",
       "5  /rc/clk?jk=a11d9b56688c56c9&fccid=847cd08b3d651258&vjs=3\n",
       "6  /rc/clk?jk=83e3f665b22e5695&fccid=f01127702f08b4dc&vjs=3\n",
       "7  /rc/clk?jk=5726bb7b9a6dfb44&fccid=7077d7e88049c02a&vjs=3\n",
       "8  /rc/clk?jk=0da0d97fcb637195&fccid=29f4096cfef5d289&vjs=3"
      ]
     },
     "execution_count": 33,
     "metadata": {},
     "output_type": "execute_result"
    }
   ],
   "source": [
    "#Moving it to a data frame\n",
    "pd.set_option('display.max_colwidth',-1)\n",
    "data = {'links':Finallinks}\n",
    "df = pd.DataFrame(data, columns=['links'])\n",
    "df"
   ]
  },
  {
   "cell_type": "code",
   "execution_count": 34,
   "metadata": {},
   "outputs": [
    {
     "name": "stdout",
     "output_type": "stream",
     "text": [
      "                                                      links  \\\n",
      "0  /rc/clk?jk=267e7cf7de2959c7&fccid=de71a49b535e21cb&vjs=3   \n",
      "1  /rc/clk?jk=75c6f0b9d2079aaf&fccid=9a55d5dc8c10ef41&vjs=3   \n",
      "2  /rc/clk?jk=f5dc0ae712778b2a&fccid=87296c430fc584e1&vjs=3   \n",
      "3  /rc/clk?jk=8dcad7369ab9dc70&fccid=3c2181d40a370308&vjs=3   \n",
      "4  /rc/clk?jk=50980e36e75cb5d3&fccid=4c3bc2bd3fda6e72&vjs=3   \n",
      "5  /rc/clk?jk=a11d9b56688c56c9&fccid=847cd08b3d651258&vjs=3   \n",
      "6  /rc/clk?jk=83e3f665b22e5695&fccid=f01127702f08b4dc&vjs=3   \n",
      "7  /rc/clk?jk=5726bb7b9a6dfb44&fccid=7077d7e88049c02a&vjs=3   \n",
      "8  /rc/clk?jk=0da0d97fcb637195&fccid=29f4096cfef5d289&vjs=3   \n",
      "\n",
      "                      Web  \\\n",
      "0  https://www.indeed.com   \n",
      "1  https://www.indeed.com   \n",
      "2  https://www.indeed.com   \n",
      "3  https://www.indeed.com   \n",
      "4  https://www.indeed.com   \n",
      "5  https://www.indeed.com   \n",
      "6  https://www.indeed.com   \n",
      "7  https://www.indeed.com   \n",
      "8  https://www.indeed.com   \n",
      "\n",
      "                                                                              URL  \n",
      "0  https://www.indeed.com/rc/clk?jk=267e7cf7de2959c7&fccid=de71a49b535e21cb&vjs=3  \n",
      "1  https://www.indeed.com/rc/clk?jk=75c6f0b9d2079aaf&fccid=9a55d5dc8c10ef41&vjs=3  \n",
      "2  https://www.indeed.com/rc/clk?jk=f5dc0ae712778b2a&fccid=87296c430fc584e1&vjs=3  \n",
      "3  https://www.indeed.com/rc/clk?jk=8dcad7369ab9dc70&fccid=3c2181d40a370308&vjs=3  \n",
      "4  https://www.indeed.com/rc/clk?jk=50980e36e75cb5d3&fccid=4c3bc2bd3fda6e72&vjs=3  \n",
      "5  https://www.indeed.com/rc/clk?jk=a11d9b56688c56c9&fccid=847cd08b3d651258&vjs=3  \n",
      "6  https://www.indeed.com/rc/clk?jk=83e3f665b22e5695&fccid=f01127702f08b4dc&vjs=3  \n",
      "7  https://www.indeed.com/rc/clk?jk=5726bb7b9a6dfb44&fccid=7077d7e88049c02a&vjs=3  \n",
      "8  https://www.indeed.com/rc/clk?jk=0da0d97fcb637195&fccid=29f4096cfef5d289&vjs=3  \n"
     ]
    }
   ],
   "source": [
    "#append indeed.com to the front of each\n",
    "df['Web'] = 'https://www.indeed.com'\n",
    "df['URL'] = df.Web.str.cat(df.links)\n",
    "print(df)"
   ]
  },
  {
   "cell_type": "markdown",
   "metadata": {},
   "source": [
    "# Trying to run the code with one link to see if it gets what I need before doing a loop through all."
   ]
  },
  {
   "cell_type": "code",
   "execution_count": 11,
   "metadata": {
    "scrolled": true
   },
   "outputs": [
    {
     "name": "stdout",
     "output_type": "stream",
     "text": [
      "<html dir=\"ltr\" lang=\"en\">\n",
      "<head>\n",
      "    <title>Entry Level Data Scientist - United States - Indeed.com</title><meta   charset=\"utf-8\"  ><meta  content=\"ie=edge\"  http-equiv=\"x-ua-compatible\" ><meta name=\"viewport\" content=\"width=device-width, initial-scale=1\"   ><meta name=\"google\" content=\"notranslate\"   ><meta name=\"robots\" content=\"noindex\"   ><meta  content=\"http://www.indeed.com/viewjob?from=appsharedroid&amp;jk=267e7cf7de2959c7\"   id=\"indeed-share-url\"><meta  content=\"Entry Level Data Scientist\"   id=\"indeed-share-message\"><meta  content=\"simple\"   id=\"indeed-share-type\"><script type=\"text/javascript\" src=\"https://d3fw5vlhllyvee.cloudfront.net/mosaic-common/dist/012227183ec5bf4b45f9/scripts/shim.js\"></script><link rel=\"stylesheet\" href=\"/m/s/52239b048adda78d5fc0/styles/viewjob-ltr.css\" />\n",
      "    <style>\n",
      "table[role=\"banner\"]{height:110px}body.janus table #jobsearch #what_label_top,body.janus table #jobsearch #where_label_top{display:none}body.janus table #jobsearch #what_label,body.janus table #jobsearch #what_label_bot,body.janus table #jobsearch #where_label,body.janus table #jobsearch #where_label_bot{color:#6f6f6f;font-size:0.75rem;line-height:1.33;letter-spacing:0}\n",
      "</style>\n",
      "<style>\n",
      ".ltr #branding .indeedLogo{margin-left:24px;margin-right:12px}#g_nav{padding-left:91px}#branding{position:absolute;top:0;left:2px}#branding .indeedLogo{width:80px !important;height:20px}body.janus table #branding-td{min-width:0;width:0 !important}body.janus table #jobsearch{padding-left:32px !important}\n",
      "</style>\n",
      "<style>\n",
      "body.janus div.row .sponsoredGray{display:none}body.janus div.row .sponsoredGray+*{margin-left:-0.5rem}.JASX-32784_splbl{font-size:0.75rem;line-height:1.33;color:#6f6f6f}.jobsearch-JobMetadataFooter .JASX-32784_splbl{display:inline}.jobsearch-JobMetadataFooter .JASX-32784_splbl::before{content:'-';speak:none;margin:0 0.25rem}#info-link-row .JASX-32784_splbl,.result-link-bar-viewjob .result-link-bar .JASX-32784_splbl{display:inline}#info-link-row .JASX-32784_splbl::before,.result-link-bar-viewjob .result-link-bar .JASX-32784_splbl::before{content:'-';speak:none;margin:0 0.25rem}\n",
      "</style>\n",
      "</head>\n",
      "<body>\n",
      "    <script type=\"text/javascript\" src=\"/m/s/2dbaf35/en_US.min.js\"></script><script>window.indeed=window.indeed||{};indeed.crashtext=indeed.crashtext||{};indeed.crashtext.populate=indeed.crashtext.populate||function(c,g){var d=window[g];if(d){var e=d[\"\"]||{},h=e.salt;if(e.hasOwnProperty(\"salt\"))for(var b in c){for(var a=void 0,a=h,f=b.length;f;)a=33*a^b.charCodeAt(--f);a>>>=0;e.hasOwnProperty(\"id_length\")&&(a=String(a).substring(0,e.id_length));d[a]=c[b]}else for(b in c)d[b]=[null].concat(c[b])}};indeed.crashtext.populate({\"Title for a tab in mobile view job\\u0004Job Description\":[\"Job\"]}, 'indeed.i18n.localeData')</script><script>(function(_){_.__JS_ERROR__=[];_.onerror=function(){_.__JS_ERROR__.push(Array.prototype.slice.call(arguments))}})(window);(function(e){const n={homepage:\"mobtk\",viewjob:\"mobvjtk\",viewjobJapan:\"mobvjtk\",serp:\"mobtk\",serpJapan:\"mobtk\"};const o={homepage:\"hp\",viewjob:\"vj\",viewjobJapan:\"vjjp\",serp:\"srch\",serpJapan:\"srchjp\"};const t=function(e){return n[e]};const r=function(e){return o[e]};const a=function(e,n){return'\"eventName\":\"mobPageLoadInfo\",'+'\"type\":\"mobPageLoadInfo\",'+'\"pageId\":\"'+e+'\",\"'+t(e)+'\":\"'+n+'\",\"pageName\":\"'+r(e)+'\"'};const i=function(){return e.screen.orientation.type.indexOf(\"portrait\")>-1?\"portrait\":\"landscape\"};const c=function(){const n=e.devicePixelRatio||1;var o='\"pixelRatio\":'+n+\",\"+'\"scrWidth\":'+Math.floor(e.screen.width*n)+\",\"+'\"scrHeight\":'+Math.floor(e.screen.height*n);if(e.screen.orientation){o+=',\"scrOrientation\":\"'+i()+'\"'}return o};const p=function(e){return encodeURIComponent(e).replace(/%20/g,\"+\")};e.logPageLoadInfo=function(n,o,i){if(!Image){return}const s=r(n);const d=t(n);if(!s||!d){return}var f=a(n,o);if(i&&e.screen){f+=\",\"+c()}const g=\"/m/rpc/frontendlogging?logType=trackEvent&moduleName=event&application=indeedmobile\"+\"&pageId=\"+n+\"&data=\"+p(\"{\"+f+\"}\");const m=new Image;m.src=g;m.height=m.width=0;m.style.display=\"block\";document.body.appendChild(m)}})(window);window.logPageLoadInfo(\"viewjob\",\"1dih05rt5hv0n800\",  false );(function(t){function e(e){var n=e.target;while(n&&n!==t.documentElement){if(n.tagName===\"A\"){var r=n.getAttribute(\"data-href\");if(r!==null){n.setAttribute(\"href\",r);n.removeAttribute(\"data-href\")}return}n=n.parentNode}}if(t.addEventListener){\"ontouchstart\"in t?t.addEventListener(\"touchstart\",e):t.addEventListener(\"mousedown\",e)}})(document);window._initialData={\"base64EncodedJson\":\"eyJhIjp0cnVlLCJiIjpmYWxzZSwiYyI6dHJ1ZSwiZCI6ZmFsc2UsImUiOnRydWUsImciOiJodHRwOi8vd3d3LmluZGVlZC5jb20vbS9iYXNlY2FtcC92aWV3am9iP2prPTI2N2U3Y2Y3ZGUyOTU5YzcmZnJvbT1zZXJwJnZqcz0zIiwiaCI6IkVudHJ5IExldmVsIERhdGEgU2NpZW50aXN0IiwiaSI6IlVuaXRlZCBTdGF0ZXMiLCJqIjoib3JnYW5pYyIsImwiOiIifQ\",\"baseInboxUrl\":\"https:\\u002F\\u002Finbox.indeed.com\",\"baseUrl\":\"https:\\u002F\\u002Fwww.indeed.com\",\"clientsideProctorGroups\":{\"mobvjearlyapplytst\":false,\"mobvj2responsiveemployertst\":false,\"jasx_track_multisession_noapplies\":false,\"sal_insights_tab_redesign_tst\":false},\"companyFollowForm\":{\"addAlertUrl\":\"\\u002Falert?a=add&alert_params=followCompany%3Dfc795989ca54f422&q=company%3A%27IBM%27&alert_period=weekly&output=json&verified=0&tk=1dih05rt5hv0n800&hct=51b243e48a4590d7a275ddf733bac240\",\"cancelText\":\"By creating a company alert you agree to our <a href=\\\"\\u002Flegal\\\" target=\\\"_blank\\\">Terms<\\u002Fa>. You can change your consent settings at any time by unsubscribing, or as detailed in our terms.\",\"checkAlertUrl\":\"\\u002Frpc\\u002Fjobalert?a=check&app=acme&q=company%3A%27IBM%27&followCompany=fc795989ca54f422\",\"confirmationHeader\":\"Please check your email\",\"confirmationSubHeader\":\"we have sent a confirmation message\",\"confirmationText\":\"Click on the link in this email to start receiving your Company Alert.\",\"createAlertUrl\":\"\\u002Fmy\\u002Falerts?a=create&alert_params=followCompany%3Dfc795989ca54f422&alert_keywords=company%3A%27IBM%27&alert_period=weekly&output=json&followCompany=fc795989ca54f422&hct=51b243e48a4590d7a275ddf733bac240\",\"cta\":\"Get job updates from IBM\",\"duplicateEmailMessage\":\"You are already following this company.\",\"followButton\":{\"buttonSize\":\"sm\",\"buttonType\":\"tertiary\",\"children\":\"Follow\",\"disabled\":false,\"isBlock\":false,\"isResponsive\":false,\"size\":\"sm\"},\"followingText\":\"Following\",\"input\":{\"disabled\":false,\"errorText\":\"This field is required\",\"helpText\":null,\"id\":null,\"isSmall\":false,\"label\":\"My Email:\",\"name\":\"email\",\"type\":\"text\",\"value\":null},\"invalidEmailMessage\":\"Please provide a valid email address.\",\"saveButton\":{\"buttonSize\":null,\"buttonType\":\"secondary\",\"children\":\"Save\",\"disabled\":false,\"isBlock\":true,\"isResponsive\":false,\"size\":\"sm\"}},\"companyTabModel\":{\"companyName\":\"IBM\",\"fccKey\":\"fc795989ca54f422\",\"isRichInsightsExperiment\":false,\"isShowComparisonTable\":true,\"isShowMosaicEmployerReviews\":false,\"isShowReviewFilter\":true,\"isUseFakeData\":false,\"location\":\"United States\",\"salaryDisplayModel\":null,\"tabsModel\":{\"jpVJ\":false,\"justified\":true,\"sticky\":null,\"tabVariant\":\"spans\",\"tabs\":[{\"active\":true,\"text\":\"Job\",\"type\":\"JOB\"},{\"active\":false,\"text\":\"Insights\",\"type\":\"INSIGHTS\"}]},\"title\":\"Entry Level Data Scientist\"},\"country\":\"US\",\"ctk\":\"1dih05re3hohs800\",\"dcmModel\":{\"category\":\"jobse0\",\"source\":\"6927552\",\"type\":\"organic\"},\"desktop\":true,\"desktopSponsoredJobSeenData\":\"tk=1dih05rt5hv0n800\",\"googleOneTapModel\":{\"baseSecureUrl\":\"https:\\u002F\\u002Fsecure.indeed.com\",\"googleClientID\":\"1047839414793-v442kdo3pt0vb43l8nu2c5sh9lf4bsnj.apps.googleusercontent.com\",\"redirectUrl\":\"https:\\u002F\\u002Fmy.indeed.com?from=googleonetapvj\"},\"indeedChatEmployerModel\":{\"chatEnabled\":false},\"jobKey\":\"267e7cf7de2959c7\",\"jobLocation\":\"United States\",\"jobSeenData\":\"tk=1dih05rt5hv0n800&context=viewjobrecs\",\"jobTitle\":\"Entry Level Data Scientist\",\"language\":\"en\",\"locale\":\"en_US\",\"localeData\":{\"\":[null,\"Project-Id-Version: \\nReport-Msgid-Bugs-To: \\nPOT-Creation-Date: 2019-08-14 12:59+0900\\nPO-Revision-Date: 2019-07-11 09:46-0500\\nLast-Translator: Julie Crauet <jcrauet@indeed.com>\\nLanguage-Team: English (United States) <http:\\u002F\\u002Fexample.com\\u002Fweblate\\u002Fprojects\\u002Findeed\\u002Findeedmobile-i18n-content\\u002Fen_US\\u002F>\\nLanguage: en_US\\nMIME-Version: 1.0\\nContent-Type: text\\u002Fplain; charset=UTF-8\\nContent-Transfer-Encoding: 8bit\\nPlural-Forms: nplurals=2; plural=n != 1;\\nX-Generator: Weblate 1.8\\n\"]},\"mobileGlobalHeader\":{\"href\":\"\\u002F?from=homeButton\",\"label\":\"Home\"},\"mobtk\":\"1dih05rt5hv0n800\",\"notifications\":{\"inboxLinkEnabled\":false,\"messagesLabel\":\"Messages\",\"newMessagesCountPlurals\":[\"{0} new\",\"{0} new\"],\"notificationCenterEnabled\":false,\"updatingText\":\"checking...\"},\"originalJobLinkModel\":{\"cookieName\":\"RCLK\",\"cookiePath\":\"\\u002F\",\"cookieValue\":\"jk=267e7cf7de2959c7&vjtk=1dih05rt5hv0n800&ts=1566086197157&rd=&qd=\"},\"pageId\":\"viewjob\",\"relatedLinks\":[{\"href\":\"\\u002Fjobs?q=Entry+Level+Scientist&l=United+States\",\"linkText\":\"Entry Level Scientist jobs in United States\"},{\"href\":\"\\u002Fjobs?q=IBM&l=United+States\",\"linkText\":\"Jobs at IBM in United States\"},{\"href\":\"\\u002Fsalary?q1=Entry+Level+Scientist&l1=United+States\",\"linkText\":\"Entry Level Scientist salaries in United States\"}],\"reportJobForm\":{\"additionalInformationPlaceholder\":\"Additional information\",\"closeIconLabel\":\"Close\",\"disclaimer\":\"All Job Ads are subject to Indeed's <a target=\\\"_blank\\\" href=\\\"\\u002Flegal\\\">Terms of Service<\\u002Fa>. We allow users to flag postings that may be in violation of those terms. Job Ads may also be flagged by Indeed. However, no moderation system is perfect, and flagging a posting does not ensure that it will be removed.\",\"postHref\":\"\\u002Fm\\u002Frpc\\u002Flog\\u002Freport\\u002Fjob?jobKey=267e7cf7de2959c7&mobvjtk=1dih05rt5hv0n800&isMobile=false&indeedcsrftoken=WhwXXvFYzEwYKEsEkAOtFuKzdCf0SBcN\",\"radioButtonGroup\":{\"errorText\":null,\"helpText\":null,\"isDisabled\":false,\"label\":\"Report this job\",\"name\":null,\"radioButtons\":[{\"id\":null,\"isDisabled\":false,\"label\":\"It is offensive, discriminatory\",\"name\":\"offensive\",\"value\":\"offensive\"},{\"id\":null,\"isDisabled\":false,\"label\":\"It seems like a fake job\",\"name\":\"fake\",\"value\":\"fake\"},{\"id\":null,\"isDisabled\":false,\"label\":\"It is inaccurate\",\"name\":\"inaccurate\",\"value\":\"inaccurate\"},{\"id\":null,\"isDisabled\":false,\"label\":\"It is an advertisement\",\"name\":\"advertisement\",\"value\":\"advertisement\"},{\"id\":null,\"isDisabled\":false,\"label\":\"Other\",\"name\":\"other\",\"value\":\"other\"}],\"value\":null},\"submitButtonText\":\"Submit\",\"successHeadline\":\"Job successfully reported\",\"successText\":\"Thank you for helping us identify suspicious behavior on Indeed\"},\"saveJobButtonContainerModel\":{\"alreadySavedButtonModel\":{\"actions\":[\"Saved\",\"Applied\",\"Interviewing\",\"Offered\",\"Hired\"],\"buttonSize\":\"block\",\"buttonType\":\"secondary\",\"contentHtml\":\"Saved\",\"href\":\"\\u002F\",\"iconSize\":null},\"applyFromComputerButtonModel\":null,\"applyFromComputerLogUrl\":\"\\u002Fm\\u002Frpc\\u002Flog\\u002Femailmyself?jk=267e7cf7de2959c7&mobvjtk=1dih05rt5hv0n800&sbt=51b243e48a4590d7a275ddf733bac240&ctk=1dih05re3hohs800&acctKey=\",\"currentJobState\":\"VISITED\",\"didYouApplyPromptModel\":{\"calloutModel\":{\"actionsMap\":{\"NO\":{\"children\":\"Not interested\",\"className\":null,\"href\":null,\"target\":null},\"LATER\":{\"children\":\"Maybe later\",\"className\":null,\"href\":null,\"target\":null},\"YES\":{\"children\":\"Yes\",\"className\":null,\"href\":null,\"target\":null}},\"caretPosition\":null,\"children\":null,\"dismissAriaLabel\":\"Close\",\"dismissAttributes\":null,\"dismissHref\":null,\"heading\":\"Did you apply?\"},\"jobKey\":\"267e7cf7de2959c7\",\"possibleResponses\":{\"NO\":\"NO\",\"LATER\":\"LATER\",\"YES\":\"YES\"},\"userCanView\":false},\"didYouApplyResponseUrl\":\"\\u002Fm\\u002Frpc\\u002Fdidyouapply?tk=1dih05rt5hv0n800&jobKey=267e7cf7de2959c7&originPage=viewjob&from=viewjob\",\"hashedCSRFToken\":\"51b243e48a4590d7a275ddf733bac240\",\"isAlreadySavedButtonVisible\":false,\"isDisableJobStatusChange\":false,\"isLoggedIn\":false,\"isSaveWithoutLoginEnabled\":false,\"isSyncJobs\":false,\"mobtk\":\"1dih05rt5hv0n800\",\"myIndeedLoginLink\":\"https:\\u002F\\u002Fwww.indeed.com\\u002Faccount\\u002Flogin?dest=%2Fviewjob%3Fjk%3D267e7cf7de2959c7%26from%3Dserp%26vjs%3D3\",\"myJobsAPIHref\":\"\\u002Frpc\\u002Flog\\u002Fmyjobs\\u002Ftransition_job_state?client=mobile&cause=statepicker&preserveTimestamp=false&tk=1dih05rt5hv0n800&jobKey=267e7cf7de2959c7&originPage=viewjob\",\"myJobsURL\":\"\\u002Fmyjobs\\u002F?from=mobvj#\",\"pageId\":\"viewjob\",\"possibleJobActions\":{\"SAVED\":\"save\",\"APPLIED\":\"apply\",\"INTERVIEWING\":\"interview\",\"OFFERED\":\"offer\",\"HIRED\":\"hire\",\"VISITED\":\"visit\",\"ARCHIVED\":\"archive\"},\"possibleJobStates\":{\"SAVED\":\"Saved\",\"APPLIED\":\"Applied\",\"INTERVIEWING\":\"Interviewing\",\"OFFERED\":\"Offered\",\"HIRED\":\"Hired\",\"VISITED\":\"Visited\",\"ARCHIVED\":\"Archived\"},\"saveButtonModel\":{\"buttonSize\":\"block\",\"buttonType\":\"secondary\",\"contentHtml\":\"Save this job\",\"dataHref\":null,\"href\":\"\\u002F\",\"icon\":{\"iconTitle\":\"save-icon\",\"iconType\":\"favorite-border\"},\"isBlock\":false,\"largeScreenSizeText\":null,\"openInNewTab\":false,\"referrerpolicy\":null,\"rel\":null,\"sanitizedHref\":null,\"sanitizedHtml\":null,\"sticky\":false,\"target\":null,\"title\":null,\"viewJobDisplay\":\"DESKTOP_STANDALONE\"},\"showSaveJobInlineCallout\":true,\"smallButtonModel\":null,\"uistates\":{\"INTERVIEWING\":\"INTERVIEWING\",\"OFFERED\":\"OFFERED\",\"SAVED\":\"SAVED\",\"VISITED\":\"VISITED\",\"HIRED\":\"HIRED\",\"ARCHIVED\":\"ARCHIVED\",\"APPLIED\":\"APPLIED\"},\"viewJobDisplay\":\"DESKTOP_STANDALONE\"},\"saveJobCalloutModel\":{\"actionsMap\":{\"createaccount\":{\"children\":\"Create account (it's free)\",\"className\":null,\"href\":\"https:\\u002F\\u002Fwww.indeed.com\\u002Faccount\\u002Fregister?dest=%2Fviewjob%3Fjk%3D267e7cf7de2959c7%26from%3Dserp%26vjs%3D3\",\"target\":null},\"signin\":{\"children\":\"Sign in\",\"className\":null,\"href\":\"https:\\u002F\\u002Fwww.indeed.com\\u002Faccount\\u002Flogin?dest=%2Fviewjob%3Fjk%3D267e7cf7de2959c7%26from%3Dserp%26vjs%3D3\",\"target\":null}},\"caretPosition\":null,\"children\":\"You must sign in to save jobs:\",\"dismissAriaLabel\":\"Close\",\"dismissAttributes\":null,\"dismissHref\":null,\"heading\":\"Save jobs and view them from any computer.\"},\"saveJobFailureModalModel\":{\"closeAriaLabel\":\"Close\",\"closeButtonText\":\"Close\",\"message\":\"Please retry\",\"signInButtonText\":null,\"signInHref\":null,\"title\":\"Failed to Save Job\"},\"saveJobLimitExceededModalModel\":{\"closeAriaLabel\":\"Close\",\"closeButtonText\":null,\"message\":\"You reached the limit. Please log in to save additional jobs.\",\"signInButtonText\":\"Sign in\",\"signInHref\":\"https:\\u002F\\u002Fwww.indeed.com\\u002Faccount\\u002Flogin?dest=%2Fviewjob%3Fjk%3D267e7cf7de2959c7%26from%3Dserp%26vjs%3D3&from=viewjob_savejoblimitmodal\",\"title\":\"You've already saved 20 jobs\"},\"viewJobButtonLinkContainerModel\":{\"clickCookieName\":\"RCLK\",\"clickCookieValue\":\"jk=267e7cf7de2959c7&vjtk=1dih05rt5hv0n800&ts=1566086197157&rd=&qd=\",\"jobKey\":\"267e7cf7de2959c7\",\"shouldSetClickTrackingCookie\":true,\"viewJobButtonLinkModel\":{\"buttonSize\":\"block\",\"buttonType\":\"primary\",\"contentHtml\":\"Apply Now\",\"dataHref\":null,\"href\":\"https:\\u002F\\u002Fwww.indeed.com\\u002Frc\\u002Fclk?jk=267e7cf7de2959c7&from=vj&pos=bottom\",\"icon\":null,\"isBlock\":true,\"largeScreenSizeText\":\"Apply On Company Site\",\"openInNewTab\":true,\"referrerpolicy\":\"origin\",\"rel\":\"noopener\",\"sanitizedHref\":null,\"sanitizedHtml\":null,\"sticky\":false,\"target\":\"_blank\",\"title\":null,\"viewJobDisplay\":null}},\"viewJobDisplay\":\"DESKTOP_STANDALONE\"};</script><div class=\"jobsearch-ViewJobLayout   jobsearch-ViewJobLayout-changeTextSize jobsearch-ViewJobLayout-changeTextColor \"><div id=\"desktopGlobalHeader\" class=\"jobsearch-Header icl-u-lg-block icl-u-xs-hide\"><nav class=\"icl-DesktopGlobalHeader\" role=\"navigation\" aria-label=\"Main Menu\"><ul class=\"icl-DesktopGlobalHeader-items\"><li class=\"icl-DesktopGlobalHeader-item icl-DesktopGlobalHeader-item--active\"><a class=\"icl-DesktopGlobalHeader-link\"href=\"/\" >Find Jobs</a></li><li class=\"icl-DesktopGlobalHeader-item\"><a class=\"icl-DesktopGlobalHeader-link\"data-href=\"/companies?from=headercmplink&amp;attributionid=homepage\"href=\"/companies\" >Company Reviews</a></li><li class=\"icl-DesktopGlobalHeader-item\"><a class=\"icl-DesktopGlobalHeader-link\"data-href=\"/salaries?from=headercmplink&amp;attributionid=HOMEPAGE\"href=\"/salaries\" >Find Salaries</a></li><li class=\"icl-DesktopGlobalHeader-item\"><a class=\"icl-DesktopGlobalHeader-link\"data-href=\"/resumes?hl=en&amp;co=US&amp;isid=find-resumes&amp;ikw=vjtop\"href=\"/resumes?hl=en&amp;co=US\" >Find Resumes</a></li><li class=\"icl-DesktopGlobalHeader-item\"><a class=\"icl-DesktopGlobalHeader-link\"data-href=\"/hire?hl=en&amp;cc=US&amp;isid=employerlink-US&amp;ikw=vjtop\"href=\"/hire?hl=en&amp;cc=US\" >Employers / Post Job</a></li></ul><ul class=\"icl-DesktopGlobalHeader-items icl-DesktopGlobalHeader-items--right\"><li class=\"icl-DesktopGlobalHeader-item\"><a class=\"icl-DesktopGlobalHeader-link icl-DesktopGlobalHeader-link--promo\"data-href=\"/promo/resume?trk.origin=viewjob&amp;trk.variant=rezprmstd&amp;trk.tk=1dih05rt5hv0n800&amp;from=nav&amp;subfrom=rezprmstd\"href=\"/promo/resume\" >Upload your resume</a></li><li class=\"icl-DesktopGlobalHeader-item\"><a class=\"icl-DesktopGlobalHeader-link\"rel=\"nofollow\"href=\"https://www.indeed.com/account/login?dest=%2Fviewjob%3Fjk%3D267e7cf7de2959c7%26from%3Dserp%26vjs%3D3\" >Sign in</a></li></ul></nav></div><div class=\"icl-Container--fluid  icl-u-xs-p--sm  jobsearch-ViewJobLayout-fluidContainer\"><div class=\"jobsearch-ViewJobLayout-whatWhere\"><div class=\"icl-Grid jobsearch-ViewJobLayout-content\"><div class=\"icl-Grid-col icl-u-lg-span2 icl-u-lg-mt--sm\"><div class=\"icl-u-xs-hide icl-u-lg-block\"><a href=\"/\"><div class=\"icl-Grid-col icl-u-lg-block icl-u-xs-hide icl-u-lg-mt--sm\"><span class=\"icl-Logo icl-Logo--wordmark icl-Logo--wordmark--lg icl-IndeedLogo\" alt=\"Indeed\"></span></div></a></div></div><div class=\"icl-Grid-col icl-u-xs-span12 icl-u-lg-span8\"><div class=\"icl-u-xs-hide icl-u-lg-block\"><form action=\"/jobs\" method=\"get\" class=\"icl-WhatWhere icl-WhatWhere--sm\" /><div class=\"icl-WhatWhere-input--what\"><div class=\"icl-TextInput\"><div id=\"label-q\" class=\"icl-TextInput-labelWrapper\"><label class=\"icl-TextInput-label icl-TextInput-label--whatWhere\" for=\"text-input-what\" id=\"text-input-what-label\">what</label><label class=\"icl-TextInput-helpText icl-TextInput-helpText--whatWhere\" for=\"text-input-what\">job title, keywords, or company</label></div><input class=\"icl-TextInput-control icl-TextInput-control--sm icl-TextInput-control--whatWhere\" id=\"text-input-what\" type=\"text\" name=\"q\" value=\"\" autocomplete=\"off\"></div></div><div class=\"icl-WhatWhere-input--where\"><div class=\"icl-TextInput\"><div id=\"label-l\" class=\"icl-TextInput-labelWrapper\"><label class=\"icl-TextInput-label icl-TextInput-label--whatWhere\" for=\"text-input-where\" id=\"text-input-where-label\">where</label><label class=\"icl-TextInput-helpText icl-TextInput-helpText--whatWhere\" for=\"text-input-where\">city, state, or zip code</label></div><input class=\"icl-TextInput-control icl-TextInput-control--sm icl-TextInput-control--whatWhere\" id=\"text-input-where\" type=\"text\" name=\"l\" value=\"Aurora, CO\" autocomplete=\"off\"></div></div><div class=\"icl-WhatWhere-buttonWrapper\"><button type=\"submit\" class=\"icl-Button icl-Button--sm icl-Button--whatWhere icl-WhatWhere-button\" >Find Jobs</button></div><div class=\"icl-WhatWhere-advSearchWrapper\"><a class=\"icl-WhatWhere-advSearchLink\" href=\"/advanced_search\">Advanced Job Search</a></div></form></div></div></div></div><div class=\"jobsearch-ViewJobLayout-rowSpacingLine icl-u-lg-block icl-u-xs-hide\"></div><div class=\"icl-Grid jobsearch-ViewJobLayout-content jobsearch-ViewJobLayout-mainContent icl-u-lg-mt--md\"><div class=\"jobsearch-ViewJobLayout-innerContent icl-Grid-col icl-u-xs-span12 icl-u-lg-offset2 icl-u-lg-span10\"><div class=\"icl-Grid jobsearch-ViewJobLayout-innerContentGrid\"><div class=\"jobsearch-ViewJobLayout-jobDisplay icl-Grid-col icl-u-xs-span12 icl-u-lg-span7\"><div class=\"jobsearch-JobComponent icl-u-xs-mt--sm\"><div class=\"jobsearch-DesktopStickyContainer\"><h3 class=\"icl-u-xs-mb--xs icl-u-xs-mt--none  jobsearch-JobInfoHeader-title\">Entry Level Data Scientist</h3><div class=\" jobsearch-CompanyInfoWithoutHeaderImage\"><div class=\"icl-u-xs-mt--xs icl-u-textColor--secondary jobsearch-JobInfoHeader-companyNameAndReview\"><span class=\"icl-u-xs-mr--sm jobsearch-JobInfoHeader-companyName\"><a href=\"https://www.indeed.com/cmp/IBM?campaignid=mobvjcmp&amp;from=mobviewjob&amp;tk=1dih05rt5hv0n800&amp;fromjk=267e7cf7de2959c7\">IBM</a></span><div class=\"jobsearch-JobInfoHeader-ratings\"><a href=\"https://www.indeed.com/cmp/IBM/reviews?campaignid=mobvjcmp&amp;cmpratingc=mobviewjob&amp;from=mobviewjob&amp;tk=1dih05rt5hv0n800&amp;fromjk=267e7cf7de2959c7&amp;jt=Entry+Level+Data+Scientist\"><div class=\"icl-Ratings icl-Ratings--gold icl-Ratings--md\" itemscope itemtype=\"http://schema.org/AggregateRating\"><meta itemProp=\"ratingValue\" content=3.9000000953674316 /><meta itemProp=\"ratingCount\" content=26458 /><div tabindex=\"0\" class=\"icl-Ratings-starsCountWrapper\" aria-label=\"3.9 out of 5\"><div class=\"icl-Ratings-starsWrapper\"><div class=\"icl-Ratings-starsUnfilled\"><div class=\"icl-Ratings-starsFilled\" style=\"width: 67.80000114440918px;\"></div></div></div><div class=\"icl-Ratings-count\" aria-hidden=\"true\">26,458 reviews</div></div></div></a></div></div><div class=\"icl-u-xs-mt--xs  jobsearch-JobInfoHeader-companyLocation jobsearch-DesktopStickyContainer--companylocation\"><span>United States</span></div></div><div class=\"icl-u-lg-block icl-u-xs-hide\"></div><div id=\"indeedApplyExplanationContainer\"></div><div class=\"jobsearch-StickyContainerDivider\"><div class=\"jobsearch-StickyContainerDivider-line\"></div></div></div><div class=\"jobsearch-JobComponent-clear\"></div><div id=\"jobInsightsTab\"><div class=\"jobsearch-CompanyTabs-tabs\"><ul class=\"icl-Tabs icl-Tabs--justified  \"><li class=\"icl-Tabs-tab icl-Tabs-tab--active\"><span class=\"icl-Tabs-link\">Job</span></li><li class=\"icl-Tabs-tab \"><span class=\"icl-Tabs-link\">Insights</span></li></ul></div></div><div class=\"jobsearch-JobComponent-description  icl-u-xs-mt--md  \"><div id=\"jobDescriptionText\" class=\"jobsearch-jobDescriptionText\"><div><b>Introduction</b><br>\n",
      "At IBM we have an amazing opportunity to transform the world with cognitive technology. By using the vast amounts of information available today to identify new patterns and make new discoveries, we are helping cities become smarter, hospitals transform patient care, financial institutions minimize risk, and pharmaceuticals find cures for rare diseases.\n",
      "<br>\n",
      "<br>\n",
      "Data scientists work with enterprise leaders and key decision makers to solve business problems by preparing, analyzing, and understanding data to deliver insight, predict emerging trends, and provide recommendations to optimize results. Data scientists use a variety of data (structured, unstructured, IoT streaming), analytics, AI tools, and programming languages often using a cloud infrastructure to handle the volume and veracity of data streams.<br>\n",
      "<br>\n",
      "Armed with data, modeling expertise, and analytic results, the data scientist communicates conclusions and recommendations to stakeholders in an organization's leadership structure. Business acumen is an important skill for data scientists to effectively communicate their findings to business leaders, data scientists need strong consulting, communication, visualization, and storytelling skills.<br>\n",
      "<br>\n",
      "<b>Your Role and Responsibilities</b><br>\n",
      "<b>START DATES FOR THIS POSITION ARE IN 2020</b><br>\n",
      "<br>\n",
      "Data Scientists are in demand across IBM's growth areas. If hired, you will be matched to a team based on business demand, location and fit. Join the forward-thinking teams at IBM solving some of the world’s most complex problems – there is no better place to grow your career!<br>\n",
      "<br>\n",
      "What You’ll Do as an Entry-Level Data Scientist:<ul><li>\n",
      "You will implement and validate predictive models as well as create and maintain statistical models with a focus on big data.</li><li>\n",
      "You will be exposed to and incorporate a variety of statistical and machine learning techniques such as logistic regression, experimental design, generalized linear models, mixed modeling, CHAID/decision trees, neural networks and ensemble models.</li><li>\n",
      "You’ll communicate with internal and external clients to understand business needs and provide analytical solutions.</li><li>\n",
      "You will use leading edge tools such as COGNOS, Watson Studio and Watson Machine Learning.</li><li>\n",
      "You’ll work in an Agile, collaborative environment, partnering with other scientists, engineers, and database administrators of all backgrounds and disciplines to bring analytical rigor and statistical methods to the challenges of predicting behaviors.</li></ul><br>\n",
      "Who You Are:<ul><li>\n",
      "You are great at solving problems, debugging, troubleshooting, and designing & implementing solutions to complex technical issues.</li><li>\n",
      "You thrive on teamwork and have excellent verbal and written communication skills.</li><li>\n",
      "You have strong technical and analytical abilities, a knack for driving impact and growth, and some experience with programming/scripting in a language such as Java or Python.</li><li>\n",
      "You have a basic understanding of statistical programming in a language such as R, SAS, or Python.</li><li>\n",
      "You have an interest in, understanding of, or experience with Design Thinking and Agile Development Methodologies</li></ul><br>\n",
      "<b>\n",
      "Required Professional and Technical Expertise</b><br>\n",
      "<ul><li>Basic understanding of statistical programming in a language such as R, SAS, or Python.</li><li>\n",
      "Experience with programming/scripting in a language such as Java or Python.</li><li>\n",
      "Knowledge of statistical concepts such as regression, time series, mixed model, Bayesian, clustering, etc., to analyze data and provide insights.</li></ul><br>\n",
      "<b>\n",
      "Preferred Professional and Technical Expertise</b><br>\n",
      "<ul><li>Advanced knowledge of statistical concepts such as regression, time series, mixed model, Bayesian methods, clustering, etc., to analyze data and provide insights.</li></ul><br>\n",
      "<b>\n",
      "About Business Unit</b><br>\n",
      "No matter where you work in IBM, you are making an impact. As an Early Professional with IBM, you will be taking on a key role with one of our industry-leading business units to work on the technology that is solving our most challenging problems and changing the way the world thinks.<br>\n",
      "<br>\n",
      "<b>Your Life @ IBM</b><br>\n",
      "What matters to you when you’re looking for your next career challenge?<br>\n",
      "<br>\n",
      "Maybe you want to get involved in work that really changes the world? What about somewhere with incredible and diverse career and development opportunities – where you can truly discover your passion? Are you looking for a culture of openness, collaboration and trust – where everyone has a voice? What about all of these? If so, then IBM could be your next career challenge. Join us, not to do something better, but to attempt things you never thought possible.<br>\n",
      "<br>\n",
      "Impact. Inclusion. Infinite Experiences. Do your best work ever.<br>\n",
      "<br>\n",
      "<b>About IBM</b><br>\n",
      "IBM’s greatest invention is the IBMer. We believe that progress is made through progressive thinking, progressive leadership, progressive policy and progressive action. IBMers believe that the application of intelligence, reason and science can improve business, society and the human condition. Restlessly reinventing since 1911, we are the largest technology and consulting employer in the world, with more than 380,000 IBMers serving clients in 170 countries.<br>\n",
      "<br>\n",
      "<b>Location Statement</b><br>\n",
      "We consider qualified applicants with criminal histories, consistent with applicable law.<br>\n",
      "<br>\n",
      "<b>Being You @ IBM</b><br>\n",
      "IBM is committed to creating a diverse environment and is proud to be an equal opportunity employer. All qualified applicants will receive consideration for employment without regard to race, color, religion, gender, gender identity or expression, sexual orientation, national origin, genetics, disability, age, or veteran status. IBM is also committed to compliance with all fair employment practices regarding citizenship and immigration status.</div></div></div><div class=\"jobsearch-JobTab-content\"><div class=\"jobsearch-JobMetadataFooter\"><span class='icl-u-textColor--success'>IBM</span> - 14 days ago<span id=\"saveJobInlineCallout\" class=\"icl-u-lg-inline icl-u-xs-hide\"> - <a title=\"Save this job to my.indeed\">save job</a></span><span> - <a title=\"Report this job\" class=\"iclcom-ReportJobForm-link\">report job</a></span><span id=\"originalJobLinkContainer\" class=\"icl-u-lg-inline icl-us-xs-hide\"> - <a target=_blank rel=noopener href=https:&#47;&#47;www.indeed.com&#47;rc&#47;clk?jk&#61;267e7cf7de2959c7&amp;from&#61;vj&amp;pos&#61;top>original job</a></span><div id=\"saveJobInlineCalloutContainer\" class=\"icl-u-lg-block icl-u-xs-hide icl-u-lg-mt--md\"></div></div><div id=\"reportJobForm\"></div></div><div class=\"icl-Grid icl-Grid--gutters\"><div id=\"jobsearch-ViewJobButtons-container\" class=\"jobsearch-ViewJobButtons-container icl-u-xs-my--md icl-Grid-col icl-u-xs-span12 icl-u-xs-textCenter icl-u-lg-textLeft\"><div id=\"viewJobButtonLinkContainer\"  class=\"icl-u-lg-inlineBlock\" ><div class=\"icl-u-lg-hide\"><a class=\"icl-Button icl-Button--primary icl-Button--$viewJobButtonLinkModel.buttonSize\" href=\"https://www.indeed.com/rc/clk?jk=267e7cf7de2959c7&amp;from=vj&amp;pos=bottom\">Apply Now</a></div><div class=\"icl-u-lg-block icl-u-xs-hide icl-u-lg-textCenter\"><a class=\"icl-Button icl-Button--primary icl-Button--md\" href=\"https://www.indeed.com/rc/clk?jk=267e7cf7de2959c7&amp;from=vj&amp;pos=bottom\">Apply On Company Site</a></div></div><div id=\"saveJobButtonContainer\" class=\"icl-u-lg-inlineBlock\"data-loginurl=\"https://www.indeed.com/account/login?dest=%2Fviewjob%3Fjk%3D267e7cf7de2959c7%26from%3Dserp%26vjs%3D3\">save this job a<div class=\"icl-u-lg-hide\"><button class=\"icl-Button icl-Button--secondary icl-Button--block\" type=\"button\"disabled=\"true\"><span class=\"icl-ButtonIcon\"><svg focusable=\"false\" role=\"img\" class=\"icl-Icon icl-Icon--sm icl-Icon--left icl-Icon--inheritColor favorite-border\"aria-label=\"save-icon\"><g><path d=\"M12.38,2.25A4.49,4.49,0,0,0,9,3.82,4.49,4.49,0,0,0,5.63,2.25,4.08,4.08,0,0,0,1.5,6.38c0,2.83,2.55,5.15,6.41,8.66L9,16l1.09-1C14,11.52,16.5,9.21,16.5,6.38A4.08,4.08,0,0,0,12.38,2.25ZM9.08,13.91L9,14l-0.08-.08C5.35,10.68,3,8.54,3,6.38A2.56,2.56,0,0,1,5.63,3.75,2.93,2.93,0,0,1,8.3,5.52H9.7a2.91,2.91,0,0,1,2.67-1.77A2.56,2.56,0,0,1,15,6.38C15,8.54,12.65,10.68,9.08,13.91Z\"></path></g></svg></span>Save this job</button></div><div class=\"icl-u-xs-block icl-u-lg-hide\"></div></div><div id=\"saveJobFailureModal\"></div></div></div><div id=\"mapRoot\"></div></div><div id=\"relatedLinks\" class=\"icl-Grid icl-Grid--gutters\"><div class=\"icl-Grid-col icl-u-xs-span12\"><div class=\"jobsearch-RelatedLinks-linkWrapper\"><a class=\"jobsearch-RelatedLinks-link\" href=\"/jobs?q=Entry+Level+Scientist&amp;l=United+States\">Entry Level Scientist jobs in United States</a></div><div class=\"jobsearch-RelatedLinks-linkWrapper\"><a class=\"jobsearch-RelatedLinks-link\" href=\"/jobs?q=IBM&amp;l=United+States\">Jobs at IBM in United States</a></div><div class=\"jobsearch-RelatedLinks-linkWrapper\"><a class=\"jobsearch-RelatedLinks-link\" href=\"/salary?q1=Entry+Level+Scientist&amp;l1=United+States\">Entry Level Scientist salaries in United States</a></div></div></div></div><div class=\"jobsearch-ViewJobLayout-rightRail  icl-Grid-col icl-u-xs-hide icl-u-lg-block icl-u-lg-span4 icl-u-lg-offset1\"><div class=\"jobsearch-ViewJobLayout-companyPromo\"><div class=\"jobsearch-CompanyAvatar icl-u-xs-mb--lg\"><div class=\"icl-Card icl-Card--hasBorder\"><div class=\"icl-Card-headline icl-Card-headline--hasBorder\"><div class=\"jobsearch-CompanyAvatar-headline\">Company Info</div></div><div class=\"icl-Card-body\"><a href=\"https://www.indeed.com/cmp/IBM?campaignid=vjcmpinfo&amp;from=vjcmpinfo&amp;tk=1dih05rt5hv0n800&amp;fromjk=267e7cf7de2959c7\"><img class=\"jobsearch-CompanyAvatar-image\" src=\"https://d2q79iu7y748jz.cloudfront.net/s/_logo/24e6eff14b9ae8a5026be876624da491\" alt=\"IBM\"></a><div id=\"companyFollowForm\" class=\"jobsearch-CompanyAvatar-form\"><div class=\"jobsearch-CompanyAvatar-button\"><button class=\"icl-Button icl-Button--tertiary icl-Button--sm\" type=\"button\">Follow</button></div><div class=\"jobsearch-CompanyAvatar-cta\">Get job updates from IBM</div></div><div class=\"icl-u-md-mb--sm\"><a class=\"jobsearch-CompanyAvatar-companyLink\" href=\"https://www.indeed.com/cmp/IBM?campaignid=vjcmpinfo&amp;from=vjcmpinfo&amp;tk=1dih05rt5hv0n800&amp;fromjk=267e7cf7de2959c7\">IBM</a><div class=\"jobsearch-CompanyAvatar-ratings\"><a href=\"https://www.indeed.com/cmp/IBM/reviews?campaignid=vjcmpinfo&amp;cmpratingc=mobviewjob&amp;from=vjcmpinfo&amp;tk=1dih05rt5hv0n800&amp;fromjk=267e7cf7de2959c7&amp;jt=Entry+Level+Data+Scientist\"><div class=\"icl-Ratings icl-Ratings--gold icl-Ratings--md\" itemscope itemtype=\"http://schema.org/AggregateRating\"><meta itemProp=\"ratingValue\" content=3.9000000953674316 /><meta itemProp=\"ratingCount\" content=26458 /><div tabindex=\"0\" class=\"icl-Ratings-starsCountWrapper\" aria-label=\"3.9 out of 5\"><div class=\"icl-Ratings-starsWrapper\"><div class=\"icl-Ratings-starsUnfilled\"><div class=\"icl-Ratings-starsFilled\" style=\"width: 67.80000114440918px;\"></div></div></div><div class=\"icl-Ratings-count\" aria-hidden=\"true\">26,458 reviews</div></div></div></a></div></div><div class=\"jobsearch-CompanyAvatar-description\">At IBM, work is more than a job—it&#39;s a calling. To build. To design. To code. To consult. To think along with clients and sell. To make m...</div></div></div></div></div><div class=\"jobsearch-ViewJobLayout-i4cPromo\"></div><div class=\"jobsearch-ViewJobLayout-resumePromo\"><div class=\"icl-u-xs-mb--lg iclcom-ResumePromoCard\"><div class=\"icl-Card icl-Card--hasBorder\"><div class=\"icl-Card-headline icl-Card-headline--hasBackground icl-Card-headline--hasBorder\">Let employers find you</div><div class=\"icl-Card-body\"><div class=\"iclcom-ResumePromoCard-subtitle\">Thousands of employers search for candidates on Indeed</div><div class=\"iclcom-ResumePromoCard-button\"><a class=\"icl-Button icl-Button--secondary icl-Button--sm\" href=\"/promo/resume\"data-href=\"/promo/resume?from=viewjobcta&amp;trk.origin=viewjobcta&amp;continue=http%3A%2F%2Fwww.indeed.com%2Fviewjob%3Fjk%3D267e7cf7de2959c7%26from%3Dserp%26vjs%3D3\">Upload your resume</a></div></div></div></div></div><div class=\"jobsearch-ViewJobLayout-endorsementCard\"></div></div><div class=\"jobsearch-ViewJobLayout-sponsoredAds icl-Grid-col icl-u-xs-hide icl-u-lg-block icl-u-lg-span4 icl-u-lg-offset1\"></div></div></div></div></div><div class=\"jobsearch-Footer-wrapper\"><div class=\"jobsearch-Footer jobsearch-Footer--sticky\"><footer class=\"icl-GlobalFooter\" role=\"contentinfo\"><nav class=\"icl-GlobalFooter-nav\" role=\"navigation\"><ul class=\"icl-GlobalFooter-items\"><li class=\"icl-GlobalFooter-item\"><a class=\"icl-GlobalFooter-link\" href=\"/intl/en/about.html\"data-href=\"/intl/en/about.html?from=VJ2\">About</a></li><li class=\"icl-GlobalFooter-item\"><a class=\"icl-GlobalFooter-link\" href=\"https://indeed.zendesk.com/hc/en-us\"data-href=\"https://indeed.zendesk.com/hc/en-us?from=VJ2\">Help Center</a></li></ul></nav><small class=\"icl-GlobalFooter-impressum\"><span class=\"icl-GlobalFooter-copyright icl-GlobalFooter-item--impressum\">© 2019 Indeed</span><a class=\"icl-GlobalFooter-link\" href=\"/legal\">Cookies, Privacy and Terms</a></small></footer><div class=\"iclcom-ResumeSimpleFooter iclcom-ResumeSimpleFooter--lightestGray icl-u-xs-hide icl-u-lg-block icl-u-lg-textCenter icl-u-lg-p--sm\"><span class=\"icl-u-lg-block icl-Heading3 icl-u-lg-my--none\">Let Employers Find You</span><span class=\"icl-u-lg-block\"><a class=\"icl-Button icl-Button--primary icl-Button--md\" href=\"/promo/resume\"data-href=\"/promo/resume?from=bottomResumeCTAviewjob&amp;trk.origin=viewjob\">Upload Your Resume</a></span></div></div></div></div><script src=\"/m/s/b78f56abe076e96e6fa8/scripts/viewjob.js\"></script>\n",
      "            <noscript><img src=\"https://ad.doubleclick.net/ddm/activity/ord=1;tfua=;npa=;;src=6927552;type=jobse0;cat=viewj00;u4=Entry+Level+Data+Scientist;u5=United+States;u8=organic\" width=\"1\" height=\"1\" alt=\"\" style=\"display:none\"/><img src=\"https://sb.scorecardresearch.com/p?c1=2&c2=6486505&c4=http%3A%2F%2Fwww.indeed.com%2Fm%2Fbasecamp%2Fviewjob%3Fjk%3D267e7cf7de2959c7%26from%3Dserp%26vjs%3D3&c15=1dih05re3hohs800&cv=2.0&cj=1\" style=\"display:none\" width=\"0\" height=\"0\"/></noscript><script>(function(){\n",
      "!function(){\"use strict\";function e(e){if(e&&!document.querySelector(\".JASX-32784_splbl\")){var o=document.createElement(\"span\");o.classList.add(\"JASX-32784_splbl\"),o.innerHTML=\"Sponsored\",e.parentNode.insertBefore(o,e.nextSibling)}}function o(){var o=document.getElementById(\"auxCol\");if(o){new MutationObserver(function(o){Object.keys(o).forEach(function(t){var r=[].slice.call(o[t].removedNodes);r.length>0&&r.forEach(function(o){\"PlaceholderContainer\"===o.id&&window.location.href&&-1!=window.location.href.indexOf(\"jobs?\")&&-1!=window.location.href.indexOf(\"advn\")&&(document.querySelector(\"#info-link-row span\")?n=document.querySelector(\"#info-link-row\").lastChild:document.querySelector(\".result-link-bar-viewjob .result-link-bar\")&&(n=document.querySelector(\".result-link-bar-viewjob .result-link-bar\").lastChild),e(n))})})}).observe(o,{childList:!0,subtree:!0})}}var n=null;o(),window.location.href&&-1!=window.location.href.indexOf(\"viewjob?\")|-1!=window.location.href.indexOf(\"cmp\")&&-1!=window.location.href.indexOf(\"adid\")&&document.querySelector(\".jobsearch-JobMetadataFooter span\")&&e(n=document.querySelector(\".jobsearch-JobMetadataFooter > span:last-of-type\").lastChild)}();\n",
      "})();</script>\n",
      "<script id=\"mosaic-init-data\" type=\"text/javascript\">\n",
      "    window.mosaic= window.mosaic || {};\n",
      "    window.mosaic.providers={\"platformJs\":\"https://d3fw5vlhllyvee.cloudfront.net/mosaic-common/dist/970bb0e1a2af6a1c89d7/scripts/index.js\"};\n",
      "    window.mosaic.providerErrors={};\n",
      "    window.mosaic.provideri18N={};\n",
      "    window.mosaic.lazyProviders={};\n",
      "    window.mosaic.cssResetProviders={}\n",
      "    window.mosaic.zonedProviders={\"whatWhereModal\":[]}\n",
      "</script>\n",
      "<script id=\"mosaic-data\" type=\"text/javascript\">\n",
      "window.mosaic.providerData={};\n",
      "window.mosaic.initialData = {\"logTypes\":{\"jsuipPlatformInitError\":\"4327faee2bbb67f4e7f2185701a52e54\",\"mosaicProviderSeen\":\"e3926cc0a343f384f2e5e6dfc540016a\",\"jsuipProviderLoadTimings\":\"fb7274d51fc7a04d450086c83a40cc6a\",\"jsuipProviderExecutionError\":\"211e778edbde5e164fd5f14dd23e6115\",\"jsuipAction\":\"d5973eb3ad332b3608839e9bbed7d867\",\"jsuipPlatformLoadError\":\"c74c8d65f1d6f620ddce517edd3faa40\",\"jsuipProviderLoadError\":\"61c37c1721757c82be5e97b1fff8d1c2\"},\"platformLogTk\":\"1dih05rtehv0n800\",\"logTk\":\"1dih05rt5hv0n800\",\"platformId\":\"jobsearch\",\"env\":\"PRODUCTION\",\"pageId\":\"viewjob\"};\n",
      "\n",
      "</script>\n",
      "<script src=\"https://d3fw5vlhllyvee.cloudfront.net/mosaic-common/dist/15a083aa8e7a6ced95a1/scripts/loadProviders.js\" async></script></body>\n",
      "</html>\n",
      "\n"
     ]
    }
   ],
   "source": [
    "#trying to get what I need from just one website before I try to make the loop\n",
    "#Using this as a tutorial: https://www.dataquest.io/blog/web-scraping-beautifulsoup/\n",
    "url='https://www.indeed.com/rc/clk?jk=267e7cf7de2959c7&fccid=de71a49b535e21cb&vjs=3'\n",
    "response=get(url)\n",
    "print(response.text)"
   ]
  },
  {
   "cell_type": "code",
   "execution_count": 12,
   "metadata": {
    "scrolled": true
   },
   "outputs": [
    {
     "name": "stdout",
     "output_type": "stream",
     "text": [
      "Introduction\n",
      "At IBM we have an amazing opportunity to transform the world with cognitive technology. By using the vast amounts of information available today to identify new patterns and make new discoveries, we are helping cities become smarter, hospitals transform patient care, financial institutions minimize risk, and pharmaceuticals find cures for rare diseases.\n",
      "\n",
      "\n",
      "Data scientists work with enterprise leaders and key decision makers to solve business problems by preparing, analyzing, and understanding data to deliver insight, predict emerging trends, and provide recommendations to optimize results. Data scientists use a variety of data (structured, unstructured, IoT streaming), analytics, AI tools, and programming languages often using a cloud infrastructure to handle the volume and veracity of data streams.\n",
      "\n",
      "Armed with data, modeling expertise, and analytic results, the data scientist communicates conclusions and recommendations to stakeholders in an organization's leadership structure. Business acumen is an important skill for data scientists to effectively communicate their findings to business leaders, data scientists need strong consulting, communication, visualization, and storytelling skills.\n",
      "\n",
      "Your Role and Responsibilities\n",
      "START DATES FOR THIS POSITION ARE IN 2020\n",
      "\n",
      "Data Scientists are in demand across IBM's growth areas. If hired, you will be matched to a team based on business demand, location and fit. Join the forward-thinking teams at IBM solving some of the world’s most complex problems – there is no better place to grow your career!\n",
      "\n",
      "What You’ll Do as an Entry-Level Data Scientist:\n",
      "You will implement and validate predictive models as well as create and maintain statistical models with a focus on big data.\n",
      "You will be exposed to and incorporate a variety of statistical and machine learning techniques such as logistic regression, experimental design, generalized linear models, mixed modeling, CHAID/decision trees, neural networks and ensemble models.\n",
      "You’ll communicate with internal and external clients to understand business needs and provide analytical solutions.\n",
      "You will use leading edge tools such as COGNOS, Watson Studio and Watson Machine Learning.\n",
      "You’ll work in an Agile, collaborative environment, partnering with other scientists, engineers, and database administrators of all backgrounds and disciplines to bring analytical rigor and statistical methods to the challenges of predicting behaviors.\n",
      "Who You Are:\n",
      "You are great at solving problems, debugging, troubleshooting, and designing & implementing solutions to complex technical issues.\n",
      "You thrive on teamwork and have excellent verbal and written communication skills.\n",
      "You have strong technical and analytical abilities, a knack for driving impact and growth, and some experience with programming/scripting in a language such as Java or Python.\n",
      "You have a basic understanding of statistical programming in a language such as R, SAS, or Python.\n",
      "You have an interest in, understanding of, or experience with Design Thinking and Agile Development Methodologies\n",
      "\n",
      "Required Professional and Technical Expertise\n",
      "Basic understanding of statistical programming in a language such as R, SAS, or Python.\n",
      "Experience with programming/scripting in a language such as Java or Python.\n",
      "Knowledge of statistical concepts such as regression, time series, mixed model, Bayesian, clustering, etc., to analyze data and provide insights.\n",
      "\n",
      "Preferred Professional and Technical Expertise\n",
      "Advanced knowledge of statistical concepts such as regression, time series, mixed model, Bayesian methods, clustering, etc., to analyze data and provide insights.\n",
      "\n",
      "About Business Unit\n",
      "No matter where you work in IBM, you are making an impact. As an Early Professional with IBM, you will be taking on a key role with one of our industry-leading business units to work on the technology that is solving our most challenging problems and changing the way the world thinks.\n",
      "\n",
      "Your Life @ IBM\n",
      "What matters to you when you’re looking for your next career challenge?\n",
      "\n",
      "Maybe you want to get involved in work that really changes the world? What about somewhere with incredible and diverse career and development opportunities – where you can truly discover your passion? Are you looking for a culture of openness, collaboration and trust – where everyone has a voice? What about all of these? If so, then IBM could be your next career challenge. Join us, not to do something better, but to attempt things you never thought possible.\n",
      "\n",
      "Impact. Inclusion. Infinite Experiences. Do your best work ever.\n",
      "\n",
      "About IBM\n",
      "IBM’s greatest invention is the IBMer. We believe that progress is made through progressive thinking, progressive leadership, progressive policy and progressive action. IBMers believe that the application of intelligence, reason and science can improve business, society and the human condition. Restlessly reinventing since 1911, we are the largest technology and consulting employer in the world, with more than 380,000 IBMers serving clients in 170 countries.\n",
      "\n",
      "Location Statement\n",
      "We consider qualified applicants with criminal histories, consistent with applicable law.\n",
      "\n",
      "Being You @ IBM\n",
      "IBM is committed to creating a diverse environment and is proud to be an equal opportunity employer. All qualified applicants will receive consideration for employment without regard to race, color, religion, gender, gender identity or expression, sexual orientation, national origin, genetics, disability, age, or veteran status. IBM is also committed to compliance with all fair employment practices regarding citizenship and immigration status.\n"
     ]
    }
   ],
   "source": [
    "html_soup = BeautifulSoup(response.text, 'html.parser')\n",
    "job_containers= html_soup.find('div', {\"class\":\"jobsearch-jobDescriptionText\"})\n",
    "job_descriptions=str(job_containers.text)\n",
    "print(job_descriptions)"
   ]
  },
  {
   "cell_type": "markdown",
   "metadata": {},
   "source": [
    "# Got the text for one, trying it for all in a loop"
   ]
  },
  {
   "cell_type": "code",
   "execution_count": 35,
   "metadata": {},
   "outputs": [
    {
     "name": "stdout",
     "output_type": "stream",
     "text": [
      "['https://www.indeed.com/rc/clk?jk=267e7cf7de2959c7&fccid=de71a49b535e21cb&vjs=3', 'https://www.indeed.com/rc/clk?jk=75c6f0b9d2079aaf&fccid=9a55d5dc8c10ef41&vjs=3', 'https://www.indeed.com/rc/clk?jk=f5dc0ae712778b2a&fccid=87296c430fc584e1&vjs=3', 'https://www.indeed.com/rc/clk?jk=8dcad7369ab9dc70&fccid=3c2181d40a370308&vjs=3', 'https://www.indeed.com/rc/clk?jk=50980e36e75cb5d3&fccid=4c3bc2bd3fda6e72&vjs=3', 'https://www.indeed.com/rc/clk?jk=a11d9b56688c56c9&fccid=847cd08b3d651258&vjs=3', 'https://www.indeed.com/rc/clk?jk=83e3f665b22e5695&fccid=f01127702f08b4dc&vjs=3', 'https://www.indeed.com/rc/clk?jk=5726bb7b9a6dfb44&fccid=7077d7e88049c02a&vjs=3', 'https://www.indeed.com/rc/clk?jk=0da0d97fcb637195&fccid=29f4096cfef5d289&vjs=3']\n"
     ]
    }
   ],
   "source": [
    "#pull out just a list of the 100 websites.\n",
    "websites=list(df['URL'])\n",
    "print(websites)"
   ]
  },
  {
   "cell_type": "code",
   "execution_count": 36,
   "metadata": {},
   "outputs": [],
   "source": [
    "#Code from Jodi's NLP homework 5 - adjusting it to just pull reviews now, but can also do tags and chunks if needed\n",
    "#Trying to get it as a string instead of list\n",
    "Descriptions=[]\n",
    "#tags=[]\n",
    "#chunks=[]\n",
    "for url in websites:\n",
    "    response=get(url)\n",
    "    soup=BeautifulSoup(response.text,'html.parser')\n",
    "    job_containers= soup.find('div', {\"class\":\"jobsearch-jobDescriptionText\"})\n",
    "    job_descriptions=str(job_containers.text)\n",
    "    \n",
    "    tokenize_descriptions=nltk.word_tokenize(job_descriptions)\n",
    "    \n",
    "    #tagging=nltk.pos_tag(tokenize_reviews)\n",
    "    \n",
    "    #chunk=nlp(job_descriptions)\n",
    "    #spacy_NP=[chunk.text for chunk in chunk.noun_chunks]\n",
    "    \n",
    "    Descriptions.append(tokenize_descriptions)\n",
    "    #tags.append(tagging)\n",
    "    #chunks.append(spacy_NP)"
   ]
  },
  {
   "cell_type": "code",
   "execution_count": 37,
   "metadata": {},
   "outputs": [
    {
     "data": {
      "text/plain": [
       "9"
      ]
     },
     "execution_count": 37,
     "metadata": {},
     "output_type": "execute_result"
    }
   ],
   "source": [
    "len(Descriptions)"
   ]
  },
  {
   "cell_type": "code",
   "execution_count": 40,
   "metadata": {
    "scrolled": true
   },
   "outputs": [
    {
     "name": "stdout",
     "output_type": "stream",
     "text": [
      "['Join', 'a', 'high', 'performing', 'and', 'rapidly', 'growing', 'team', 'Valen', 'Analytics', 'is', 'a', 'rapidly', 'expanding', 'advanced', 'data', 'and', 'predictive', 'analytics', 'company', 'headquartered', 'in', 'downtown', 'Denver', '.', 'Valen', '’', 's', 'state-of-the-art', 'analytics', 'and', 'predictive', 'modeling', 'products', 'are', 'built', 'on', 'Valen', '’', 's', 'unique', 'industry-wide', 'consortium', 'data', 'platform', ',', 'specifically', 'designed', 'for', 'property', 'and', 'casualty', 'insurance', 'carriers', '.', 'If', 'you', 'want', 'to', 'help', 'build', 'an', 'industry-changing', 'company', 'and', 'you', 'thrive', 'in', 'a', 'fast-paced', 'environment', 'where', 'the', 'only', 'rule', 'is', 'to', 'WOW', 'customers', ',', 'colleagues', 'and', 'shareholders', ',', 'then', 'we', 'encourage', 'you', 'to', 'submit', 'your', 'resume', '.', 'This', 'is', 'not', 'a', 'job', '.', 'It', 'is', 'an', 'opportunity', 'to', 'advance', 'your', 'career', 'by', 'helping', 'to', 'build', 'an', 'innovative', ',', 'growing', 'and', 'highly', 'respected', 'organization', '.', 'The', 'right', 'candidate', 'will', 'be', 'entrepreneurial', ',', 'driven', 'and', 'passionate', 'about', 'being', 'successful', 'and', 'absolutely', 'committed', 'to', 'making', 'Valen', 'successful', '.', 'You', 'will', 'be', 'an', 'integral', 'part', 'of', 'Valen', '’', 's', 'product', 'development', 'and', 'delivery', 'teams', ',', 'working', 'closely', 'and', 'collaboratively', 'with', 'Valen', 'insurance', 'domain', 'experts', ',', 'data', 'analysts', ',', 'engineers', 'and', 'customers', '.', 'You', 'will', 'develop', 'highly', 'robust', 'predictive', 'models', 'that', 'provide', 'significant', 'and', 'measurable', 'results', 'for', 'our', 'customers', '.', 'Additionally', ',', 'you', 'will', 'partner', 'with', 'the', 'sales', 'and', 'marketing', 'teams', 'to', 'perform', 'and', 'deliver', 'modeling', 'proof-of-concepts', 'and', 'retro-tests', ',', 'as', 'well', 'as', 'to', 'help', 'shape', 'and', 'deliver', 'compelling', 'product', 'performance', 'reads', ',', 'product', 'and', 'concept', 'education', 'and', 'value', 'proposition', 'messaging', '.', 'Responsibilities', 'Provide', 'practical', 'and', 'technical', 'expertise', 'in', 'the', 'design', 'and', 'execution', 'of', 'Data', 'Science', 'solutions', 'Design', 'sampling', 'strategies', 'that', 'reflect', 'the', 'goals', 'of', 'the', 'project', 'Monitor', 'and', 'assess', 'model', 'performance', 'in', 'production', 'Translate', 'model', 'prediction', 'and', 'statistics', 'into', 'strategies', 'and', 'metrics', 'that', 'are', 'valued', 'and', 'understood', 'by', 'business', 'executives', 'Apply', 'new', 'modeling', 'techniques', 'and', 'research', 'ideas', 'to', 'develop', 'and', 'deploy', 'practical', ',', 'innovative', 'modeling', 'solutions', 'Successfully', 'balance', 'R', '&', 'D', ',', 'product', 'improvements', 'and', 'customer', 'engagements', 'in', 'an', 'agile', 'environment', 'Education', '&', 'Experience', 'Minimum', 'Qualifications', 'Bachelor', '’', 's', 'degree', 'in', 'Statistics', ',', 'Mathematics', 'or', 'similar', 'quantitative', 'field', '2+', 'years', 'professional', 'experience', 'in', 'an', 'analytics', 'role', ',', 'focusing', 'on', 'statistical', 'modeling', 'or', 'machine', 'learning', '2+', 'years', 'hands-on', 'experience', 'with', 'SAS', ',', 'R', ',', 'Python', 'or', 'similar', 'statistical', 'package', 'Experience', 'in', 'communicating', 'modeling', 'procedure', 'and', 'results', 'to', 'non-experts', 'Desired', 'Qualifications', 'Master', '’', 's', 'degree', 'or', 'higher', 'in', 'Statistics', ',', 'Mathematics', 'or', 'similar', 'quantitative', 'field', 'Advanced', 'competency', 'and', 'expertise', 'in', 'at', 'least', 'one', 'Statistics', 'Package', '(', 'SAS', ',', 'R', ',', 'Python', ')', 'with', 'exposure', 'in', 'additional', 'languages', 'Predictive', 'modeling', 'experience', 'in', 'the', 'Insurance', 'industry', 'Travel', 'Up', 'to', '10', '%', 'The', 'Valen', 'Team', 'Valen', '’', 's', 'mission', 'is', 'to', 'help', 'our', 'clients', 'achieve', 'their', 'goals', 'and', 'solve', 'problems', 'by', 'leveraging', 'data', 'to', 'make', 'more', 'informed', 'decisions', '.', 'Guide', 'Customer', 'Success', ':', 'We', 'relentlessly', 'pursue', 'making', 'our', 'customers', 'successful', '.', 'Live', 'the', 'Golden', 'Rule', ':', 'We', 'treat', 'our', 'customers', ',', 'employees', ',', 'vendors', 'and', 'shareholders', 'how', 'we', 'expect', 'to', 'be', 'treated', 'as', 'customers', ',', 'employees', ',', 'vendors', 'and', 'shareholders…period', '.', 'Be', 'Agile', ':', 'Valen', 'is', 'a', 'test', 'and', 'learn', 'environment', '.', 'We', 'organize', 'everything', 'we', 'do', 'around', 'our', 'customer', '’', 's', 'success', 'to', 'provide', 'something', 'of', 'value', 'quickly', '.', 'We', 'learn', 'and', 'then', 'adapt', '.', 'Then', ',', 'we', 'learn', 'some', 'more', '.', 'Have', 'Fun', ':', 'We', 'have', 'great', 'attitudes', 'and', 'we', 'have', 'FUN', '.', 'We', 'do', 'not', 'take', 'ourselves', 'too', 'seriously', ',', 'we', 'celebrate', 'our', 'successes', 'and', 'we', 'enjoy', 'our', 'work', '.', 'Most', 'of', 'all', ',', 'we', 'live', 'passionately', '.', 'Embrace', 'Simplicity', ':', 'We', 'endeavor', 'to', 'make', 'EVERYTHING', 'we', 'provide', 'our', 'customers', 'ridiculously', 'easy', '.', 'Expect', 'Ownership', ':', 'At', 'Valen', 'we', 'take', 'responsibility', 'for', 'our', 'actions', 'and', 'we', 'build', 'trusting', 'relationships', 'by', 'making', 'and', 'meeting', 'our', 'commitments', '.', 'To', 'apply', ',', 'please', 'send', 'your', 'resume', 'to', 'careers', '@', 'valen.com']\n"
     ]
    }
   ],
   "source": [
    "#Sanity Check\n",
    "print(Descriptions[5])"
   ]
  },
  {
   "cell_type": "code",
   "execution_count": 39,
   "metadata": {},
   "outputs": [
    {
     "data": {
      "text/html": [
       "<div>\n",
       "<style scoped>\n",
       "    .dataframe tbody tr th:only-of-type {\n",
       "        vertical-align: middle;\n",
       "    }\n",
       "\n",
       "    .dataframe tbody tr th {\n",
       "        vertical-align: top;\n",
       "    }\n",
       "\n",
       "    .dataframe thead th {\n",
       "        text-align: right;\n",
       "    }\n",
       "</style>\n",
       "<table border=\"1\" class=\"dataframe\">\n",
       "  <thead>\n",
       "    <tr style=\"text-align: right;\">\n",
       "      <th></th>\n",
       "      <th>Full_Description</th>\n",
       "    </tr>\n",
       "  </thead>\n",
       "  <tbody>\n",
       "    <tr>\n",
       "      <th>0</th>\n",
       "      <td>[Introduction, At, IBM, we, have, an, amazing, opportunity, to, transform, the, world, with, cognitive, technology, ., By, using, the, vast, amounts, of, information, available, today, to, identify, new, patterns, and, make, new, discoveries, ,, we, are, helping, cities, become, smarter, ,, hospitals, transform, patient, care, ,, financial, institutions, minimize, risk, ,, and, pharmaceuticals, find, cures, for, rare, diseases, ., Data, scientists, work, with, enterprise, leaders, and, key, decision, makers, to, solve, business, problems, by, preparing, ,, analyzing, ,, and, understanding, data, to, deliver, insight, ,, predict, emerging, trends, ,, and, provide, recommendations, to, optimize, results, ., Data, scientists, use, a, ...]</td>\n",
       "    </tr>\n",
       "    <tr>\n",
       "      <th>1</th>\n",
       "      <td>[Mines, and, extracts, data, and, applies, statistics, and, algorithms, necessary, to, derive, insights, for, Lowe, 's, and, Lowe, 's, Digital, ., Supports, the, creation, of, an, automated, insights, generation, framework, for, Lowe, 's, business, partners, to, effectively, interpret, data, ., Provides, actionable, insights, through, data, science, on, Personalization, ,, Search, &amp;, Navigation, ,, SEO, &amp;, Promotions, ,, Supply, Chain, ,, Services, ,, other, company, priorities, ,, etc, ., Tracks, success, of, Lowe, 's, through, the, development, of, dashboard, reports, that, measure, financial, results, ,, customer, satisfaction, ,, and, engagement, metrics, ., Conducts, deep, statistical, analysis, ,, including, predictive, and, prescriptive, ...]</td>\n",
       "    </tr>\n",
       "    <tr>\n",
       "      <th>2</th>\n",
       "      <td>[Data, Scientist, Sony, Pictures, Entertainment, is, an, equal, opportunity, employer, ., We, evaluate, qualified, applicants, without, regard, to, race, ,, color, ,, religion, ,, sex, ,, national, origin, ,, disability, ,, veteran, status, ,, age, ,, sexual, orientation, ,, gender, identity, ,, or, other, protected, characteristics, ., USA, -, Culver, City, -, Studio, Lot, -, Norman, Lear, Bldg]</td>\n",
       "    </tr>\n",
       "    <tr>\n",
       "      <th>3</th>\n",
       "      <td>[Small, business, owners, don, ’, t, get, the, love, they, deserve, from, traditional, banks, ., That, ’, s, where, BlueVine, comes, in, ., BlueVine, is, a, leading, provider, of, online, working, capital, financing, to, small, and, mid-sized, businesses, ., We, ’, re, using, cutting, edge, technology, to, disrupt, the, traditional, banking, industry, and, develop, the, next, generation, of, fast, and, simple, financial, products, ,, designed, for, today, ’, s, small, businesses, ., BlueVine, is, headquartered, in, Redwood, City, ,, CA, and, backed, by, leading, investors, including, Menlo, Ventures, ,, Lightspeed, Ventures, ,, Citi, Ventures, ,, SVB, Financial, ,, Nationwide, Insurance, ...]</td>\n",
       "    </tr>\n",
       "    <tr>\n",
       "      <th>4</th>\n",
       "      <td>[SSRS, Data, Scientist, SSRS, ,, a, leading, data-driven, survey, research, and, data, capture, firm, ,, is, seeking, an, experienced, data, scientist, to, work, with, our, growing, team, of, skilled, data, capture, professionals, to, deploy, advanced, predictive, and, prescriptive, analytic, solutions, to, meet, our, clients, ’, often, challenging, research, needs, ., SRSS, specializes, in, rigorous, data, capture, for, public, policy, ,, health, care, ,, public, opinion, ,, and, other, non-partisan, research, areas, ., Key, Responsibilities, Use, machine, learning, methods, (, e.g., ,, cluster, analysis, ,, decision, trees, ,, random, forest, ,, neural, networks, ,, logistics, regression, ), to, model, and, predict, ...]</td>\n",
       "    </tr>\n",
       "    <tr>\n",
       "      <th>5</th>\n",
       "      <td>[Join, a, high, performing, and, rapidly, growing, team, Valen, Analytics, is, a, rapidly, expanding, advanced, data, and, predictive, analytics, company, headquartered, in, downtown, Denver, ., Valen, ’, s, state-of-the-art, analytics, and, predictive, modeling, products, are, built, on, Valen, ’, s, unique, industry-wide, consortium, data, platform, ,, specifically, designed, for, property, and, casualty, insurance, carriers, ., If, you, want, to, help, build, an, industry-changing, company, and, you, thrive, in, a, fast-paced, environment, where, the, only, rule, is, to, WOW, customers, ,, colleagues, and, shareholders, ,, then, we, encourage, you, to, submit, your, resume, ., This, is, not, a, job, ., It, ...]</td>\n",
       "    </tr>\n",
       "    <tr>\n",
       "      <th>6</th>\n",
       "      <td>[What, you, will, do, Responsible, for, assisting, with, the, development, of, our, state-of-the-art, ,, advanced, analytical, machine-learning-based, software, framework, that, can, ingest, ,, structure, and, model, large, amounts, of, data, in, different, formats, and, from, different, sources, ., Capable, of, helping, with, the, design, of, systems, that, can, grow, and, maintain, competitive, advantage, ., Able, to, learn, ,, assist, and, when, needed, take, initiative, on, various, modeling, assignments, ., Qualifications, :, Experience, with, Python, Knowledge, of, some, of, the, following, :, numpy, ,, scipy, ,, pandas, ,, scikit-learn, Knowledge, of, basic, statistics, and, data, analysis, Experience, with, open, source, software, ...]</td>\n",
       "    </tr>\n",
       "    <tr>\n",
       "      <th>7</th>\n",
       "      <td>[Description, :, Looking, for, opportunities, to, use, cutting, edge, technologies, analyzing, petabytes, of, data, in, a, world, class, Hadoop, cluster, finding, useful, insights, and, innovative, ways, to, guide, consumers, in, their, journey, to, wellness, and, helping, them, achieve, their, health, ambitions, whether, it, ’, s, playing, tackle, football, with, their, grandkids, or, running, the, Inca, Trail, Marathon, ?, Aetna, 's, Provider, Advanced, Analytics, team, is, focused, on, delivering, strategically-impactful, products, to, our, members, across, all, life, stages, to, feel, the, joy, of, achieving, their, best, health, ,, in, their, own, way, ., Position, Summary, :, Leads, and, participates, in, the, ...]</td>\n",
       "    </tr>\n",
       "    <tr>\n",
       "      <th>8</th>\n",
       "      <td>[The, Mayor, ’, s, Office, of, the, Chief, Technology, Officer, (, MOCTO, ), facilitates, citywide, coordination, and, collaboration, on, technology, issues, ,, serves, as, a, catalyst, for, and, advises, agencies, on, innovation, ,, and, interacts, with, the, wider, New, York, City, technology, ecosystem, ., MOCTO, proactively, engages, with, technologists, to, help, influence, the, delivery, of, new, technologies, that, can, positively, impact, the, public, realm, ., MOCTO, helps, prepare, the, City, for, technology, transformation, and, the, outcomes, that, will, impact, the, future, of, our, City, ,, from, urban, planning, ,, to, government, services, ,, to, policy, and, decision-making, ., The, Data, ...]</td>\n",
       "    </tr>\n",
       "  </tbody>\n",
       "</table>\n",
       "</div>"
      ],
      "text/plain": [
       "                                                                                                                                                                                                                                                                                                                                                                                                                                                                                                                                                                                                                                                                                                                                                                          Full_Description\n",
       "0  [Introduction, At, IBM, we, have, an, amazing, opportunity, to, transform, the, world, with, cognitive, technology, ., By, using, the, vast, amounts, of, information, available, today, to, identify, new, patterns, and, make, new, discoveries, ,, we, are, helping, cities, become, smarter, ,, hospitals, transform, patient, care, ,, financial, institutions, minimize, risk, ,, and, pharmaceuticals, find, cures, for, rare, diseases, ., Data, scientists, work, with, enterprise, leaders, and, key, decision, makers, to, solve, business, problems, by, preparing, ,, analyzing, ,, and, understanding, data, to, deliver, insight, ,, predict, emerging, trends, ,, and, provide, recommendations, to, optimize, results, ., Data, scientists, use, a, ...]              \n",
       "1  [Mines, and, extracts, data, and, applies, statistics, and, algorithms, necessary, to, derive, insights, for, Lowe, 's, and, Lowe, 's, Digital, ., Supports, the, creation, of, an, automated, insights, generation, framework, for, Lowe, 's, business, partners, to, effectively, interpret, data, ., Provides, actionable, insights, through, data, science, on, Personalization, ,, Search, &, Navigation, ,, SEO, &, Promotions, ,, Supply, Chain, ,, Services, ,, other, company, priorities, ,, etc, ., Tracks, success, of, Lowe, 's, through, the, development, of, dashboard, reports, that, measure, financial, results, ,, customer, satisfaction, ,, and, engagement, metrics, ., Conducts, deep, statistical, analysis, ,, including, predictive, and, prescriptive, ...]\n",
       "2  [Data, Scientist, Sony, Pictures, Entertainment, is, an, equal, opportunity, employer, ., We, evaluate, qualified, applicants, without, regard, to, race, ,, color, ,, religion, ,, sex, ,, national, origin, ,, disability, ,, veteran, status, ,, age, ,, sexual, orientation, ,, gender, identity, ,, or, other, protected, characteristics, ., USA, -, Culver, City, -, Studio, Lot, -, Norman, Lear, Bldg]                                                                                                                                                                                                                                                                                                                                                                        \n",
       "3  [Small, business, owners, don, ’, t, get, the, love, they, deserve, from, traditional, banks, ., That, ’, s, where, BlueVine, comes, in, ., BlueVine, is, a, leading, provider, of, online, working, capital, financing, to, small, and, mid-sized, businesses, ., We, ’, re, using, cutting, edge, technology, to, disrupt, the, traditional, banking, industry, and, develop, the, next, generation, of, fast, and, simple, financial, products, ,, designed, for, today, ’, s, small, businesses, ., BlueVine, is, headquartered, in, Redwood, City, ,, CA, and, backed, by, leading, investors, including, Menlo, Ventures, ,, Lightspeed, Ventures, ,, Citi, Ventures, ,, SVB, Financial, ,, Nationwide, Insurance, ...]                                                          \n",
       "4  [SSRS, Data, Scientist, SSRS, ,, a, leading, data-driven, survey, research, and, data, capture, firm, ,, is, seeking, an, experienced, data, scientist, to, work, with, our, growing, team, of, skilled, data, capture, professionals, to, deploy, advanced, predictive, and, prescriptive, analytic, solutions, to, meet, our, clients, ’, often, challenging, research, needs, ., SRSS, specializes, in, rigorous, data, capture, for, public, policy, ,, health, care, ,, public, opinion, ,, and, other, non-partisan, research, areas, ., Key, Responsibilities, Use, machine, learning, methods, (, e.g., ,, cluster, analysis, ,, decision, trees, ,, random, forest, ,, neural, networks, ,, logistics, regression, ), to, model, and, predict, ...]                           \n",
       "5  [Join, a, high, performing, and, rapidly, growing, team, Valen, Analytics, is, a, rapidly, expanding, advanced, data, and, predictive, analytics, company, headquartered, in, downtown, Denver, ., Valen, ’, s, state-of-the-art, analytics, and, predictive, modeling, products, are, built, on, Valen, ’, s, unique, industry-wide, consortium, data, platform, ,, specifically, designed, for, property, and, casualty, insurance, carriers, ., If, you, want, to, help, build, an, industry-changing, company, and, you, thrive, in, a, fast-paced, environment, where, the, only, rule, is, to, WOW, customers, ,, colleagues, and, shareholders, ,, then, we, encourage, you, to, submit, your, resume, ., This, is, not, a, job, ., It, ...]                                    \n",
       "6  [What, you, will, do, Responsible, for, assisting, with, the, development, of, our, state-of-the-art, ,, advanced, analytical, machine-learning-based, software, framework, that, can, ingest, ,, structure, and, model, large, amounts, of, data, in, different, formats, and, from, different, sources, ., Capable, of, helping, with, the, design, of, systems, that, can, grow, and, maintain, competitive, advantage, ., Able, to, learn, ,, assist, and, when, needed, take, initiative, on, various, modeling, assignments, ., Qualifications, :, Experience, with, Python, Knowledge, of, some, of, the, following, :, numpy, ,, scipy, ,, pandas, ,, scikit-learn, Knowledge, of, basic, statistics, and, data, analysis, Experience, with, open, source, software, ...]      \n",
       "7  [Description, :, Looking, for, opportunities, to, use, cutting, edge, technologies, analyzing, petabytes, of, data, in, a, world, class, Hadoop, cluster, finding, useful, insights, and, innovative, ways, to, guide, consumers, in, their, journey, to, wellness, and, helping, them, achieve, their, health, ambitions, whether, it, ’, s, playing, tackle, football, with, their, grandkids, or, running, the, Inca, Trail, Marathon, ?, Aetna, 's, Provider, Advanced, Analytics, team, is, focused, on, delivering, strategically-impactful, products, to, our, members, across, all, life, stages, to, feel, the, joy, of, achieving, their, best, health, ,, in, their, own, way, ., Position, Summary, :, Leads, and, participates, in, the, ...]                             \n",
       "8  [The, Mayor, ’, s, Office, of, the, Chief, Technology, Officer, (, MOCTO, ), facilitates, citywide, coordination, and, collaboration, on, technology, issues, ,, serves, as, a, catalyst, for, and, advises, agencies, on, innovation, ,, and, interacts, with, the, wider, New, York, City, technology, ecosystem, ., MOCTO, proactively, engages, with, technologists, to, help, influence, the, delivery, of, new, technologies, that, can, positively, impact, the, public, realm, ., MOCTO, helps, prepare, the, City, for, technology, transformation, and, the, outcomes, that, will, impact, the, future, of, our, City, ,, from, urban, planning, ,, to, government, services, ,, to, policy, and, decision-making, ., The, Data, ...]                                        "
      ]
     },
     "execution_count": 39,
     "metadata": {},
     "output_type": "execute_result"
    }
   ],
   "source": [
    "#All ad dataframe\n",
    "df_descriptions = pd.DataFrame({'Full_Description': Descriptions})\n",
    "df_descriptions"
   ]
  },
  {
   "cell_type": "code",
   "execution_count": null,
   "metadata": {},
   "outputs": [],
   "source": []
  }
 ],
 "metadata": {
  "kernelspec": {
   "display_name": "Python 3",
   "language": "python",
   "name": "python3"
  },
  "language_info": {
   "codemirror_mode": {
    "name": "ipython",
    "version": 3
   },
   "file_extension": ".py",
   "mimetype": "text/x-python",
   "name": "python",
   "nbconvert_exporter": "python",
   "pygments_lexer": "ipython3",
   "version": "3.7.4"
  }
 },
 "nbformat": 4,
 "nbformat_minor": 2
}
